{
 "cells": [
  {
   "cell_type": "markdown",
   "metadata": {},
   "source": [
    "# Setup"
   ]
  },
  {
   "cell_type": "code",
   "execution_count": null,
   "metadata": {},
   "outputs": [],
   "source": [
    "import pandas as pd\n",
    "import numpy as np\n",
    "import matplotlib.pyplot as plt\n",
    "import seaborn as sns\n",
    "from PIL import Image\n",
    "%matplotlib inline\n",
    "import networkx as nx\n",
    "\n",
    "#from ipycytoscape import CytoscapeWidget\n",
    "#import netgraph\n",
    "\n",
    "#import ipycytoscape\n",
    "#import ipywidgets as widgets\n",
    "#%matplotlib widget"
   ]
  },
  {
   "cell_type": "code",
   "execution_count": null,
   "metadata": {},
   "outputs": [],
   "source": [
    "#root_dir = '/mnt/d/biotools/workshop/'\n",
    "root_dir='/root/jupyter_projects/ndm_plasmid_2021/'"
   ]
  },
  {
   "cell_type": "markdown",
   "metadata": {},
   "source": [
    "# co-occurrence matrix"
   ]
  },
  {
   "cell_type": "code",
   "execution_count": null,
   "metadata": {},
   "outputs": [],
   "source": [
    "#dir1 = 'ndm_plasmid/output/resfinder/all_ndm_complete_plasmid/'\n",
    "dir1='input/'"
   ]
  },
  {
   "cell_type": "code",
   "execution_count": null,
   "metadata": {},
   "outputs": [],
   "source": [
    "#header_line = ['File','Strain','Database','Resistance gene','Identity','Query / Template length', 'Contig','Position in contig','Predicted phenotype','Accession number']\n",
    "df_resfinder = pd.read_csv(root_dir+dir1+'all_resfinder_c_p.tab',sep='\\t',header=None)"
   ]
  },
  {
   "cell_type": "code",
   "execution_count": null,
   "metadata": {},
   "outputs": [],
   "source": [
    "df1=df_resfinder.iloc[:][[1,13]]"
   ]
  },
  {
   "cell_type": "code",
   "execution_count": null,
   "metadata": {},
   "outputs": [],
   "source": [
    "df1"
   ]
  },
  {
   "cell_type": "code",
   "execution_count": null,
   "metadata": {},
   "outputs": [],
   "source": [
    "df1"
   ]
  },
  {
   "cell_type": "code",
   "execution_count": null,
   "metadata": {},
   "outputs": [],
   "source": [
    "l2=[1 for i in range(3006)]"
   ]
  },
  {
   "cell_type": "code",
   "execution_count": null,
   "metadata": {},
   "outputs": [],
   "source": [
    "df2=pd.concat([df1,pd.Series(l2)],axis=1)"
   ]
  },
  {
   "cell_type": "code",
   "execution_count": null,
   "metadata": {},
   "outputs": [],
   "source": [
    "df2.columns=['ACC','AMR','num']"
   ]
  },
  {
   "cell_type": "markdown",
   "metadata": {},
   "source": [
    "df2.AMR[df2.AMR.str.contains('NDM')]='blaNDM'"
   ]
  },
  {
   "cell_type": "code",
   "execution_count": null,
   "metadata": {},
   "outputs": [],
   "source": [
    "df3=df2.pivot_table(index='ACC', columns='AMR', values='num',fill_value=0)"
   ]
  },
  {
   "cell_type": "code",
   "execution_count": null,
   "metadata": {},
   "outputs": [],
   "source": [
    "df3"
   ]
  },
  {
   "cell_type": "markdown",
   "metadata": {},
   "source": [
    "df3.to_csv(root_dir+dir1+'co_AMR.csv',float_format = '%.0f')"
   ]
  },
  {
   "cell_type": "code",
   "execution_count": null,
   "metadata": {},
   "outputs": [],
   "source": [
    "df_asint = df3.astype(int)\n",
    "coocc = df_asint.T.dot(df_asint)\n",
    "np.fill_diagonal(coocc.values, 0)\n",
    "coocc"
   ]
  },
  {
   "cell_type": "markdown",
   "metadata": {},
   "source": [
    "coocc.to_csv(root_dir+dir1+'co_matrix.csv',float_format = '%.0f')"
   ]
  },
  {
   "cell_type": "code",
   "execution_count": null,
   "metadata": {},
   "outputs": [],
   "source": [
    "coocc1=coocc.loc[(coocc != 0).any(axis=1), (coocc != 0).any(axis=0)]\n",
    "coocc1"
   ]
  },
  {
   "cell_type": "markdown",
   "metadata": {},
   "source": [
    "coocc1.to_csv(root_dir+dir1+'co_matrix_delall0.csv',float_format = '%.0f')"
   ]
  },
  {
   "cell_type": "code",
   "execution_count": null,
   "metadata": {},
   "outputs": [],
   "source": [
    "coocc2=coocc.loc[(coocc > 19).any(axis=1), (coocc > 19).any(axis=0)]\n",
    "coocc2"
   ]
  },
  {
   "cell_type": "code",
   "execution_count": null,
   "metadata": {},
   "outputs": [],
   "source": [
    "i, j = np.triu_indices(len(coocc1), 1)\n",
    "\n",
    "pd.DataFrame(pd.Series(\n",
    "    coocc1.values[i, j], coocc1.index[i] +' '+ coocc1.index[j]\n",
    ").sort_values(ascending=False))#.to_csv(root_dir+dir1+'co_sort1.txt',sep='\\t',float_format = '%.0f',index=True,header=False)"
   ]
  },
  {
   "cell_type": "code",
   "execution_count": null,
   "metadata": {},
   "outputs": [],
   "source": [
    "coocc.max(axis=0).max()"
   ]
  },
  {
   "cell_type": "code",
   "execution_count": null,
   "metadata": {},
   "outputs": [],
   "source": [
    "sns.set(font_scale=5)"
   ]
  },
  {
   "cell_type": "code",
   "execution_count": null,
   "metadata": {},
   "outputs": [],
   "source": [
    "plt.rc('font',family='sans-serif',size=50,style='normal')"
   ]
  },
  {
   "cell_type": "markdown",
   "metadata": {},
   "source": [
    "COLOR = 'black'\n",
    "plt.rcParams['text.color'] = COLOR\n",
    "plt.rcParams['axes.labelcolor'] = COLOR"
   ]
  },
  {
   "cell_type": "code",
   "execution_count": null,
   "metadata": {},
   "outputs": [],
   "source": [
    "cmap = sns.cubehelix_palette(start = 1.5, rot = 3, gamma=0.8, as_cmap = True)"
   ]
  },
  {
   "cell_type": "code",
   "execution_count": null,
   "metadata": {},
   "outputs": [],
   "source": [
    "#fig_path='/mnt/c/Users/Yuing/Desktop/xiang2.pdf'\n",
    "plt.figure(figsize=(80,60))\n",
    "fig=sns.heatmap(coocc2, annot=True,cmap=cmap,linewidths=.02,fmt='d',cbar_kws={\"shrink\": .7})\n",
    "#plt.show()\n",
    "fig.set_xticklabels(fig.get_xmajorticklabels(), style='italic')\n",
    "fig.set_yticklabels(fig.get_ymajorticklabels(), style='italic')\n",
    "co_fig = fig.get_figure()\n",
    "#co_fig.savefig(fig_path)"
   ]
  },
  {
   "cell_type": "markdown",
   "metadata": {},
   "source": [
    "# co-occurrence network"
   ]
  },
  {
   "cell_type": "code",
   "execution_count": null,
   "metadata": {},
   "outputs": [],
   "source": [
    "a = coocc2.stack()\n",
    "a = a[a >= 1].rename_axis(('source', 'target')).reset_index(name='weight')\n",
    "print(a)\n",
    "b=a.sort_values('weight',ascending=False)\n",
    "#b.to_csv('/root/jupyter_projects/ndm_plasmid_2021/output/file/'+'pairwise_co_AMR.txt')"
   ]
  },
  {
   "cell_type": "code",
   "execution_count": null,
   "metadata": {},
   "outputs": [],
   "source": [
    "G = nx.from_pandas_edgelist(a,  edge_attr=True)\n",
    "#nx.write_pajek(G, \"/mnt/c/Users/Yuing/Desktop/test.net\")\n",
    "#print (nx.to_dict_of_dicts(G))"
   ]
  },
  {
   "cell_type": "code",
   "execution_count": null,
   "metadata": {},
   "outputs": [],
   "source": [
    "nx.draw_spring(G)\n",
    "plt.show()"
   ]
  },
  {
   "cell_type": "markdown",
   "metadata": {},
   "source": [
    "cliq = nx.find_cliques(G)\n",
    "list(cliq)"
   ]
  },
  {
   "cell_type": "markdown",
   "metadata": {},
   "source": [
    "list(nx.make_max_clique_graph(G))"
   ]
  },
  {
   "cell_type": "code",
   "execution_count": null,
   "metadata": {},
   "outputs": [],
   "source": [
    "list1=[40,50,60,70,80]\n",
    "list2=['G'+str(i) for i in list1]\n",
    "for i,Gi in zip(list1,list2):\n",
    "    a1=[]\n",
    "    for (u, v, wt) in G.edges.data('weight'):\n",
    "        if wt >= i:\n",
    "            a1.append((u, v, wt))\n",
    "    locals()[Gi]=nx.Graph()\n",
    "    locals()[Gi].add_weighted_edges_from(a1)"
   ]
  },
  {
   "cell_type": "markdown",
   "metadata": {},
   "source": [
    "#nx.draw_networkx(G40)\n",
    "#plt.show()\n",
    "nx.write_gml(G50, \"/mnt/c/Users/Yuing/Desktop/test50.gml\")"
   ]
  },
  {
   "cell_type": "markdown",
   "metadata": {},
   "source": [
    "nodes = nx.shortest_path(G,'blaNDM-1').keys()\n",
    "s=G.subgraph(nodes)\n",
    "nx.draw_spring(s)"
   ]
  },
  {
   "cell_type": "markdown",
   "metadata": {},
   "source": [
    "pos\n",
    "circular_layout：节点在一个圆环上均匀分布\n",
    "random_layout：节点随机分布\n",
    "shell_layout：节点在同心圆上分布\n",
    "spring_layout： 用Fruchterman-Reingold算法排列节点（这个算法我不了解，样子类似多中心放射状）\n",
    "spectral_layout：根据图的拉普拉斯特征向量排列节"
   ]
  },
  {
   "cell_type": "markdown",
   "metadata": {},
   "source": [
    "fig = plt.figure(figsize=(8,8))\n",
    "\n",
    "ax1 = plt.subplot2grid((6,6),(0,0),colspan=3,rowspan=4)#colspan宽度占格，rowspan高度占格\n",
    "pos = nx.kamada_kawai_layout(G40)\n",
    "#sizes = [30 + G40.degree(v) * 100 for v in G40.nodes()]  # 得到每个节点的度数\n",
    "weights = nx.get_edge_attributes(G40,'weight').values()\n",
    "nx.draw_networkx(G40,pos=pos,\n",
    "with_labels=True, \n",
    "edge_color='crimson', width=2)\n",
    "ax1.set_facecolor('white')\n",
    "ax1.axis('off')\n",
    "\n",
    "ax2 = plt.subplot2grid((6,6),(0,3),colspan=3,rowspan=4)\n",
    "pos = nx.kamada_kawai_layout(G50)\n",
    "sizes = [30 + G50.degree(v) * 100 for v in G50.nodes()]  # 得到每个节点的度数\n",
    "weights = nx.get_edge_attributes(G50,'weight').values()\n",
    "nx.draw_networkx(G50,pos=pos,\n",
    "with_labels=True, \n",
    "edge_color='crimson', width=2)\n",
    "ax2.set_facecolor('white')\n",
    "ax2.axis('off')\n",
    "\n",
    "ax5 =  plt.subplot2grid((6,6),(4,0),colspan=2,rowspan=2)\n",
    "pos = nx.kamada_kawai_layout(G60)\n",
    "sizes = [30 + G60.degree(v) * 100 for v in G60.nodes()]  # 得到每个节点的度数\n",
    "weights = nx.get_edge_attributes(G60,'weight').values()\n",
    "nx.draw_networkx(G60,pos=pos,\n",
    "with_labels=True, \n",
    "edge_color='crimson', width=2)\n",
    "ax5.set_facecolor('white')\n",
    "ax5.axis('off')\n",
    "\n",
    "ax3 = plt.subplot2grid((6,6),(4,2),colspan=2,rowspan=2)\n",
    "pos = nx.kamada_kawai_layout(G70)\n",
    "sizes = [30 + G70.degree(v) * 100 for v in G70.nodes()]  # 得到每个节点的度数\n",
    "weights = nx.get_edge_attributes(G70,'weight').values()\n",
    "nx.draw_networkx(G70,pos=pos,\n",
    "with_labels=True, \n",
    "edge_color='crimson', width=2)\n",
    "ax3.set_facecolor('white')\n",
    "ax3.axis('off')\n",
    "\n",
    "\n",
    "ax4 = plt.subplot2grid((6,6),(4,4),colspan=2,rowspan=2)\n",
    "pos = nx.kamada_kawai_layout(G80)\n",
    "sizes = [30 + G80.degree(v) * 100 for v in G80.nodes()]  # 得到每个节点的度数\n",
    "weights = nx.get_edge_attributes(G80,'weight').values()\n",
    "labels = {e: G80.edges[e]['weight'] for e in G80.edges}\n",
    "nx.draw(G80, pos, with_labels=True,edge_color='crimson', width=2)\n",
    "#nx.draw_networkx_edge_labels(G80,pos=pos)\n",
    "ax4.set_facecolor('white')\n",
    "ax4.axis('off')\n",
    "\n",
    "#plt.tight_layout() \n",
    "#fig.set_facecolor('white')\n",
    "plt.tight_layout()\n",
    "#plt.savefig('/mnt/c/Users/Yuing/Desktop/conet2.pdf')\n",
    "plt.show()\n"
   ]
  },
  {
   "cell_type": "markdown",
   "metadata": {},
   "source": [
    "fig = plt.figure(figsize=(25,4))\n",
    "\n",
    "ax1 = plt.subplot2grid((1,7),(0,0),colspan=2,rowspan=1)#colspan宽度占格，rowspan高度占格\n",
    "pos = nx.kamada_kawai_layout(G40)\n",
    "#sizes = [30 + G40.degree(v) * 100 for v in G40.nodes()]  # 得到每个节点的度数\n",
    "weights = nx.get_edge_attributes(G40,'weight').values()\n",
    "nx.draw_networkx(G40,pos=pos,\n",
    "with_labels=True, \n",
    "edge_color='crimson', width=2)\n",
    "ax1.set_facecolor('white')\n",
    "ax1.axis('off')\n",
    "\n",
    "ax2 = plt.subplot2grid((1,7),(0,2),colspan=2,rowspan=1)\n",
    "pos = nx.kamada_kawai_layout(G50)\n",
    "sizes = [30 + G50.degree(v) * 100 for v in G50.nodes()]  # 得到每个节点的度数\n",
    "weights = nx.get_edge_attributes(G50,'weight').values()\n",
    "nx.draw_networkx(G50,pos=pos,\n",
    "with_labels=True, \n",
    "edge_color='crimson', width=2)\n",
    "ax2.set_facecolor('white')\n",
    "ax2.axis('off')\n",
    "\n",
    "ax5 =  plt.subplot2grid((1,7),(0,4),colspan=1,rowspan=1)\n",
    "pos = nx.kamada_kawai_layout(G60)\n",
    "sizes = [30 + G60.degree(v) * 100 for v in G60.nodes()]  # 得到每个节点的度数\n",
    "weights = nx.get_edge_attributes(G60,'weight').values()\n",
    "nx.draw_networkx(G60,pos=pos,\n",
    "with_labels=True, \n",
    "edge_color='crimson', width=2)\n",
    "ax5.set_facecolor('white')\n",
    "ax5.axis('off')\n",
    "\n",
    "ax3 = plt.subplot2grid((1,7),(0,5),colspan=1,rowspan=1)\n",
    "pos = nx.kamada_kawai_layout(G70)\n",
    "sizes = [30 + G70.degree(v) * 100 for v in G70.nodes()]  # 得到每个节点的度数\n",
    "weights = nx.get_edge_attributes(G70,'weight').values()\n",
    "nx.draw_networkx(G70,pos=pos,\n",
    "with_labels=True, \n",
    "edge_color='crimson', width=2)\n",
    "ax3.set_facecolor('white')\n",
    "ax3.axis('off')\n",
    "\n",
    "\n",
    "ax4 = plt.subplot2grid((1,7),(0,6),colspan=1,rowspan=1)\n",
    "pos = nx.kamada_kawai_layout(G80)\n",
    "sizes = [30 + G80.degree(v) * 100 for v in G80.nodes()]  # 得到每个节点的度数\n",
    "weights = nx.get_edge_attributes(G80,'weight').values()\n",
    "labels = {e: G80.edges[e]['weight'] for e in G80.edges}\n",
    "nx.draw(G80, pos, with_labels=True,edge_color='crimson', width=2)\n",
    "#nx.draw_networkx_edge_labels(G80,pos=pos)\n",
    "ax4.set_facecolor('white')\n",
    "ax4.axis('off')\n",
    "\n",
    "#plt.tight_layout() \n",
    "#fig.set_facecolor('white')\n",
    "#plt.tight_layout()\n",
    "#plt.savefig('/mnt/c/Users/Yuing/Desktop/conet2.pdf')\n",
    "plt.show()\n"
   ]
  },
  {
   "cell_type": "code",
   "execution_count": null,
   "metadata": {},
   "outputs": [],
   "source": [
    "gene_pa=df3.T"
   ]
  },
  {
   "cell_type": "code",
   "execution_count": null,
   "metadata": {},
   "outputs": [],
   "source": [
    "ndm_clique=list(nx.find_cliques(G60))"
   ]
  },
  {
   "cell_type": "code",
   "execution_count": null,
   "metadata": {},
   "outputs": [],
   "source": [
    "ndm_clique"
   ]
  },
  {
   "cell_type": "code",
   "execution_count": null,
   "metadata": {},
   "outputs": [],
   "source": [
    "ndm1_include_clique = [clique for clique in ndm_clique if 'blaNDM-1' in clique]"
   ]
  },
  {
   "cell_type": "code",
   "execution_count": null,
   "metadata": {},
   "outputs": [],
   "source": [
    "ndm5_include_clique = [clique for clique in ndm_clique if 'blaNDM-5' in clique]"
   ]
  },
  {
   "cell_type": "code",
   "execution_count": null,
   "metadata": {},
   "outputs": [],
   "source": [
    "ndm1_include_clique"
   ]
  },
  {
   "cell_type": "code",
   "execution_count": null,
   "metadata": {},
   "outputs": [],
   "source": [
    "ndm5_include_clique"
   ]
  },
  {
   "cell_type": "code",
   "execution_count": null,
   "metadata": {},
   "outputs": [],
   "source": [
    "certain_clique=[['sul1','aadA2','dfrA12']]"
   ]
  },
  {
   "cell_type": "code",
   "execution_count": null,
   "metadata": {},
   "outputs": [],
   "source": [
    "group_name=60\n",
    "for item in ndm1_include_clique:\n",
    "    I=[]\n",
    "    df=gene_pa[gene_pa.index.isin(item)]\n",
    "    #df.drop(['Gene'],axis=1,inplace=True)\n",
    "    for index, col in df.iteritems():\n",
    "        if col.sum() == df.shape[0]:\n",
    "            I.append(index)\n",
    "    #print(len(I))\n",
    "    #print(\"{}\\n\".format(I))\n",
    "    group_name+=1\n",
    "    #with open('./'+str(group_name)+'.txt','w') as f:\n",
    "        #f.write(\"{}\\n\".format(\"\\n\".join(str(i) for i in I)))"
   ]
  },
  {
   "cell_type": "code",
   "execution_count": null,
   "metadata": {},
   "outputs": [],
   "source": [
    "#add multi-co information"
   ]
  },
  {
   "cell_type": "code",
   "execution_count": null,
   "metadata": {},
   "outputs": [],
   "source": [
    "#dir2='ndm_plasmid/network/resfinder/'\n",
    "dir2='input/resfinder/'"
   ]
  },
  {
   "cell_type": "code",
   "execution_count": null,
   "metadata": {},
   "outputs": [],
   "source": [
    "#dir3='ndm_plasmid/output/'\n",
    "dir3='input/'"
   ]
  },
  {
   "cell_type": "code",
   "execution_count": null,
   "metadata": {},
   "outputs": [],
   "source": [
    "ndm_all_3=pd.read_csv(root_dir+dir3+'ndm_all_plsdb_merge_self_merge_mob.csv')"
   ]
  },
  {
   "cell_type": "code",
   "execution_count": null,
   "metadata": {},
   "outputs": [],
   "source": [
    "ndm_species=ndm_all_3.loc[:][['ACC_NUCCORE','rep_type']]"
   ]
  },
  {
   "cell_type": "code",
   "execution_count": null,
   "metadata": {},
   "outputs": [],
   "source": [
    "codes, uniques = pd.factorize(ndm_species.rep_type)"
   ]
  },
  {
   "cell_type": "code",
   "execution_count": null,
   "metadata": {
    "tags": []
   },
   "outputs": [],
   "source": [
    "sns.xkcd_palette()"
   ]
  },
  {
   "cell_type": "code",
   "execution_count": null,
   "metadata": {},
   "outputs": [],
   "source": [
    "eight=sns.color_palette(\"Set2\", 8).as_hex()\n",
    "eight"
   ]
  },
  {
   "cell_type": "code",
   "execution_count": null,
   "metadata": {
    "tags": []
   },
   "outputs": [],
   "source": [
    "seven=sns.color_palette(\"Set1\", 15).as_hex()[6:15]\n",
    "seven"
   ]
  },
  {
   "cell_type": "code",
   "execution_count": null,
   "metadata": {},
   "outputs": [],
   "source": [
    "sns_colors=eight+seven"
   ]
  },
  {
   "cell_type": "code",
   "execution_count": null,
   "metadata": {},
   "outputs": [],
   "source": [
    "sns_colors"
   ]
  },
  {
   "cell_type": "code",
   "execution_count": null,
   "metadata": {},
   "outputs": [],
   "source": [
    "plt.figure(figsize=(10,3))\n",
    "fig=sns.color_palette(sns_colors)\n",
    "fig"
   ]
  },
  {
   "cell_type": "code",
   "execution_count": null,
   "metadata": {},
   "outputs": [],
   "source": [
    "colors_sp=pd.DataFrame(pd.Series(sns_colors,uniques),columns=['color'])"
   ]
  },
  {
   "cell_type": "code",
   "execution_count": null,
   "metadata": {},
   "outputs": [],
   "source": [
    "colors_sp"
   ]
  },
  {
   "cell_type": "code",
   "execution_count": null,
   "metadata": {},
   "outputs": [],
   "source": [
    "#custom\n",
    "dir_customs=['40/1/41','40/1/42','40/1/43','40/1/44','40/1/45','40/1/46','40/1/47','40/5/41','50/1/52','50/1/53','50/5/51','60/61']          \n",
    "pdf_names=['co_1_41_pie','co_1_42_pie','co_1_43_pie','co_1_44_pie','co_1_45_pie','co_1_46_pie','co_1_47_pie',\n",
    "          'co_5_41_pie','co_1_52_pie','co_1_53_pie','co_5_51_pie','co_1_61_pie']"
   ]
  },
  {
   "cell_type": "code",
   "execution_count": null,
   "metadata": {
    "tags": []
   },
   "outputs": [],
   "source": [
    "import plotly.express as px\n",
    "a = 2  # number of rows\n",
    "b = 6  # number of columns\n",
    "c = 1  # initialize plot counter\n",
    "plt.figure(figsize=[30,10])\n",
    "\n",
    "#for dir_custom,pdf_name in zip(dir_customs,pdf_names):\n",
    "for dir_custom in dir_customs:\n",
    "\n",
    "    co=pd.read_csv(root_dir+dir2+dir_custom+'.txt',sep='\\t',header=None)\n",
    "    co.columns=['ACC_NUCCORE']\n",
    "\n",
    "    co_sp = pd.merge(co, ndm_species, how='left', on=['ACC_NUCCORE'])\n",
    "\n",
    "    #co_sp['taxon_genus_name'].value_counts()\n",
    "    unique=co_sp['rep_type'].value_counts().index\n",
    "    #code, unique= pd.factorize(co_sp.taxon_genus_name)\n",
    "    #print(unique)\n",
    "    \n",
    "    plt.subplot(a, b, c)\n",
    "    patches, labels, pct_texts=plt.pie(co_sp['rep_type'].value_counts(),\n",
    "       # kind='pie',\n",
    "        autopct=\"%.1f%%\",\n",
    "        colors=colors_sp.loc[unique]['color'].values.tolist(),\n",
    "        #title=\"\",\n",
    "        #explode=[0,0.1,0,0,0],                          \n",
    "        labels=['']*(len(colors_sp.loc[unique]['color'].values.tolist())),\n",
    "        textprops = {'fontsize':12,'color':\"black\",'family':'sans-serif'},\n",
    "        #startangle=140,\n",
    "        rotatelabels=True,\n",
    "        #labeldistance=None,\n",
    "        pctdistance=0.8,\n",
    "        wedgeprops = {'linewidth': 0.01,'edgecolor': 'black'}\n",
    "        #rotatelabels=True\n",
    "        #frame=True\n",
    "    )\n",
    "    #rotate the texts\n",
    "    for label, pct_text in zip(labels, pct_texts):\n",
    "        pct_text.set_rotation(label.get_rotation())\n",
    "    c=c+1\n",
    "    #plt.tight_layout()\n",
    "#plt.show()\n",
    "    plt.legend(colors_sp.index.tolist(),ncol=2,loc='best',prop = {'size':11,'family':'sans-serif'})\n",
    "plt.savefig(root_dir+dir2+'co_inc.pdf')"
   ]
  },
  {
   "cell_type": "code",
   "execution_count": null,
   "metadata": {},
   "outputs": [],
   "source": [
    "!pip list"
   ]
  },
  {
   "cell_type": "code",
   "execution_count": null,
   "metadata": {},
   "outputs": [],
   "source": [
    "!python3 --version"
   ]
  },
  {
   "cell_type": "code",
   "execution_count": null,
   "metadata": {},
   "outputs": [],
   "source": []
  }
 ],
 "metadata": {
  "kernelspec": {
   "display_name": "Python 3",
   "language": "python",
   "name": "python3"
  },
  "language_info": {
   "codemirror_mode": {
    "name": "ipython",
    "version": 3
   },
   "file_extension": ".py",
   "mimetype": "text/x-python",
   "name": "python",
   "nbconvert_exporter": "python",
   "pygments_lexer": "ipython3",
   "version": "3.6.8"
  },
  "toc-autonumbering": true
 },
 "nbformat": 4,
 "nbformat_minor": 4
}
