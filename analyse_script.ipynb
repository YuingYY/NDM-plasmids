{
 "cells": [
  {
   "cell_type": "markdown",
   "id": "fad5bcca-add3-4b04-b56f-bbea21b480e7",
   "metadata": {},
   "source": [
    "# Setup"
   ]
  },
  {
   "cell_type": "code",
   "execution_count": null,
   "id": "c05a54ec-39a4-4c02-8659-0a53f6964c6e",
   "metadata": {},
   "outputs": [],
   "source": [
    "set.seed(1207)"
   ]
  },
  {
   "cell_type": "code",
   "execution_count": null,
   "id": "fc35a030-cf1a-4f03-8030-239d25fd26fd",
   "metadata": {},
   "outputs": [],
   "source": [
    "knitr::opts_chunk$set(echo = TRUE)\n",
    "knitr::opts_chunk$set(fig.width=20, fig.height=15) "
   ]
  },
  {
   "cell_type": "markdown",
   "id": "3b56e5fd-0db2-4c66-9700-794fcb8478b0",
   "metadata": {},
   "source": [
    "# Load"
   ]
  },
  {
   "cell_type": "markdown",
   "id": "744482c9-11a6-4f2b-be8e-392efd8e75c2",
   "metadata": {},
   "source": [
    "\"randomcoloR\",\"DECIPHER\",'Hmisc',"
   ]
  },
  {
   "cell_type": "code",
   "execution_count": null,
   "id": "90ab4736-2946-46eb-8457-8174f2e35be3",
   "metadata": {},
   "outputs": [],
   "source": [
    "#install.packages('PopGenReport',repos='https://mirrors.tongji.edu.cn/CRAN/')\n",
    "#library(PopGenReport)"
   ]
  },
  {
   "cell_type": "code",
   "execution_count": null,
   "id": "32144f72-64e2-4244-aaba-291de5ffbbc5",
   "metadata": {
    "tags": []
   },
   "outputs": [],
   "source": [
    "list.of.packages <- c( \"tidyverse\",\"Biostrings\",\"ggtree\")\n",
    "new.packages <- list.of.packages[!(list.of.packages %in% installed.packages()[,\"Package\"])]\n",
    "if(length(new.packages)) BiocManager::install(new.packages)\n",
    "lapply(list.of.packages, library, character.only=T)"
   ]
  },
  {
   "cell_type": "code",
   "execution_count": null,
   "id": "7591887b-1797-4171-9506-a0e7bd32f7f8",
   "metadata": {
    "tags": []
   },
   "outputs": [],
   "source": [
    "list.of.packages <- c(\"readr\",\"tidyr\",\"Hmisc\",\"plyr\",\"randomcoloR\",\"PopGenReport\") # replace xx and yy with package names\n",
    "new.packages <- list.of.packages[!(list.of.packages %in% installed.packages()[,\"Package\"])]\n",
    "if(length(new.packages)) install.packages(new.packages)\n",
    "lapply(list.of.packages, library, character.only=T)"
   ]
  },
  {
   "cell_type": "code",
   "execution_count": null,
   "id": "70e6097a-62f2-4557-a9f1-282ed8e69860",
   "metadata": {
    "tags": []
   },
   "outputs": [],
   "source": [
    "list.of.packages <- c(\"ggplot2\",\"ape\",\"cowplot\",\"UpSetR\",\"reshape2\",\"ggpubr\",\"phangorn\",\"factoextra\",\"RColorBrewer\",\"gplots\",\"lsei\") # replace xx and yy with package names\n",
    "new.packages <- list.of.packages[!(list.of.packages %in% installed.packages()[,\"Package\"])]\n",
    "if(length(new.packages)) install.packages(new.packages)\n",
    "lapply(list.of.packages, library, character.only=T)"
   ]
  },
  {
   "cell_type": "code",
   "execution_count": null,
   "id": "8da7f507-241b-447a-ad2b-8e73a17aa57f",
   "metadata": {
    "tags": []
   },
   "outputs": [],
   "source": [
    "list.of.packages <- c(\"npsurv\",\"fitdistrplus\",\"scales\",\"maptools\",\"maps\",\"ggthemes\",\"scatterpie\",\"NbClust\",\"radiator\",\"adegenet\",\"rhierbaps\",\"dplyr\",\"dartR\",\"poppr\")\n",
    "new.packages <- list.of.packages[!(list.of.packages %in% installed.packages()[,\"Package\"])]\n",
    "if(length(new.packages)) install.packages(new.packages)\n",
    "lapply(list.of.packages, library, character.only=T)"
   ]
  },
  {
   "cell_type": "code",
   "execution_count": null,
   "id": "427d22d5-3fd4-43a8-88a6-cb218ba6b836",
   "metadata": {},
   "outputs": [],
   "source": [
    "list.of.packages <- c(\"dendextend\",\"viridis\",\"phylogram\",\"colorspace\") # replace xx and yy with package names\n",
    "new.packages <- list.of.packages[!(list.of.packages %in% installed.packages()[,\"Package\"])]\n",
    "if(length(new.packages)) install.packages(new.packages)\n",
    "lapply(list.of.packages, library, character.only=T)"
   ]
  },
  {
   "cell_type": "code",
   "execution_count": null,
   "id": "2342353f-4325-440a-a26d-2c61924caa6c",
   "metadata": {},
   "outputs": [],
   "source": [
    "#library(mlplasmids)\n",
    "library(vcfR)\n",
    "#library(adegenet)"
   ]
  },
  {
   "cell_type": "code",
   "execution_count": null,
   "id": "28b44e49-31fa-477d-bb14-de68324253fc",
   "metadata": {},
   "outputs": [],
   "source": [
    "color = grDevices::colors()[grep('gr(a|e)y', grDevices::colors(), invert = T)]#设置调色盘"
   ]
  },
  {
   "cell_type": "code",
   "execution_count": null,
   "id": "ecf9ae32-32d1-4d01-848a-846c11896849",
   "metadata": {},
   "outputs": [],
   "source": [
    "qual_col_pals = brewer.pal.info[brewer.pal.info$category == 'qual',]\n",
    "col_vector = unlist(mapply(brewer.pal, qual_col_pals$maxcolors, rownames(qual_col_pals)))#方案二，74种"
   ]
  },
  {
   "cell_type": "code",
   "execution_count": null,
   "id": "947bb78f-7806-4147-94c2-45316105439c",
   "metadata": {},
   "outputs": [],
   "source": [
    "output_fig='./output/fig/'\n",
    "output_file='./output/file/'"
   ]
  },
  {
   "cell_type": "code",
   "execution_count": null,
   "id": "966dd09c-bf3e-4e58-b39e-93e9aa3ce4ad",
   "metadata": {},
   "outputs": [],
   "source": [
    "blast<-read.csv('./input/blast.csv',stringsAsFactors=F,header=T,row.names=NULL,na.strings = \"\")\n",
    "addblast<-read.csv('./input/addblast.csv',stringsAsFactors=F,header=T,row.names=NULL,na.strings = \"\")\n",
    "\n",
    "addout<-left_join(addblast,blast,by='ACC')\n",
    "\n",
    "write.csv(x =addout, file = './input/addout.csv', row.names = FALSE)"
   ]
  },
  {
   "cell_type": "markdown",
   "id": "18b4f4ff-7b6b-4522-ac19-a92abfc71143",
   "metadata": {},
   "source": [
    "# Processing"
   ]
  },
  {
   "cell_type": "markdown",
   "id": "932f019e-352d-4d98-a847-3d54504208a2",
   "metadata": {},
   "source": [
    "## plsdb filtering"
   ]
  },
  {
   "cell_type": "code",
   "execution_count": null,
   "id": "8514cb74-8bf9-4789-8da9-96be3e843922",
   "metadata": {
    "tags": []
   },
   "outputs": [],
   "source": [
    "#ndm_ncbi<-read.table('input/ndm_acc.txt',stringsAsFactors=F)\n",
    "\n",
    "#plsdb<-read.csv('input/plsdb.tsv',sep='\\t',header=T,stringsAsFactors=F,row.names=NULL,fill=TRUE,quote=\"\")\n",
    "\n",
    "#ndm_plsdb<-plsdb[which((plsdb$ACC_NUCCORE %in% unique(ndm_ncbi$V1)) | (plsdb$Identical %in% unique(ndm_ncbi$V1))),]\n",
    "\n",
    "#fusion plasmids\n",
    "#fusion = ndm_ncbi[which((duplicated(ndm_ncbi$V1)) & (grepl('NDM',ndm_ncbi$V2))),]$V1\n",
    "\n",
    "#ndm_plsdb<-ndm_plsdb[-which(ndm_plsdb$ACC_NUCCORE %in% fusion),]"
   ]
  },
  {
   "cell_type": "markdown",
   "id": "b8793205-e0dd-4240-9427-a56fbba12625",
   "metadata": {},
   "source": [
    "## supplement information "
   ]
  },
  {
   "cell_type": "markdown",
   "id": "5315b404-fac7-4da3-a8e2-768ea592f212",
   "metadata": {},
   "source": [
    "### mob-suite"
   ]
  },
  {
   "cell_type": "markdown",
   "id": "8d1f3505-38f1-4aa7-bb8d-4cfe6387a626",
   "metadata": {},
   "source": [
    "### by biopython(reference.title,pmid,journal,abstract,subtype,etc)"
   ]
  },
  {
   "cell_type": "code",
   "execution_count": null,
   "id": "2d5161e4-3c8c-428b-b8be-214f6ad57c04",
   "metadata": {},
   "outputs": [],
   "source": [
    "#plsdb_ndm_mob<-read.csv('./input/plsdb_ndm_mob.csv',stringsAsFactors=F,header=T,row.names=NULL,na.strings = \"\")\n",
    "\n",
    "#add_gb<-read.csv('./input/add_gb.tsv',sep='\\t',stringsAsFactors=F,header=F,row.names=NULL,na.strings = \"\")\n",
    "#colnames(add_gb)<-c('ACC_NUCCORE','host','country','isolation.source','reference.title','journal','pmid')\n",
    "\n",
    "#subtype<-read.csv('./input/ndm592subtype2.txt',sep='\\t',stringsAsFactors=F,header=F,row.names=NULL,na.strings = \"\")\n",
    "#colnames(subtype)<-c('ACC_NUCCORE','subtype')\n",
    "\n",
    "#add_ab<-read.csv('./input/ndm_ab.txt',sep='\\t',stringsAsFactors=F,header=F,row.names=NULL,quote=\"\",na.strings = \"\")\n",
    "#colnames(add_ab)<-c('pmid','abstract')\n",
    "\n",
    "#plsdb_ndm_mob_gb<-left_join(plsdb_ndm_mob,unique(add_gb),by='ACC_NUCCORE')\n",
    "\n",
    "#plsdb_ndm_mob_gb_sub<-left_join(plsdb_ndm_mob_gb,unique(subtype),by='ACC_NUCCORE')\n",
    "\n",
    "#plsdb_ndm_mob_gb_sub_ab<-left_join(plsdb_ndm_mob_gb_sub,unique(add_ab),by='pmid')"
   ]
  },
  {
   "cell_type": "code",
   "execution_count": null,
   "id": "852f6907-2750-474c-86df-3f86e3e674ea",
   "metadata": {},
   "outputs": [],
   "source": [
    "#write.table (plsdb_ndm_mob_gb_sub_ab, file ='./input/complete_plasmid_metadata.txt', sep =\"\\t\", row.names =FALSE, col.names =TRUE, quote =F)"
   ]
  },
  {
   "cell_type": "markdown",
   "id": "b07ccf8d-a384-4b69-9f0f-cbecb37f1801",
   "metadata": {},
   "source": [
    "### supplement host"
   ]
  },
  {
   "cell_type": "code",
   "execution_count": null,
   "id": "0118dbdd-fd9c-4777-8aa5-b384554fce8b",
   "metadata": {},
   "outputs": [],
   "source": [
    "ndm_all<-read.csv(\"./input/complete_plasmid_metadata.txt\",header=T,stringsAsFactors=F,sep=\"\\t\",row.names=NULL)\n",
    "\n",
    "cols1 <- c('Host_BIOSAMPLE' , 'host')\n",
    "ndm_all$host_all <- apply( ndm_all[ , cols1 ] , 1 , paste , collapse = \",\" )\n",
    "\n",
    "cols2 <- c('IsolationSource_BIOSAMPLE' , 'isolation.source')\n",
    "ndm_all$isolation_all <- apply( ndm_all[ , cols2 ] , 1 , paste , collapse = \",\" )"
   ]
  },
  {
   "cell_type": "code",
   "execution_count": null,
   "id": "484bf746-6b79-45d0-b117-779fe9afcfbc",
   "metadata": {},
   "outputs": [],
   "source": [
    "ndm_all %>%\n",
    "dplyr::count(host_all)"
   ]
  },
  {
   "cell_type": "code",
   "execution_count": null,
   "id": "7a8683a5-3d00-4636-94bf-ea2341b1867d",
   "metadata": {},
   "outputs": [],
   "source": [
    "other_index<-which(ndm_all$host_all %in% c('Missing,Missing'))\n",
    "ndm_all$host_all[other_index]<-ndm_all$isolation_all[other_index]"
   ]
  },
  {
   "cell_type": "code",
   "execution_count": null,
   "id": "d2376fa8-c60a-4ad5-827d-386b7c3389f5",
   "metadata": {},
   "outputs": [],
   "source": [
    "ndm_all$host_all[which(grepl('water|soil|sediment|sewage|river|wastewater|greenwood|environment', ndm_all$host_all,ignore.case = TRUE))] <- 'Environment'\n",
    "ndm_all$host_all[which(grepl('hospital|clinical|patient', ndm_all$host_all,ignore.case = TRUE))] <- 'Patient'\n",
    "ndm_all$host_all[which(grepl('Homo sapiens|Homo|skin|sputum|stool|Transtracheal|rectal|fecal|feces|anus|human|blood|wound|urine|urinary|abdominal|Patient', ndm_all$host_all,ignore.case = TRUE))] <- 'Homo sapiens'\n",
    "ndm_all$host_all[which(grepl('Canis|cat|chicken|dog|duck|Milvus|pig|goose|milk|swine|bird|dairy|pork|shrimp|retail', ndm_all$host_all,ignore.case = TRUE))] <- 'Animal'\n",
    "ndm_all$host_all[which(grepl('cucumber', ndm_all$host_all,ignore.case = TRUE))] <- 'Vegetable'\n",
    "\n",
    "other2_index<-which(!ndm_all$host_all %in% c('Patient','Homo sapiens','Animal','Environment','Vegetable'))\n",
    "ndm_all$host_all[other2_index]<-'Missing'"
   ]
  },
  {
   "cell_type": "code",
   "execution_count": null,
   "id": "8b73f604-066c-45e9-8da4-2485fe0f3225",
   "metadata": {},
   "outputs": [],
   "source": [
    "ndm_all %>%\n",
    "dplyr::count(host_all)"
   ]
  },
  {
   "cell_type": "code",
   "execution_count": null,
   "id": "693246db-7254-4f2a-9a72-6f4eb6c3991e",
   "metadata": {},
   "outputs": [],
   "source": [
    "ndm_all$host_all[which((ndm_all$host_all == 'Missing') & (grepl('Homo sapiens|Homo|skin|sputum|stool|Transtracheal|rectal|fecal|feces|anus|human|blood|wound|urine|urinary|abdominal|Patient|clinical|hospital', ndm_all$reference.title,ignore.case = TRUE)))] <- 'Homo sapiens'\n",
    "ndm_all$host_all[which((ndm_all$host_all == 'Missing') & (grepl('Homo sapiens|Homo|skin|sputum|stool|Transtracheal|rectal|fecal|feces|anus|human|blood|wound|urine|urinary|abdominal|Patient|clinical|hospital', ndm_all$abstract,ignore.case = TRUE)))] <- 'Homo sapiens'"
   ]
  },
  {
   "cell_type": "code",
   "execution_count": null,
   "id": "aa2946bc-b8f2-4a48-a0b1-1cbaefabd358",
   "metadata": {},
   "outputs": [],
   "source": [
    "ndm_all$host_all[which((ndm_all$host_all == 'Missing') & (grepl('farm|goose|agricultural|animal|pigs', ndm_all$reference.title,ignore.case = TRUE)))] <- 'Animal'\n",
    "ndm_all$host_all[which((ndm_all$host_all == 'Missing') & (grepl('farm|goose|agricultural|animal|pigs|Canis|cat|chicken|dog|duck|Milvus|pig|goose|milk|swine|bird|dairy|pork|shrimp|retail|food', ndm_all$abstract,ignore.case = TRUE)))] <- 'Animal'"
   ]
  },
  {
   "cell_type": "code",
   "execution_count": null,
   "id": "48f47ceb-dad2-466a-a2a5-23a779b7407b",
   "metadata": {},
   "outputs": [],
   "source": [
    "ndm_all$host_all[which((ndm_all$host_all == 'Missing') & (grepl('environment', ndm_all$reference.title,ignore.case = TRUE)))] <- 'Environment'\n",
    "ndm_all$host_all[which((ndm_all$host_all == 'Missing') & (grepl('water|soil|sediment|sewage|river|wastewater|greenwood|environment', ndm_all$abstract,ignore.case = TRUE)))] <- 'Environment'"
   ]
  },
  {
   "cell_type": "code",
   "execution_count": null,
   "id": "4ff2c69f-3fc5-448d-94b3-64a11d5c1a0d",
   "metadata": {},
   "outputs": [],
   "source": [
    "ndm_all %>%\n",
    "dplyr::count(host_all)"
   ]
  },
  {
   "cell_type": "code",
   "execution_count": null,
   "id": "c40f7906-7f65-4490-8c82-ff98e874be53",
   "metadata": {},
   "outputs": [],
   "source": [
    "#by manually searching\n",
    "ndm_all[which( (grepl('Missing', ndm_all$host_all,ignore.case = TRUE))\n",
    "              & !(ndm_all$reference.title == 'Direct Submission')\n",
    "              & !(ndm_all$journal == 'Unpublished')),]$host_all<-rep('Homo sapiens',6)"
   ]
  },
  {
   "cell_type": "markdown",
   "id": "86a2a526-81b7-4dfd-bfb3-ead3ee9a1686",
   "metadata": {},
   "source": [
    "### supplement subtype"
   ]
  },
  {
   "cell_type": "code",
   "execution_count": null,
   "id": "3f424cf6-2c23-4d23-b76e-d9871afb2fee",
   "metadata": {},
   "outputs": [],
   "source": [
    "ndm_all$subtype[which((ndm_all$subtype == 'Missing') & (grepl('NDM-1', ndm_all$reference.title,ignore.case = TRUE)))] <- 'NDM-1'\n",
    "ndm_all$subtype[which((ndm_all$subtype == 'Missing') & (grepl('NDM-5', ndm_all$reference.title,ignore.case = TRUE)))] <- 'NDM-5'\n",
    "ndm_all$subtype[which((ndm_all$subtype == 'Missing') & (grepl('NDM-9', ndm_all$reference.title,ignore.case = TRUE)))] <- 'NDM-9'\n",
    "\n",
    "ndm_all$subtype[which((ndm_all$subtype == 'Missing') & (grepl('NDM-1', ndm_all$abstract,ignore.case = TRUE)))] <- 'NDM-1'\n",
    "ndm_all$subtype[which((ndm_all$subtype == 'Missing') & (grepl('NDM-5', ndm_all$abstract,ignore.case = TRUE)))] <- 'NDM-5'"
   ]
  },
  {
   "cell_type": "code",
   "execution_count": null,
   "id": "7df89f64-dc30-47a3-82cd-782d1337b69d",
   "metadata": {},
   "outputs": [],
   "source": [
    "ndm_all[which(ndm_all$subtype == 'Missing'),]$ACC_NUCCORE"
   ]
  },
  {
   "cell_type": "code",
   "execution_count": null,
   "id": "0b1c4f07-7021-4fd4-92ea-8d9aa2824a1e",
   "metadata": {},
   "outputs": [],
   "source": [
    "#by manually searching\n",
    "ndm_all[which(ndm_all$subtype == 'Missing'),]$subtype<-c('NDM-5','NDM-1','NDM-1')"
   ]
  },
  {
   "cell_type": "code",
   "execution_count": null,
   "id": "6f925808-1491-4525-8188-198282260ed5",
   "metadata": {},
   "outputs": [],
   "source": [
    "ndm_all %>%\n",
    "dplyr::count(subtype)"
   ]
  },
  {
   "cell_type": "markdown",
   "id": "a981aef8-7d6a-4cd1-9a6b-5e0d5e060c36",
   "metadata": {},
   "source": [
    "### supplement location"
   ]
  },
  {
   "cell_type": "code",
   "execution_count": null,
   "id": "f714c0cd-74e1-4c20-9865-ebd06d742589",
   "metadata": {},
   "outputs": [],
   "source": [
    "cols3 <- c('country' , 'loc_parsed','Location_BIOSAMPLE')\n",
    "ndm_all$location_all <- apply( ndm_all[ , cols3 ] , 1 , paste , collapse = \";\" )"
   ]
  },
  {
   "cell_type": "code",
   "execution_count": null,
   "id": "794e085c-80f3-4fe1-911b-d0622f257d65",
   "metadata": {},
   "outputs": [],
   "source": [
    "ndm_all$location_all[which(grepl('China|Taiwan|Hong|Macao', ndm_all$location_all,ignore.case = TRUE))] <- 'China'\n",
    "\n",
    "ndm_all$location_all[which(grepl('United Kingdom', ndm_all$location_all,ignore.case = TRUE))] <- 'United Kingdom'\n",
    "\n",
    "ndm_all$location_all[which(grepl('South Africa', ndm_all$location_all,ignore.case = TRUE))] <- 'South Africa'\n",
    "\n",
    "ndm_all$location_all[which(grepl('Korea', ndm_all$location_all,ignore.case = TRUE))] <- 'South Korea'\n",
    "\n",
    "ndm_all$location_all[which(grepl('Democratic', ndm_all$location_all,ignore.case = TRUE))] <- 'Denmark'\n",
    "\n",
    "ndm_all$location_all[which(grepl('USA|America', ndm_all$location_all,ignore.case = TRUE))] <- 'United States'"
   ]
  },
  {
   "cell_type": "code",
   "execution_count": null,
   "id": "872a14c9-709e-463c-bb8c-511e126f02a8",
   "metadata": {},
   "outputs": [],
   "source": [
    "ndm_all$location_all[which(grepl('missing', ndm_all$location_all,ignore.case = TRUE))]<-ndm_all$Location_BIOSAMPLE[which(grepl('missing', ndm_all$location_all,ignore.case = TRUE))]"
   ]
  },
  {
   "cell_type": "code",
   "execution_count": null,
   "id": "a85707df-539c-4cb3-95a1-acaa587bea38",
   "metadata": {},
   "outputs": [],
   "source": [
    "ndm_all$location_all <- str_split_fixed(ndm_all$location_all, \"\\\\;\", 2)[,1]"
   ]
  },
  {
   "cell_type": "code",
   "execution_count": null,
   "id": "b1375531-0dff-44ab-b61d-957b703002a1",
   "metadata": {},
   "outputs": [],
   "source": [
    "ndm_all$location_all <- str_split_fixed(ndm_all$location_all, \"\\\\:\", 2)[,1]"
   ]
  },
  {
   "cell_type": "code",
   "execution_count": null,
   "id": "193f8a77-8b08-4897-ac6b-9f7ccc57e546",
   "metadata": {
    "scrolled": true
   },
   "outputs": [],
   "source": [
    "ndm_all %>% \n",
    "    dplyr::count(location_all)"
   ]
  },
  {
   "cell_type": "code",
   "execution_count": null,
   "id": "8385d80e-97f2-4159-bf09-4f831ed674d6",
   "metadata": {},
   "outputs": [],
   "source": [
    "ndm_all$location_all[which(grepl('China|Taiwan|Hong|Macao|Lishui|beijing', ndm_all$abstract,ignore.case = TRUE))] <- 'China'\n",
    "ndm_all$location_all[which(grepl('China|Taiwan|Hong|Macao|Lishui|beijing', ndm_all$reference.title,ignore.case = TRUE))] <- 'China'"
   ]
  },
  {
   "cell_type": "code",
   "execution_count": null,
   "id": "c94c2ea0-f0a7-4ed3-9dbf-27abb85857c9",
   "metadata": {},
   "outputs": [],
   "source": [
    "all_country=c('Italy','Czech','United Arab Emirates','South Korea','Myanmar','Latin American','Poland',\n",
    "             'Portugal','United Kingdom','Bulgaria','Thailand','Canada','India','Singapore','Romania',\n",
    "             'United States','Brazil','German','Lebanese','Argentina','Denmark','Japan','South Africa',\n",
    "             'Morocco','Afghanistan')\n",
    "for (x in all_country){\n",
    "    ndm_all$location_all[which(grepl(x, ndm_all$abstract,ignore.case = TRUE))] <- x\n",
    "    ndm_all$location_all[which(grepl(x, ndm_all$reference.title,ignore.case = TRUE))] <- x\n",
    "}"
   ]
  },
  {
   "cell_type": "code",
   "execution_count": null,
   "id": "599292ae-4e49-46f1-ac00-9f2bd573f5e0",
   "metadata": {},
   "outputs": [],
   "source": [
    "ndm_all$location_all[which(grepl('Lebanese', ndm_all$location_all,ignore.case = TRUE))] <- 'Lebanon'\n",
    "ndm_all$location_all[which(grepl('German', ndm_all$location_all,ignore.case = TRUE))] <- 'Germany'"
   ]
  },
  {
   "cell_type": "code",
   "execution_count": null,
   "id": "7b265540-ae4b-4dcb-8716-594bb0686aa4",
   "metadata": {
    "scrolled": true
   },
   "outputs": [],
   "source": [
    "ndm_all %>% \n",
    "    dplyr::count(location_all)"
   ]
  },
  {
   "cell_type": "code",
   "execution_count": null,
   "id": "015719c1-3e57-4afd-b140-97658d6b3ea5",
   "metadata": {},
   "outputs": [],
   "source": [
    "ndm_all[which( (grepl('Missing', ndm_all$location_all,ignore.case = TRUE))\n",
    "              & !(ndm_all$reference.title == 'Direct Submission')\n",
    "              & !(ndm_all$journal == 'Unpublished')),]$location_all<-c('China','Czech','Czech','Australia','Australia','Australia','United States','China',\n",
    "                                                                     'China','India','India','Japan','China','Italy','Czech','China','China','France',\n",
    "                                                                      'Japan','France') "
   ]
  },
  {
   "cell_type": "code",
   "execution_count": null,
   "id": "a860e91b-69b2-47ac-9a2b-22439087bda1",
   "metadata": {},
   "outputs": [],
   "source": [
    "ndm_all$Location2<-ndm_all$location_all"
   ]
  },
  {
   "cell_type": "code",
   "execution_count": null,
   "id": "1a242855-756b-4978-b52a-abbcaca40542",
   "metadata": {},
   "outputs": [],
   "source": [
    "ndm_all$Location2[which(grepl('Afghanistan|Armenia|Azerbaijan|Bahrain|Viet|Bangladesh|Bhutan|Brunei|Cambodia|China|Cyprus|East Timor|Georgia|India|Indonesia|Iran|Iraq|Israel|Japan|Jordan|Kazakhstan|Kuwait|Kyrgyzstan|Laos|Lebanon|Malaysia|Maldives|Mongolia|Myanmar|Nepal|North Korea|Oman|Pakistan|State of Palestine|Jerusalem|Philippines|Qatar|Russia|Saudi Arabia|Singapore|South Korea|Sri Lanka|Syria|Taiwan|Tajikistan|Thailand|Turkey|Turkmenistan|United Arab|Uzbekistan|Vietnam|Yemen|Lebanese', ndm_all$location_all,ignore.case = TRUE))] <- 'Asia'\n",
    "ndm_all$Location2[which(grepl('Albania|Andorra|Armenia|Austria|Azerbaijan|Belarus|Belgium|Bosnia and Herzegovina|Bulgaria|Croatia|Cyprus|Czech|Denmark|Estonia|Finland|France|Georgia|Germany|Greece|Hungary|Iceland|Republic of Ireland|Italy|Kazakhstan|Latvia|Liechtenstein|Lithuania|Luxembourg|Malta|Moldova|Monaco|Montenegro|Netherlands|North Macedonia|Norway|Poland|Portugal|Romania|Russia|San Marino|Serbia|Slovakia|Slovenia|Spain|Sweden|Switzerland|Turkey|Ukraine|United Kingdom|Vatican City', ndm_all$location_all,ignore.case = TRUE))] <- 'Europe'\n",
    "ndm_all$Location2[which(grepl('Nigeria|South Africa|Egypt|Algeria|Angola|Morocco|Kenya|Ethiopia|Libya|Ghana|Malawi|Niger|Tanzania', ndm_all$location_all,ignore.case = TRUE))] <- 'Africa'\n",
    "ndm_all$Location2[which(grepl('Anguilla|Antigua and Barbuda|Aruba|Bahamas|Barbados|Belize|Bermuda|Bonaire|British Virgin Islands|Canada|Cayman Islands|France|Costa Rica|Cuba|Curaçao|Dominica|Dominican Republic|El Salvador|Venezuela|Greenland|Grenada|France|Guantanamo Bay Naval Base|Guatemala|Haiti|Honduras|Jamaica|France|Mexico|Montserrat|Brades|Nicaragua|Nueva Esparta|Panama|Puerto Rico|Saba|San Andrés and Providencia|Saint Barthélemy|Saint Kitts and Nevis|Saint Lucia|Saint Martin|Saint Pierre and Miquelon|Saint Vincent and the Grenadines|Sint Eustatius|Sint Maarten|Trinidad and Tobago|Turks and Caicos Islands|United States|United States Virgin Islands|USA', ndm_all$location_all,ignore.case = TRUE))] <- 'North America'\n",
    "ndm_all$Location2[which(grepl('Argentina|Bolivia|Sucre|Norway|Brazil|Chile|Colombia|Ecuador|Falkland Islands|French Guiana|Guyana|Paraguay|Peru|South Georgia and the South Sandwich Islands|Suriname|Uruguay|Venezuela', ndm_all$location_all,ignore.case = TRUE))] <- 'South America'\n",
    "ndm_all$Location2[which(grepl('Australia|Fiji|Kiribati|Marshall Islands|Majuro|Micronesia|Nauru|New Zealand|Palau|Papua New Guinea|Samoa|Solomon Islands|Tonga|Tuvalu|Vanuatu|latin', ndm_all$location_all,ignore.case = TRUE))] <- 'Australia'"
   ]
  },
  {
   "cell_type": "code",
   "execution_count": null,
   "id": "3d753119-3ac8-462b-b0b2-2142bf195876",
   "metadata": {},
   "outputs": [],
   "source": [
    "ndm_all %>%\n",
    "    dplyr::count(Location2)"
   ]
  },
  {
   "cell_type": "markdown",
   "id": "f7323b75-7e1f-45b3-b289-ba867305204e",
   "metadata": {},
   "source": [
    "# Length Distribution"
   ]
  },
  {
   "cell_type": "markdown",
   "id": "b89e5507-c81a-4422-b552-1fb6e3ce71ac",
   "metadata": {},
   "source": [
    "## by host"
   ]
  },
  {
   "cell_type": "code",
   "execution_count": null,
   "id": "a8a96736-bd3b-46bd-9071-8a315d586c7b",
   "metadata": {},
   "outputs": [],
   "source": [
    "ndm_all_del_missing<-ndm_all[which((ndm_all$subtype %in% c('NDM-1','NDM-5','NDM-9')) & !(ndm_all$host_all %in% c('Vegetable','Missing'))),]"
   ]
  },
  {
   "cell_type": "markdown",
   "id": "6ead45fb-a31d-45fb-967f-e2600750a61e",
   "metadata": {},
   "source": [
    "ndm_all_del_missing<-ndm_all_del_missing[-which(ndm_all_del_missing$subtype %in% c('NDM-4','NDM-6')),]\n",
    "#ndm_all_del_missing[which(ndm_all_del_missing$subtype %in% c('NDM-4','NDM-6')),]$subtype<-'Others'\n",
    "\n",
    "#ndm_all_del_missing$subtype <- factor(ndm_all_del_missing$subtype, levels=c(\"Others\", \"NDM-9\", \"NDM-5\",\"NDM-1\"), ordered=TRUE)"
   ]
  },
  {
   "cell_type": "code",
   "execution_count": null,
   "id": "df8213f8-08b2-4779-8006-098490c2f0eb",
   "metadata": {},
   "outputs": [],
   "source": [
    "source('./geom_flat_violin.R')"
   ]
  },
  {
   "cell_type": "code",
   "execution_count": null,
   "id": "d3f110ad-1e69-45fc-8286-224c3268915e",
   "metadata": {},
   "outputs": [],
   "source": [
    "g1 <- ggplot(data = ndm_all_del_missing, aes(y = Length_NUCCORE/1e3, x = subtype, fill = subtype)) +\n",
    "geom_flat_violin(position = position_nudge(x = .2, y = 0), alpha = .8) +\n",
    "geom_point(aes(y = Length_NUCCORE/1e3, color = subtype), position = position_jitter(width = .35), size = .5, alpha = 0.8) +\n",
    "geom_boxplot(width = .1, guides = FALSE, outlier.shape = NA, alpha = 0.5) +\n",
    "facet_wrap(~host_all)+\n",
    "expand_limits(x =3) +\n",
    "guides(fill = FALSE) +\n",
    "guides(color = FALSE) +\n",
    "scale_color_brewer(palette = \"Set1\") +\n",
    "scale_fill_brewer(palette = \"Set1\") +\n",
    "labs(x='NDM Subtype',y='Plasmid Length (kbp)', title = '')+\n",
    "coord_flip() +\n",
    "theme_bw()\n",
    "\n",
    "g1"
   ]
  },
  {
   "cell_type": "markdown",
   "id": "d57e544c-0b95-45d5-acf9-165d46e43718",
   "metadata": {},
   "source": [
    "## by species"
   ]
  },
  {
   "cell_type": "code",
   "execution_count": null,
   "id": "30c30945-636d-446b-ba7a-6f26461216ae",
   "metadata": {},
   "outputs": [],
   "source": [
    "ndm_all_del_missing2<-ndm_all[which((!(ndm_all$taxon_genus_name %in% \"Missing\")) & (!(ndm_all$host_all %in% c('Vegetable','Missing')))),]"
   ]
  },
  {
   "cell_type": "code",
   "execution_count": null,
   "id": "05a4696d-7219-4c2d-8e51-1d149a1e53a5",
   "metadata": {
    "tags": []
   },
   "outputs": [],
   "source": [
    "colnames(ndm_all_del_missing2)"
   ]
  },
  {
   "cell_type": "code",
   "execution_count": null,
   "id": "b83f0d1f-581d-4649-a59c-deaad78083d7",
   "metadata": {},
   "outputs": [],
   "source": [
    "ndm_all %>%\n",
    "dplyr::count(taxon_genus_name)"
   ]
  },
  {
   "cell_type": "code",
   "execution_count": null,
   "id": "acc761f4-a84f-4666-af85-b8cc6ac2e63c",
   "metadata": {},
   "outputs": [],
   "source": [
    "ndm_all_del_missing3<-ndm_all_del_missing2[which(ndm_all_del_missing2$taxon_genus_name %in% c('Escherichia','Klebsiella','Acinetobacter','Salmonella')),]"
   ]
  },
  {
   "cell_type": "markdown",
   "id": "0ebfda97-7ef3-4483-90df-698868995a5b",
   "metadata": {},
   "source": [
    "ndm_all_del_missing2[which(ndm_all_del_missing2$taxon_family_name %in% c('Vibrionaceae','Yersiniaceae','Morganellaceae')),]$taxon_family_name<-'Others'"
   ]
  },
  {
   "cell_type": "code",
   "execution_count": null,
   "id": "b6ebc6a5-9125-440f-90b1-052045e78af5",
   "metadata": {},
   "outputs": [],
   "source": [
    "g2 <- ggplot(data = ndm_all_del_missing3, aes(y = Length_NUCCORE/1e3, x = taxon_genus_name, fill = taxon_genus_name)) +\n",
    "geom_flat_violin(position = position_nudge(x = .2, y = 0), alpha = .8) +\n",
    "geom_point(aes(y = Length_NUCCORE/1e3, color = taxon_genus_name), position = position_jitter(width = .35), size = .5, alpha = 0.8) +\n",
    "geom_boxplot(width = .1, guides = FALSE, outlier.shape = NA, alpha = 0.5) +\n",
    "facet_wrap(~host_all)+\n",
    "expand_limits(x = 5.25) +\n",
    "guides(fill = FALSE) +\n",
    "guides(color = FALSE) +\n",
    "scale_color_brewer(palette = \"Dark2\") +\n",
    "scale_fill_brewer(palette = \"Dark2\") +\n",
    "labs(x='Bacteria Genus',y='Plasmid Length (kbp)', title = '')+\n",
    "coord_flip() +\n",
    "theme_bw()\n",
    "\n",
    "g2"
   ]
  },
  {
   "cell_type": "code",
   "execution_count": null,
   "id": "eb97e31c-f0f3-4e98-b435-65abd251ce56",
   "metadata": {},
   "outputs": [],
   "source": [
    "#options(repr.plot.width = 13, repr.plot.height = 5)\n",
    "byhost_2<-plot_grid(g1,g2,rel_widths = c(1, 1.1),scale=0.95)\n",
    "byhost_2\n",
    "#ggsave(paste0(output_fig, \"violin_boxplot_col2.pdf\", sep=\"\"), byhost_2,width = 12, height = 4)"
   ]
  },
  {
   "cell_type": "markdown",
   "id": "c7f55f61-058d-4517-ad68-3aa8f557af00",
   "metadata": {},
   "source": [
    "## stats"
   ]
  },
  {
   "cell_type": "code",
   "execution_count": null,
   "id": "7e450197-6e58-4565-b012-a34e5141188e",
   "metadata": {
    "tags": []
   },
   "outputs": [],
   "source": [
    "ndm_all$n<-rep(1,nrow(ndm_all))\n",
    "\n",
    "FindMode <- function(x) {\n",
    "\n",
    "    ux <- unique(x)\n",
    "\n",
    "    ux[which.max(tabulate(match(x, ux)))]\n",
    "\n",
    "}\n",
    "\n",
    "ndm_all %>%\n",
    "dplyr::group_by(subtype) %>%\n",
    "dplyr::summarize(total_pl=sum(n),\n",
    "            mean_pl = mean(Length_NUCCORE),\n",
    "            median_pl = median(Length_NUCCORE),\n",
    "            mode_pl=FindMode(Length_NUCCORE),\n",
    "            max_pl=max(Length_NUCCORE),\n",
    "            min_pl=min(Length_NUCCORE))"
   ]
  },
  {
   "cell_type": "code",
   "execution_count": null,
   "id": "dc80e9c9-2575-4e30-946f-061cb453a02d",
   "metadata": {
    "scrolled": true
   },
   "outputs": [],
   "source": [
    "sample<-ndm_all %>%\n",
    "    dplyr::count(ACC_BIOSAMPLE)\n",
    "\n",
    "sample<-sample[-1,]\n",
    "\n",
    "colnames(sample)[2]<-\"pl_number\"\n",
    "\n",
    "sample %>% \n",
    "dplyr::count(pl_number)"
   ]
  },
  {
   "cell_type": "markdown",
   "id": "43d2aed3-0ffa-4877-a825-b32d49f8511d",
   "metadata": {},
   "source": [
    "# Plasmid Annotation"
   ]
  },
  {
   "cell_type": "markdown",
   "id": "d78a9bbc-667a-4019-9ce3-289475ce5a5e",
   "metadata": {},
   "source": [
    "- Knowledge of the relationships between plasmid features and host taxonomy is important in order to understand how the plasmids have been spread among microbes. "
   ]
  },
  {
   "cell_type": "markdown",
   "id": "45c9304f-a850-473f-b0f1-c5416ec150b5",
   "metadata": {},
   "source": [
    "- plasmids in the GenBank database into six mobility (MOB) types (MOBC, MOBF, MOBH, MOBP, MOBQ, and MOBV) according to the amino acid sequences of their relaxase proteins. An additional classification was performed based on the plasmids' T4SS involved in mating pair formation (MPF) during conjugation. Smillie et al. proposed four classes of MPF (MPFF, MPFG, MPFI, and MPFT) according to the T4SS amino acid sequences "
   ]
  },
  {
   "cell_type": "markdown",
   "id": "cde4a30a-b20d-4061-b6ec-ce4777ab1f5b",
   "metadata": {},
   "source": [
    "- Incompatibility (Inc) is defined as the inability of plasmids sharing similar replication and partition systems to be propagated stably in the same host cell line. Inc groups have been independently classified in three different genera; there are 27 Inc groups in Enterobacteriaceae, 14 Inc groups of Pseudomonas, and approximately 18 Inc groups in Staphylococcus.\n",
    "- Classification into an Inc group is always based on the amino acid sequence of the replication initiation (Rep) protein (replicon typing)"
   ]
  },
  {
   "cell_type": "markdown",
   "id": "54d5fcbb-dcc3-4f80-a048-881916939ace",
   "metadata": {},
   "source": [
    "## Rip "
   ]
  },
  {
   "cell_type": "code",
   "execution_count": null,
   "id": "2a74d9aa-e586-4134-9cd0-1c0567dbd7c8",
   "metadata": {},
   "outputs": [],
   "source": [
    "ndm_all$rep <- str_split_fixed(ndm_all$plasmidfinder, \"\\\\_\", 2)[,1]\n",
    "\n",
    "ndm_all$rep2<-ndm_all$rep\n",
    "\n",
    "ndm_all$rep2 <- gsub(pattern = 'IncI2\\\\(Delta\\\\)',replacement = 'IncI2', ndm_all$rep2)\n",
    "ndm_all$rep2 <- gsub(pattern = 'IncI\\\\(Gamma\\\\)',replacement = 'IncI complex', ndm_all$rep2)\n",
    "ndm_all$rep2 <- gsub(pattern = '^IncI$',replacement = 'IncI complex', ndm_all$rep2)\n",
    "\n",
    "#ndm_all$rep2[which(grepl('Col', ndm_all$rep))] <- 'Col-Like'\n",
    "\n",
    "ndm_all$rep2[which(grepl('FIB', ndm_all$rep))] <- 'IncFIB'\n",
    " \n",
    "ndm_all$rep2[which(grepl('FIA', ndm_all$rep))] <- 'IncFIA'\n",
    "\n",
    "ndm_all$rep2[which(grepl('FII', ndm_all$rep))] <- 'IncFII'\n",
    "\n",
    "ndm_all$rep2[which(grepl('p0111', ndm_all$rep))] <- 'IncFII'\n",
    "\n",
    "ndm_all$rep2[which(grepl('HI1B', ndm_all$rep))] <- 'IncHI1B'\n",
    "\n",
    "ndm_all$rep2[which(grepl('IncA|IncC', ndm_all$rep))] <- 'IncA/C'\n",
    "\n",
    "ndm_all$rep2[which(grepl('IncL|IncM', ndm_all$rep))] <- 'IncL/M'\n",
    "\n",
    "ndm_all$rep2[which(grepl('HI1', ndm_all$rep))] <- 'IncHI1'\n",
    "\n",
    "ndm_all$rep2[which(grepl('HI2', ndm_all$rep))] <- 'IncHI2'\n",
    "\n",
    "ndm_all$rep2[which(grepl('IncI1|IncB/O/K/Z|IncI2', ndm_all$rep))] <- 'IncI complex'\n",
    "\n",
    "ndm_all$rep2[which(grepl('X1|X4|X6', ndm_all$rep))] <- 'IncX1/X4/X6'\n",
    "\n",
    "#ndm_all$rep2[which(grepl('IncT|IncW|IncY', ndm_all$rep))] <- 'IncT/W/Y'\n",
    "\n",
    "#ndm_all$rep2[which(grepl('^$', ndm_all$rep))] <- 'Unknown'"
   ]
  },
  {
   "cell_type": "code",
   "execution_count": null,
   "id": "330ff60b-96e3-4567-bf48-5eb222ce6aae",
   "metadata": {
    "tags": []
   },
   "outputs": [],
   "source": [
    "ndm_all %>%\n",
    "    dplyr::count(rep)"
   ]
  },
  {
   "cell_type": "code",
   "execution_count": null,
   "id": "45a78cf4-6a01-4543-bea5-d5ee2dc36ed3",
   "metadata": {
    "tags": []
   },
   "outputs": [],
   "source": [
    "ndm_all %>%\n",
    "    dplyr::count(rep2)"
   ]
  },
  {
   "cell_type": "markdown",
   "id": "99702d7e-cf92-4e70-92aa-3c2c9c760c61",
   "metadata": {},
   "source": [
    "## Relaxases"
   ]
  },
  {
   "cell_type": "code",
   "execution_count": null,
   "id": "08de2dec-e7e7-4058-8685-da28293d456a",
   "metadata": {},
   "outputs": [],
   "source": [
    "ndm_all$mob <- str_split_fixed(ndm_all$relaxase_type, \"\\\\,\", 2)[,1]"
   ]
  },
  {
   "cell_type": "code",
   "execution_count": null,
   "id": "f8fa39a7-f16c-4598-96a2-9fafde82227b",
   "metadata": {},
   "outputs": [],
   "source": [
    "ndm_all$mob[which(grepl('^$|-', ndm_all$mob))] <- 'Missing'"
   ]
  },
  {
   "cell_type": "code",
   "execution_count": null,
   "id": "9a09162c-a34d-42d5-96fc-b88b5a62cd74",
   "metadata": {},
   "outputs": [],
   "source": [
    "ndm_all$mob <- gsub(pattern = 'MOB',replacement = 'MOB_', ndm_all$mob)"
   ]
  },
  {
   "cell_type": "code",
   "execution_count": null,
   "id": "ae30e441-3254-4fcc-88cc-edeef477aeaf",
   "metadata": {},
   "outputs": [],
   "source": [
    "ndm_all %>%\n",
    "    dplyr::count(mob)"
   ]
  },
  {
   "cell_type": "code",
   "execution_count": null,
   "id": "d7018869-b964-4789-b95a-b20131cb705c",
   "metadata": {},
   "outputs": [],
   "source": [
    "ndm_all$mpf <- ndm_all$mpf_type"
   ]
  },
  {
   "cell_type": "code",
   "execution_count": null,
   "id": "22d94911-40ad-428f-938e-8a8d92389d2a",
   "metadata": {},
   "outputs": [],
   "source": [
    "ndm_all$mpf[which(grepl('-', ndm_all$mpf))] <- 'Missing'\n",
    "ndm_all$mpf[which(is.na(ndm_all$mpf))]<-'Missing'"
   ]
  },
  {
   "cell_type": "code",
   "execution_count": null,
   "id": "7e8687e2-1e04-43c3-801d-d647f9587513",
   "metadata": {},
   "outputs": [],
   "source": [
    "ndm_all %>%\n",
    "    dplyr::count(mpf)"
   ]
  },
  {
   "cell_type": "markdown",
   "id": "05fc65fd-e9a2-45b1-bb4b-c932ce802fcf",
   "metadata": {},
   "source": [
    "## Visualizing all Rip and rel combinations¶"
   ]
  },
  {
   "cell_type": "code",
   "execution_count": null,
   "id": "64e9854b-4035-4831-9cb0-ed99bad8a2e4",
   "metadata": {},
   "outputs": [],
   "source": [
    "#ndm_all$create_date<-str_split_fixed(ndm_all$CreateDate_NUCCORE, \"\\\\/\", 2)[,1]\n",
    "ndm_all$create_date<-ndm_all$CreateDate_NUCCORE\n",
    "ndm_all$create_date"
   ]
  },
  {
   "cell_type": "code",
   "execution_count": null,
   "id": "6e168f18-f441-4291-940b-7824d92a09e7",
   "metadata": {},
   "outputs": [],
   "source": [
    "ndm_all_del_missing3<-ndm_all[which( (ndm_all$rep2 != 'Missing') & (ndm_all$mob != 'Missing') & (ndm_all$mpf != 'Missing') ),]"
   ]
  },
  {
   "cell_type": "code",
   "execution_count": null,
   "id": "25b182dd-5d54-4a05-8ed6-acc1a543d536",
   "metadata": {},
   "outputs": [],
   "source": [
    "pl_rep_features <- subset(ndm_all_del_missing3, select = c(\"ACC_NUCCORE\",\"rep2\",\"Length_NUCCORE\",\"create_date\",\"subtype\",\"host_all\"))\n",
    "colnames(pl_rep_features)[2]<-\"annotation\"\n",
    "pl_mob_features <- subset(ndm_all_del_missing3, select = c(\"ACC_NUCCORE\",\"mob\",\"Length_NUCCORE\",\"create_date\",\"subtype\",\"host_all\"))\n",
    "colnames(pl_mob_features)[2]<-\"annotation\"\n",
    "pl_mpf_features <- subset(ndm_all_del_missing3, select = c(\"ACC_NUCCORE\",\"mpf\",\"Length_NUCCORE\",\"create_date\",\"subtype\",\"host_all\"))\n",
    "colnames(pl_mpf_features)[2]<-\"annotation\"\n",
    "pl_features_length<-rbind(pl_rep_features,pl_mob_features,pl_mpf_features)\n",
    "pl_features_length <- pl_features_length[! duplicated(pl_features_length),]"
   ]
  },
  {
   "cell_type": "code",
   "execution_count": null,
   "id": "021c3c30-667c-4de6-b73f-b6a16ae5753a",
   "metadata": {
    "scrolled": true
   },
   "outputs": [],
   "source": [
    "pl_features<-pl_features_length[,c(1,2)]\n",
    "pl_features"
   ]
  },
  {
   "cell_type": "code",
   "execution_count": null,
   "id": "e0bb6e54-01bf-4c2a-86f7-95925042ea2e",
   "metadata": {
    "tags": []
   },
   "outputs": [],
   "source": [
    "unique_values_pl <- unique(pl_features)\n",
    "upset_pl_features <- dcast(unique_values_pl, formula = ACC_NUCCORE ~ annotation, fun.aggregate = length)\n",
    "rownames(upset_pl_features)<-upset_pl_features[,1] #将数据框的第一列作为行名\n",
    "upset_pl_features<-upset_pl_features[,-1] #将数据框的第一列删除，只留下剩余的列作为数据\n",
    "upset_pl_features<-upset_pl_features[-which(!duplicated(upset_pl_features)),]\n",
    "upset_pl_features<-upset_pl_features[,which(colSums(upset_pl_features) > 0)]\n",
    "upset_pl_features\n",
    "#dcast，formula左行标签，右列标签，fun.aggregate填充。acast没有行标签，可直接计算"
   ]
  },
  {
   "cell_type": "code",
   "execution_count": null,
   "id": "6d2b2458-dac5-4822-b9f8-1d431bca6ba0",
   "metadata": {},
   "outputs": [],
   "source": [
    "upset_pl_features$ACC_NUCCORE <- rownames(upset_pl_features)\n",
    "rownames(upset_pl_features)<-NULL"
   ]
  },
  {
   "cell_type": "code",
   "execution_count": null,
   "id": "e796937f-6733-4eb9-ae6a-5ebad7c4d15c",
   "metadata": {
    "scrolled": true
   },
   "outputs": [],
   "source": [
    "pl_date<-pl_features_length[,c(1,4)]\n",
    "unique_date_pl <- unique(pl_date)\n",
    "upset_pl_features<-left_join(upset_pl_features,unique_date_pl,by='ACC_NUCCORE')"
   ]
  },
  {
   "cell_type": "code",
   "execution_count": null,
   "id": "4915dde9-c46e-431c-8db9-7468f6a915a8",
   "metadata": {
    "tags": []
   },
   "outputs": [],
   "source": [
    "pl_subtype<-pl_features_length[,c(1,5)]\n",
    "unique_subtype_pl <- unique(pl_subtype)\n",
    "upset_pl_features<-left_join(upset_pl_features,unique_subtype_pl,by='ACC_NUCCORE')\n",
    "upset_pl_features"
   ]
  },
  {
   "cell_type": "code",
   "execution_count": null,
   "id": "ab7ce9da-1909-4c68-9fd8-0b4877c6ae27",
   "metadata": {
    "tags": []
   },
   "outputs": [],
   "source": [
    "pl_host<-pl_features_length[,c(1,6)]\n",
    "unique_host_pl <- unique(pl_host)\n",
    "upset_pl_features<-left_join(upset_pl_features,unique_host_pl,by='ACC_NUCCORE')\n",
    "upset_pl_features"
   ]
  },
  {
   "cell_type": "markdown",
   "id": "750f4eb4-bff7-4f51-94e4-5d276358bd46",
   "metadata": {},
   "source": [
    "upset_pl_features<-upset_pl_features[,-29]"
   ]
  },
  {
   "cell_type": "code",
   "execution_count": null,
   "id": "ba7bc803-6344-42de-8568-5ab5d2170eeb",
   "metadata": {
    "tags": []
   },
   "outputs": [],
   "source": [
    "upset_pl_features$create_date"
   ]
  },
  {
   "cell_type": "code",
   "execution_count": null,
   "id": "eea76c3e-c371-48b0-8278-f885c69f4929",
   "metadata": {},
   "outputs": [],
   "source": [
    "upset_pl_features$create_date1 <- as.Date( upset_pl_features$create_date, '%Y/%m/%d')\n",
    "#upset_pl_features$create_date1 <- as.integer(upset_pl_features$create_date1 - as.Date(\"2011/07/09\"))\n",
    "upset_pl_features$create_date2<-str_split_fixed(upset_pl_features$create_date, \"\\\\/\", 2)[,1]"
   ]
  },
  {
   "cell_type": "code",
   "execution_count": null,
   "id": "d114c6d7-a4b9-448f-88cb-c9d111daf744",
   "metadata": {
    "scrolled": true,
    "tags": []
   },
   "outputs": [],
   "source": [
    "upset_pl_features$create_date1"
   ]
  },
  {
   "cell_type": "code",
   "execution_count": null,
   "id": "f1dbc9d0-1e7d-4787-8e76-1aa0e5aada8d",
   "metadata": {
    "tags": []
   },
   "outputs": [],
   "source": [
    "upset_pl_features$create_date2<-as.numeric(upset_pl_features$create_date2)"
   ]
  },
  {
   "cell_type": "code",
   "execution_count": null,
   "id": "18e93a0d-51ed-4307-8a35-f804f094f50f",
   "metadata": {},
   "outputs": [],
   "source": [
    "pl_length <- pl_features_length[,c(2,3)]\n",
    "rep_mean_pl<-pl_length %>%\n",
    "  dplyr::group_by(annotation) %>%\n",
    "  dplyr::summarize(Average_plasmid_length = mean(Length_NUCCORE)/1e3)\n",
    "rep_mean_pl"
   ]
  },
  {
   "cell_type": "markdown",
   "id": "7783a136-291a-46fa-97cc-7c0cb7328749",
   "metadata": {},
   "source": [
    "<https://github.com/hms-dbmi/UpSetR/blob/master/R/scatter_plot.R>"
   ]
  },
  {
   "cell_type": "markdown",
   "id": "04139e53-2206-4166-a047-e8795b841769",
   "metadata": {},
   "source": [
    "<https://github.com/hms-dbmi/UpSetR>"
   ]
  },
  {
   "cell_type": "code",
   "execution_count": null,
   "id": "0e268b6f-de4a-4233-b481-f04751bd1ca4",
   "metadata": {},
   "outputs": [],
   "source": [
    "scatter_plot <- function(mydata, x, y){\n",
    "    mydata<-mydata[which((mydata$subtype %in% c('NDM-1','NDM-4','NDM-5','NDM-6','NDM-7','NDM-9'))),]\n",
    "  att_plot <-(ggplot(data = mydata, aes_string(x = x, y = y, colour = \"color\"))\n",
    "               + geom_point(shape=16,position=position_jitter(width = 0.5, height = 0.35),size=0.5) \n",
    "               + scale_color_identity()\n",
    "               #+ylab(\"subtype of ndm\")+xlab(\"craete date\")\n",
    "               +scale_x_date(name=\"Date\",breaks=date_breaks(\"2 year\"),labels = date_format(\"%Y\"),limits=as.Date(c(\"2011-07-29\",\"2020-11-17\")))\n",
    "               +ylab(\"NDM Subtype\")\n",
    "               + theme(panel.background = element_rect(fill = \"white\"),\n",
    "                       plot.title = element_text(vjust = 1.3),\n",
    "                       panel.grid.minor = element_blank(),\n",
    "                       panel.grid.major = element_blank(),\n",
    "                       #axis.text.x=element_text(angle=90, hjust=1)#选择x轴标签\n",
    "                       axis.title.y = element_text(vjust = 1.3, size = 8.3),\n",
    "                       axis.title.x = element_text(size = 8.3),\n",
    "                       axis.line.x=element_line(colour=\"black\"),#优先级高于axis.ticks\n",
    "                       axis.line.y=element_line(colour=\"black\"),#同上\n",
    "                       plot.margin=unit(c(0.5,0.2,0.2,1), \"cm\"))# margin(t, r, l, b)\n",
    "               #+coord_flip()\n",
    ")\n",
    "}"
   ]
  },
  {
   "cell_type": "code",
   "execution_count": null,
   "id": "a8d59786-40e7-4fa4-8685-8d8cffe306d1",
   "metadata": {},
   "outputs": [],
   "source": [
    "bar_plot <- function(mydata, x){\n",
    "  att_plot <- (ggplot(data = mydata, aes_string(x = x, fill = \"color\")) \n",
    "               + scale_fill_identity()\n",
    "               + geom_histogram(stat='count'\n",
    "                         #,position='dodge'\n",
    "                         ,binwidth = 1\n",
    "                         )\n",
    "               +scale_x_continuous(breaks = c(2011,2013,2015,2017,2019),name=\"Date\")\n",
    "               +scale_y_continuous(name=\"Freqency\",expand=c(0,0))\n",
    "               + theme(panel.background = element_rect(fill = \"white\"),\n",
    "                       plot.title = element_text(vjust = 1.5),\n",
    "                       panel.border = element_blank(),\n",
    "                       panel.grid.minor = element_blank(),\n",
    "                       panel.grid.major = element_blank(),\n",
    "                       axis.title.y = element_text(vjust = 1.3, size = 8.3),\n",
    "                       axis.line.x=element_line(colour=\"black\"),#优先级高于axis.ticks\n",
    "                       axis.line.y=element_line(colour=\"black\"),#同上\n",
    "                       axis.title.x = element_text(size = 8.3),\n",
    "                       plot.margin=unit(c(0.5,0.2,0.2,1), \"cm\"))\n",
    "             +coord_flip()\n",
    ")\n",
    "}"
   ]
  },
  {
   "cell_type": "code",
   "execution_count": null,
   "id": "e145f2f1-dd71-4016-9d6c-809fb5a98901",
   "metadata": {},
   "outputs": [],
   "source": [
    "colnames(upset_pl_features)"
   ]
  },
  {
   "cell_type": "code",
   "execution_count": null,
   "id": "7ae8eebf-0395-4db8-b524-d5f0727e5c3d",
   "metadata": {},
   "outputs": [],
   "source": [
    "#col<-sample(col_vector,5)\n",
    "#barplot(rep(1,5),col=col)\n",
    "#col"
   ]
  },
  {
   "cell_type": "code",
   "execution_count": null,
   "id": "69406c70-562c-4f53-b5b8-4bb5f81c4bc1",
   "metadata": {
    "tags": []
   },
   "outputs": [],
   "source": [
    "#pdf(\"./output/fig/plasmid_annotation.pdf\")\n",
    "\n",
    "upset(upset_pl_features,\n",
    "      sets = c(\"IncA/C\",\"IncFIA\",\"IncFIB\",\"IncFII\",\"IncHI1\",\"IncHI2\",\"IncI complex\",\"IncL/M\",\"IncN\",\"IncN2\",\n",
    "        \"IncQ1\",\"IncR\",\"IncX1/X4/X6\",\"IncX3\",\"MOB_F\",\"MOB_H\",\"MOB_P\",\"MPF_F\",\"MPF_I\",\"MPF_T\"),     \n",
    "      #nintersects = 1000,\n",
    "      nsets = 21, \n",
    "      number.angles = 2, \n",
    "      point.size = 1.5 , \n",
    "      line.size = 0.3, \n",
    "      mainbar.y.label = \"Number of plasmids per combination\", sets.x.label = \"Number of plasmids\", \n",
    "      order.by = \"freq\",\n",
    "      keep.order = TRUE,\n",
    "      #matrix.color = 'coral2',\n",
    "      main.bar.color = 'black',\n",
    "      text.scale = c(1.3, 1.3, 1, 1, 0.6, 1), #六个数字，分别控制c(intersection size title, intersection size tick labels, set size title, set size tick labels, set names, numbers above bars)\n",
    "      \n",
    "    queries = list(list(query = intersects,   #UpSetR 内置的intersects query\n",
    "    params = list(\"MPF_T\",\"MOB_P\",\"IncX3\"), ##指定作用的交集\n",
    "    #color = '#E7298A', ##设置颜色，未设置会调用默认调色板\n",
    "    active = F),   # TRUE：条形图被颜色覆盖，FALSE：条形图顶端显示三角形\n",
    "    #query.name = \"Drama\"), # 添加query图例\n",
    "    list(query = intersects,   #UpSetR 内置的intersects query\n",
    "    params = list(\"MPF_F\",\"MOB_F\",\"IncFII\"), ##指定作用的交集\n",
    "    #color = '#FF7F00', ##设置颜色，未设置会调用默认调色板\n",
    "    active = F),\n",
    "    list(query = intersects,   #UpSetR 内置的intersects query\n",
    "    params = list(\"MPF_F\",\"MOB_H\",\"IncA/C\"), ##指定作用的交集\n",
    "    #color = '#B3DE69', ##设置颜色，未设置会调用默认调色板\n",
    "    active = F),\n",
    "    list(query = intersects,   #UpSetR 内置的intersects query\n",
    "    params = list(\"MPF_F\",\"MOB_F\",\"IncFIB\"), ##指定作用的交集\n",
    "    #color = '#F1E2CC', ##设置颜色，未设置会调用默认调色板\n",
    "    active = F)),\n",
    "\n",
    "     set.metadata = list(data = rep_mean_pl, plots = list(list(type = \"hist\", \n",
    "     column = \"Average_plasmid_length\", assign = 27))),\n",
    "    \n",
    "    attribute.plots = list(gridrows = 32, #添加属性图\n",
    "    plots = list(\n",
    "    list(plot = scatter_plot, \n",
    "                             x = \"create_date1\", y = \"subtype\",#横纵轴的变量\n",
    "                            #x = \"create_date1\", y = \"host_all\",\n",
    "                            queries = T), #T 则显示出上面queries定义的颜色\n",
    "   list(plot = bar_plot, x = \"create_date2\", queries = T)), ncols = 2) # 添加的图分两列\n",
    "  # list(plot = scatter_plot, x = \"create_date1\", y = \"host_all\",queries = T)), ncols = 2)\n",
    "   #boxplot.summary = c(\"create_date\", \"host_all\")\n",
    "   #query.legend = \"top\"#query图例在最上方 \n",
    "      \n",
    ") \n",
    "\n",
    "#dev.off()"
   ]
  },
  {
   "cell_type": "markdown",
   "id": "ed575695-a34d-4760-a9a6-7c4b733930ae",
   "metadata": {
    "tags": []
   },
   "source": [
    "## Stats"
   ]
  },
  {
   "cell_type": "code",
   "execution_count": null,
   "id": "50ad24e5-6562-4cfe-8af9-f66e19d14712",
   "metadata": {},
   "outputs": [],
   "source": [
    "rep_per_subtype <- ndm_all %>%\n",
    "  group_by(subtype) %>%\n",
    "  dplyr::count(rep2)\n",
    "rep_per_subtype"
   ]
  },
  {
   "cell_type": "code",
   "execution_count": null,
   "id": "2c459f18-1eee-4bbf-afeb-4393c0984945",
   "metadata": {},
   "outputs": [],
   "source": [
    "rep_per_mob <- ndm_all %>%\n",
    "  group_by(rep2) %>%\n",
    "  dplyr::count(mob)\n",
    "rep_per_mob"
   ]
  },
  {
   "cell_type": "markdown",
   "id": "309b2521-796c-4e2a-9611-4840dbf4e4d3",
   "metadata": {},
   "source": [
    "## Inc map"
   ]
  },
  {
   "cell_type": "code",
   "execution_count": null,
   "id": "d5b6c1e6-70cf-451c-ba32-2fe13fe22dd4",
   "metadata": {
    "scrolled": true
   },
   "outputs": [],
   "source": [
    "pl_map_data<-ndm_all[,c(\"ACC_NUCCORE\",\"location_all\",\"rep2\",\"subtype\")]\n",
    "pl_map_data<-pl_map_data[!grepl(\"^$\",pl_map_data$location_all),]\n",
    "pl_map_data<-pl_map_data[-which(pl_map_data$rep2==\"Missing\"),]\n",
    "pl_map_data<-pl_map_data[-which(pl_map_data$location_all==\"Missing\"),]\n",
    "pl_map_data<-unique(pl_map_data)\n",
    "cols4 <- c('rep2' , 'subtype')\n",
    "pl_map_data$combination1 <- apply( pl_map_data[ , cols4 ] , 1 , paste , collapse = \";\" )\n",
    "pl_map_data"
   ]
  },
  {
   "cell_type": "code",
   "execution_count": null,
   "id": "54dedadb-1266-4f22-be1c-57025cf25b84",
   "metadata": {
    "scrolled": true
   },
   "outputs": [],
   "source": [
    "worldmap_pl_data<- dcast(pl_map_data, formula = location_all ~ rep2, fun.aggregate = length)\n",
    "worldmap_pl_data"
   ]
  },
  {
   "cell_type": "code",
   "execution_count": null,
   "id": "fe257cf2-fc2c-4546-8d21-daa6b4f3cf89",
   "metadata": {},
   "outputs": [],
   "source": [
    "#write.csv(x =worldmap_pl_data, file = './input/worldmap_pl_data.csv', row.names = FALSE)"
   ]
  },
  {
   "cell_type": "code",
   "execution_count": null,
   "id": "85a7bfc8-2b2e-43e0-a3ab-9c20e9d28c7f",
   "metadata": {},
   "outputs": [],
   "source": [
    "geo_df<-read.csv(\"./input/worldmap_pl_data_add.csv\",header=T,stringsAsFactors=F,sep=\",\",row.names=NULL)"
   ]
  },
  {
   "cell_type": "code",
   "execution_count": null,
   "id": "14c1c507-ba82-4731-980d-14d4cce70b87",
   "metadata": {
    "scrolled": true
   },
   "outputs": [],
   "source": [
    "geo_df"
   ]
  },
  {
   "cell_type": "code",
   "execution_count": null,
   "id": "f2b6fb0d-a8ef-42f8-92ed-ab7d213be873",
   "metadata": {},
   "outputs": [],
   "source": [
    "worldmap = map_data(\"world\")"
   ]
  },
  {
   "cell_type": "code",
   "execution_count": null,
   "id": "71e53ac3-ba70-47b7-aa16-cdb658e660a5",
   "metadata": {
    "tags": []
   },
   "outputs": [],
   "source": [
    "fig1 = ggplot(geo_df, aes(long, lat)) +\n",
    "geom_polygon(data = worldmap, aes(x = long, y = lat,group=group, fill = NA),fill = 'white',color = \"grey70\", size = 0.25)+\n",
    "geom_scatterpie(data=geo_df,aes(x=longitude, y=latitude, group=location_all,r=radius), cols=LETTERS[1:16],size=0.1,alpha=.5) +\n",
    "geom_scatterpie_legend(geo_df$radius, x=-160, y=-55, n=4, labeller=function(x) x^2)+\n",
    "scale_fill_manual(values = sample(col_vector, 16),name=\"Inc Type\",breaks = c('A','B','C','D','E','F','G','H','I','J','K','L','M','N','O','P'), \n",
    "                    labels = c(\"IncA/C\",\"IncFIA\",\"IncFIB\",\"IncFII\",\"IncHI1\",\"IncHI2\",\"IncI complex\",\"IncL/M\",\"IncN\",\"IncN2\",\n",
    "        \"IncQ1\",\"IncR\",\"IncT\",\"IncW\",\"IncX1/X4/X6\",\"IncX3\"))+\n",
    "#scale_fill_discrete(name=\"Inc Type\",breaks = c('A','B','C','D','E','F','G','H','I','J','K','L','M','N','O','P','Q'), \n",
    "                    #labels = c('Col.like','IncA/C','IncB/O/K/Z','IncFIA','IncFIB','IncFII','IncHI1','IncHI2','IncI','IncL/M','IncN','IncN2','IncQ1','IncR','IncT/W/Y','IncX1/X4/X6','IncX3'))+\n",
    "#coord_equal()+\n",
    "#coord_cartesian()+\n",
    "#scale_y_continuous(breaks = (-3:3)*30)+\n",
    "#cale_x_continuous(breaks = (-6:6)*30)+\n",
    "#labs(x=\"Longitude\", y=\"Latitude\") +\n",
    "theme(panel.grid.major =element_blank(), \n",
    "      panel.grid.minor = element_blank(),\n",
    "      #panel.background =element_blank(),\n",
    "      plot.background = element_rect(fill = '#C3E2F9'),\n",
    "      panel.background = element_rect(fill = '#C3E2F9'),\n",
    "      axis.title.x=element_blank(),\n",
    "      axis.text.x=element_blank(),\n",
    "      axis.ticks.x=element_blank(),\n",
    "      axis.title.y=element_blank(),\n",
    "      axis.text.y=element_blank(),\n",
    "      axis.ticks.y=element_blank())  +\n",
    "theme(legend.position=\"top\",\n",
    "      legend.background = element_rect(fill = '#C3E2F9'),\n",
    "      legend.text = element_text(size = 7),\n",
    "      legend.title = element_text(size = 10,face = 'bold'),\n",
    "      legend.key.size=unit(0.3,'cm'))\n",
    "\n",
    "##ggsave(paste0(output_dir, \"mcr-1_worldmap.tiff\", sep=\"\"), fig1, width = 9, height = 5)\n",
    "##ggsave(paste0(output_fig, \"ndmplamids_Inc_worldmap.pdf\", sep=\"\"), fig1, width = 9, height = 5)\n",
    "fig1"
   ]
  },
  {
   "cell_type": "markdown",
   "id": "38c32e89-202a-4932-9d11-adce6a963385",
   "metadata": {},
   "source": [
    "write.csv(x =ndm_all, file = '/root/jupyter_projects/ndm_plasmid_2021/input/ndm_all_processed.csv', row.names = FALSE)"
   ]
  },
  {
   "cell_type": "markdown",
   "id": "292bd808-bce2-40fc-94c5-69a9ec8f0b42",
   "metadata": {},
   "source": [
    "#  Inter pop"
   ]
  },
  {
   "cell_type": "markdown",
   "id": "6331f911-0340-4d88-bac4-345ab7c3d70a",
   "metadata": {},
   "source": [
    "## Mash Distance"
   ]
  },
  {
   "cell_type": "code",
   "execution_count": null,
   "id": "0fd2545a-a14d-4d76-ae92-eb439ac96606",
   "metadata": {
    "tags": []
   },
   "outputs": [],
   "source": [
    "ndm_all_mash<-read.table(\"./input/mash/ndm_all2all_mash_e_incx3.1.tab\",header=F,stringsAsFactors=F,sep=\"\\t\",row.names=NULL)"
   ]
  },
  {
   "cell_type": "code",
   "execution_count": null,
   "id": "3159cd3b-3d0a-4ff9-b20c-c90ce84de6f9",
   "metadata": {
    "tags": []
   },
   "outputs": [],
   "source": [
    "colnames(ndm_all_mash)<-c(\"ACC_NUCCORE\",\"query_id\",\"mash_distance\",\"p_value\",\"matching_hashes\")\n",
    "\n",
    "parsing_mash<-ndm_all_mash %>% dplyr::select(ACC_NUCCORE,mash_distance)\n",
    "parsing_mash$ACC_NUCCORE <- gsub(pattern = '\\\\.[0-9]\\\\_.*fasta',replacement = '', parsing_mash$ACC_NUCCORE)\n",
    "parsing_mash$ACC_NUCCORE<-toupper(parsing_mash$ACC_NUCCORE)\n",
    "#parsing_mash<-arrange(parsing_mash,mash_distance)\n",
    "\n",
    "pl_concatenated <- parsing_mash[,1]\n",
    "\n",
    "\n",
    "len_strains <- length(unique(pl_concatenated))\n",
    "\n",
    "mash_df <- NULL\n",
    "first_strain <- as.character(parsing_mash[1,1])\n",
    "#循环行\n",
    "for(i in 1:length(pl_concatenated))\n",
    "{\n",
    "  if(parsing_mash[i,1]== first_strain)\n",
    "  {\n",
    "    first_index <- i\n",
    "    second_index <- first_index + len_strains\n",
    "    df_selection <- parsing_mash[c(first_index:second_index),2]\n",
    "    mash_df <- rbind(mash_df, df_selection)\n",
    "  }\n",
    "}\n",
    "mash_df <- mash_df[,c(1:len_strains)]\n",
    "sum(is.infinite(mash_df))"
   ]
  },
  {
   "cell_type": "code",
   "execution_count": null,
   "id": "bbe85675-804e-4507-996b-42a657351040",
   "metadata": {},
   "outputs": [],
   "source": [
    "head(parsing_mash)"
   ]
  },
  {
   "cell_type": "code",
   "execution_count": null,
   "id": "c02e6246-c4d7-4053-836a-afb4507e8284",
   "metadata": {},
   "outputs": [],
   "source": [
    "dim(mash_df)"
   ]
  },
  {
   "cell_type": "code",
   "execution_count": null,
   "id": "25b54ac8-0436-4dc3-8a49-50e9d53f13f1",
   "metadata": {},
   "outputs": [],
   "source": [
    "ACCS<-parsing_mash$ACC_NUCCORE[1:436]"
   ]
  },
  {
   "cell_type": "markdown",
   "id": "ffa70b55-eb14-4cf3-969e-c7ee89af3e50",
   "metadata": {
    "tags": []
   },
   "source": [
    "ndm_all2one_mash<-read.table(\"./input/complete_fasta/ndm_all_mash.tab\",header=F,stringsAsFactors=F,sep=\"\\t\",row.names=NULL)\n",
    "colnames(ndm_all2one_mash)<-c(\"ACC_NUCCORE\",\"query_id\",\"mash_distance\",\"p_value\",\"matching_hashes\")\n",
    "ndm_all2one_mash$ACC_NUCCORE <- gsub(pattern = '\\\\.[0-9]\\\\.fasta',replacement = '', ndm_all2one_mash$ACC_NUCCORE)\n",
    "\n",
    "ndm_all2one_mash$ACC_NUCCORE<-toupper(ndm_all2one_mash$ACC_NUCCORE)\n",
    "\n",
    "ACCS<-ndm_all2one_mash$ACC_NUCCORE"
   ]
  },
  {
   "cell_type": "code",
   "execution_count": null,
   "id": "98dd028f-5889-4468-9d2f-5c8a31c53468",
   "metadata": {
    "tags": []
   },
   "outputs": [],
   "source": [
    "colnames(mash_df)<-ACCS\n",
    "rownames(mash_df)<-ACCS\n",
    "\n",
    "head(mash_df)"
   ]
  },
  {
   "cell_type": "markdown",
   "id": "173a05e7-fc6c-455f-bedd-0259b6dfe023",
   "metadata": {},
   "source": [
    "## Tree"
   ]
  },
  {
   "cell_type": "code",
   "execution_count": null,
   "id": "52f1fa7e-ae79-4d4f-a33a-a44d1aeb5b1f",
   "metadata": {},
   "outputs": [],
   "source": [
    "hc_mash<-hclust(as.dist(mash_df),method=\"ward.D2\",members=NULL)\n",
    "tree_hc_mash<-as.phylo(hc_mash)\n",
    "\n",
    "hc_mash\n",
    "\n",
    "tree_hc_mash"
   ]
  },
  {
   "cell_type": "markdown",
   "id": "97df3ed5-070c-4f04-9039-672d46ef61c5",
   "metadata": {},
   "source": [
    "colnames(ndm_all_mash_info)"
   ]
  },
  {
   "cell_type": "markdown",
   "id": "8ba77d97-378d-4d72-a202-daf1aeabb63e",
   "metadata": {},
   "source": [
    "ndm_all_mash_info<-left_join(ndm_all2one_mash,unique(ndm_all),by=\"ACC_NUCCORE\")\n",
    "#ndm_all_mash_info\n",
    "\n",
    "tree_strains_info <- data.frame(label = as.character(ndm_all_mash_info$ACC_NUCCORE),\n",
    "           host = as.character(ndm_all_mash_info$host_all))\n",
    "tree_strains_info %>%\n",
    "dplyr::count(host)\n",
    "\n",
    "tree_country_info <- data.frame(label = as.character(ndm_all_mash_info$ACC_NUCCORE),\n",
    "           country = as.character(ndm_all_mash_info$Location2))\n",
    "tree_country_info %>%\n",
    "dplyr::count(country)"
   ]
  },
  {
   "cell_type": "markdown",
   "id": "02b1feff-91c6-47c0-bff7-5856626dc213",
   "metadata": {},
   "source": [
    "tree_strains_info_del<-tree_strains_info[-which(tree_strains_info$host %in% c('Missing','Vegetable')),]\n",
    "plot_isolation <- facet_plot(ggtree(tree_hc_mash, layout = 'rectangular'), panel = 'Source', data = tree_strains_info_del, geom=geom_tile, aes(x=as.numeric(as.factor(host)), fill = host)) + theme_tree2(legend.position = 'bottom')   \n",
    "\n",
    "tree_country_info_del<-tree_country_info[-which(tree_country_info$country %in% c('Missing')),]\n",
    "plot_isolation2<- facet_plot(plot_isolation, panel = 'Continent' ,data = tree_country_info_del, geom=geom_tile, aes(x=as.numeric(as.factor(country)), fill = country)) + theme_tree2(legend.position = 'bottom')  \n",
    "#ggtree(tree_hc_mash, layout = 'rectangular')\n",
    "\n",
    "plot_isolation2"
   ]
  },
  {
   "cell_type": "code",
   "execution_count": null,
   "id": "cb2ac256-0f10-456f-b535-6e36beb9a207",
   "metadata": {},
   "outputs": [],
   "source": [
    "# pupolation clustering also performed（hierarchical clustering）, but choose Inc type as classification basis\n",
    "# 1.strongly 1 to 1 assocaiation\n",
    "# 2.Inc type still the most common classification basis, to make the following analysis more intuitional"
   ]
  },
  {
   "cell_type": "markdown",
   "id": "4c512487-a63d-465a-8c2c-c82740cd9fbb",
   "metadata": {},
   "source": [
    "## Geographical(Host) distribution "
   ]
  },
  {
   "cell_type": "code",
   "execution_count": null,
   "id": "4202f1ec-a4f5-40a9-9c40-477d975ae89d",
   "metadata": {},
   "outputs": [],
   "source": [
    "#---custom---following 3 cells"
   ]
  },
  {
   "cell_type": "markdown",
   "id": "71ac8cce-638f-4ea0-87d5-f2c2cc582d5d",
   "metadata": {},
   "source": [
    "lo_order<-ndm_all %>%\n",
    "dplyr::count(location_all)\n",
    "lo_order<-lo_order[-which(lo_order$location_all=='Missing'),]\n",
    "lo_order<-na.omit(lo_order)\n",
    "keep=lo_order[order(-lo_order$n),]$location_all[1:4]"
   ]
  },
  {
   "cell_type": "markdown",
   "id": "d7b20547-cb25-4ba1-9172-c59d92c95009",
   "metadata": {},
   "source": [
    "lo_order<-ndm_all %>%\n",
    "dplyr::count(host_all)\n",
    "lo_order<-lo_order[-which(lo_order$host_all=='Missing'),]\n",
    "lo_order<-na.omit(lo_order)\n",
    "keep=lo_order[order(-lo_order$n),]$host_all[1:4]"
   ]
  },
  {
   "cell_type": "markdown",
   "id": "f502b5df-d680-4115-a88f-a55cd43c15bd",
   "metadata": {},
   "source": [
    "lo_order<-ndm_all %>%\n",
    "dplyr::count(rep2)\n",
    "lo_order<-lo_order[-which(lo_order$rep2=='Missing'),]\n",
    "lo_order<-na.omit(lo_order)\n",
    "sel_c=lo_order[order(-lo_order$n),]$rep2[1:17]"
   ]
  },
  {
   "cell_type": "code",
   "execution_count": null,
   "id": "8048088f-8cc4-48e6-80ca-174c3fac95ce",
   "metadata": {},
   "outputs": [],
   "source": [
    "metadata<-data.frame(ACC_NUCCORE=ndm_all$ACC_NUCCORE,host=ndm_all$host_all,continent=ndm_all$Location2,country=ndm_all$location_all,Inc_type=ndm_all$rep2)"
   ]
  },
  {
   "cell_type": "markdown",
   "id": "eae2e7ea-d87b-420c-bffa-66f9af4de95d",
   "metadata": {},
   "source": [
    "### Inc & country"
   ]
  },
  {
   "cell_type": "code",
   "execution_count": null,
   "id": "82db6fe6-91f2-4c41-99d4-029cd83d3822",
   "metadata": {},
   "outputs": [],
   "source": [
    "pl_pop_metadata<-metadata[-which((metadata$Inc_type=='Missing') | (metadata$country=='Missing')),]\n",
    "\n",
    "#pl_pop_metadata <- subset(pl_pop_metadata, pl_pop_metadata$country %in% keep)\n",
    "\n",
    "#pl_pop_metadata <- subset(pl_pop_metadata, pl_pop_metadata$Inc_type %in% sel_c)\n",
    "\n",
    "pl_pop_metadata$Inc_type<-as.character(pl_pop_metadata$Inc_type)\n",
    "pl_pop_metadata$country<-as.character(pl_pop_metadata$country)\n",
    "\n",
    "# check if there is a significant association  \n",
    "\n",
    "results_association <- NULL\n",
    "\n",
    "for(cluster in levels(as.factor(pl_pop_metadata$Inc_type)))#####change\n",
    "{\n",
    "    df_cluster <- subset(pl_pop_metadata, pl_pop_metadata$Inc_type == cluster)#####change\n",
    "    df_other_clusters <- subset(pl_pop_metadata, pl_pop_metadata$Inc_type != cluster)#####change\n",
    "    \n",
    "    df_counts_cluster <- as.data.frame(table(df_cluster$country))#####change\n",
    "    df_counts_other_clusters <- as.data.frame(table(df_other_clusters$country))#####change\n",
    "   \n",
    "    for(category in df_counts_cluster$Var1)\n",
    "    {\n",
    "      particular_cluster_cat <- subset(df_counts_cluster,df_counts_cluster$Var1 == category)\n",
    "      particular_cluster_other_cat <- subset(df_counts_cluster,df_counts_cluster$Var1 != category)\n",
    "      sumatory_cat <- sum(as.numeric(as.character(particular_cluster_cat$Freq)))\n",
    "      sumatory_other_cat <- sum(as.numeric(as.character(particular_cluster_other_cat$Freq)))\n",
    "      \n",
    "      vector_cluster <- c(sumatory_cat, sumatory_other_cat)\n",
    "      \n",
    "      dif_clusters_cat <- subset(df_counts_other_clusters,df_counts_other_clusters$Var1 == category)\n",
    "      dif_clusters_dif_cat <- subset(df_counts_other_clusters,df_counts_other_clusters$Var1 != category)\n",
    "      sumatory_dif_clusters_cat <- sum(as.numeric(as.character(dif_clusters_cat$Freq)))\n",
    "      sumatory_dif_clusters_dif_cat <- sum(as.numeric(as.character(dif_clusters_dif_cat$Freq)))\n",
    "      \n",
    "      vector_other_clusters <- c(sumatory_dif_clusters_cat, sumatory_dif_clusters_dif_cat)\n",
    "      \n",
    "      contingency_table <<- rbind(vector_cluster, vector_other_clusters)\n",
    "      colnames(contingency_table) <- c('Particular_location','Other_locations')\n",
    "      rownames(contingency_table) <- c('Particular_Cluster','Other_clusters')\n",
    "      \n",
    "          \n",
    "    result_fisher_test <- fisher.test(x=contingency_table,alternative=\"greater\") # We perform a Fisher test using our contingency table\n",
    "    \n",
    "    naive_p_value <- as.numeric(as.character(result_fisher_test[1]))\n",
    "    \n",
    "    result <- c(cluster, category, naive_p_value)\n",
    "    results_association <<- rbind(results_association,result)\n",
    "    \n",
    "    }\n",
    "    \n",
    "}\n",
    "\n",
    "colnames(results_association) <- c('Plasmid_Inc.type','country','naive_pvalue')\n",
    "results_association <- as.data.frame(results_association)\n",
    "results_association$naive_pvalue <- as.numeric(as.character(results_association$naive_pvalue))\n",
    "\n",
    "results_association$bh_correction <- p.adjust(results_association$naive_pvalue, method = 'BH', n = length(results_association$naive_pvalue)) # Correcting by Benjamini-Hochberg (BH)\n",
    "results_association$bonferroni_correction <- p.adjust(results_association$naive_pvalue, method = 'bonferroni', n = length(results_association$naive_pvalue)) # Correcting by Bonferroni\n",
    "\n",
    "results_association\n",
    "\n",
    "subset(results_association, results_association$bh_correction < 0.05)\n",
    "\n",
    "subset(results_association, results_association$naive_pvalue < 0.05)\n",
    "\n",
    "clusters_association <- subset(results_association, results_association$bonferroni_correction < 0.05)\n",
    "\n",
    "clusters_association"
   ]
  },
  {
   "cell_type": "code",
   "execution_count": null,
   "id": "e1071bb3-9da1-4f58-baef-427a720e2d1b",
   "metadata": {},
   "outputs": [],
   "source": [
    "pl_pop_metadata %>%\n",
    "dplyr::count(Inc_type)\n",
    "\n",
    "pl_pop_metadata %>%\n",
    "dplyr::count(country)"
   ]
  },
  {
   "cell_type": "markdown",
   "id": "b7e1811d-b6bd-45ad-864e-a1ac0720fb38",
   "metadata": {},
   "source": [
    "### Inc & host"
   ]
  },
  {
   "cell_type": "code",
   "execution_count": null,
   "id": "e26da7ea-786e-44ef-80af-624d60eda417",
   "metadata": {},
   "outputs": [],
   "source": [
    "pl_pop_metadata<-metadata[-which((metadata$Inc_type=='Missing') | (metadata$host=='Missing')),]\n",
    "\n",
    "#pl_pop_metadata <- subset(pl_pop_metadata, pl_pop_metadata$host_all %in% keep)\n",
    "\n",
    "#pl_pop_metadata <- subset(pl_pop_metadata, pl_pop_metadata$Inc_type %in% sel_c)\n",
    "\n",
    "pl_pop_metadata$Inc_type<-as.character(pl_pop_metadata$Inc_type)\n",
    "pl_pop_metadata$host_all<-as.character(pl_pop_metadata$host)\n",
    "\n",
    "# check if there is a significant association  \n",
    "\n",
    "results_association <- NULL\n",
    "\n",
    "for(cluster in levels(as.factor(pl_pop_metadata$Inc_type)))#####change\n",
    "{\n",
    "    df_cluster <- subset(pl_pop_metadata, pl_pop_metadata$Inc_type == cluster)#####change\n",
    "    df_other_clusters <- subset(pl_pop_metadata, pl_pop_metadata$Inc_type != cluster)#####change\n",
    "\n",
    "    df_counts_cluster <- as.data.frame(table(df_cluster$host))#####change\n",
    "    df_counts_other_clusters <- as.data.frame(table(df_other_clusters$host))#####change\n",
    "    \n",
    "    for(category in df_counts_cluster$Var1)\n",
    "    {\n",
    "      particular_cluster_cat <- subset(df_counts_cluster,df_counts_cluster$Var1 == category)\n",
    "      particular_cluster_other_cat <- subset(df_counts_cluster,df_counts_cluster$Var1 != category)\n",
    "      sumatory_cat <- sum(as.numeric(as.character(particular_cluster_cat$Freq)))\n",
    "      sumatory_other_cat <- sum(as.numeric(as.character(particular_cluster_other_cat$Freq)))\n",
    "      \n",
    "      vector_cluster <- c(sumatory_cat, sumatory_other_cat)\n",
    "      \n",
    "      dif_clusters_cat <- subset(df_counts_other_clusters,df_counts_other_clusters$Var1 == category)\n",
    "      dif_clusters_dif_cat <- subset(df_counts_other_clusters,df_counts_other_clusters$Var1 != category)\n",
    "      sumatory_dif_clusters_cat <- sum(as.numeric(as.character(dif_clusters_cat$Freq)))\n",
    "      sumatory_dif_clusters_dif_cat <- sum(as.numeric(as.character(dif_clusters_dif_cat$Freq)))\n",
    "      \n",
    "      vector_other_clusters <- c(sumatory_dif_clusters_cat, sumatory_dif_clusters_dif_cat)\n",
    "      \n",
    "      contingency_table <<- rbind(vector_cluster, vector_other_clusters)\n",
    "      colnames(contingency_table) <- c('Particular_location','Other_locations')\n",
    "      rownames(contingency_table) <- c('Particular_Cluster','Other_clusters')\n",
    "      \n",
    "          \n",
    "    result_fisher_test <- fisher.test(x=contingency_table,alternative=\"greater\") # We perform a Fisher test using our contingency table\n",
    "    \n",
    "    naive_p_value <- as.numeric(as.character(result_fisher_test[1]))\n",
    "    \n",
    "    result <- c(cluster, category, naive_p_value)\n",
    "    results_association <<- rbind(results_association,result)\n",
    "    \n",
    "    }\n",
    "    \n",
    "}\n",
    "\n",
    "colnames(results_association) <- c('Plasmid_Inc.type','Source','naive_pvalue')\n",
    "results_association <- as.data.frame(results_association)\n",
    "results_association$naive_pvalue <- as.numeric(as.character(results_association$naive_pvalue))\n",
    "\n",
    "results_association$bh_correction <- p.adjust(results_association$naive_pvalue, method = 'BH', n = length(results_association$naive_pvalue)) # Correcting by Benjamini-Hochberg (BH)\n",
    "results_association$bonferroni_correction <- p.adjust(results_association$naive_pvalue, method = 'bonferroni', n = length(results_association$naive_pvalue)) # Correcting by Bonferroni\n",
    "\n",
    "results_association\n",
    "\n",
    "subset(results_association, results_association$bh_correction < 0.05)\n",
    "\n",
    "subset(results_association, results_association$naive_pvalue < 0.05)\n",
    "\n",
    "clusters_association <- subset(results_association, results_association$bonferroni_correction < 0.05)\n",
    "\n",
    "clusters_association"
   ]
  },
  {
   "cell_type": "code",
   "execution_count": null,
   "id": "39663617-a6f3-454b-8774-42a31c7e613d",
   "metadata": {},
   "outputs": [],
   "source": [
    "pl_pop_metadata %>%\n",
    "dplyr::count(Inc_type)\n",
    "\n",
    "pl_pop_metadata %>%\n",
    "dplyr::count(host)"
   ]
  },
  {
   "cell_type": "code",
   "execution_count": null,
   "id": "0136ca48-7825-41ec-80a1-2fd17882173f",
   "metadata": {},
   "outputs": [],
   "source": [
    "write.csv(x =ndm_all, file = './input/ndm_all_processed.csv', row.names = FALSE))"
   ]
  },
  {
   "cell_type": "markdown",
   "id": "4766e57c-b04e-4091-882b-bb71021ee06b",
   "metadata": {},
   "source": [
    "# inner pop"
   ]
  },
  {
   "cell_type": "markdown",
   "id": "71b112c7-34e0-4787-888a-2db19b88adb3",
   "metadata": {},
   "source": [
    "## TGS"
   ]
  },
  {
   "cell_type": "code",
   "execution_count": null,
   "id": "5004eae2-ce98-4d74-b8b3-25f563107ed0",
   "metadata": {},
   "outputs": [],
   "source": [
    "lo_order<-ndm_all%>%\n",
    "dplyr::count(rep2)\n",
    "lo_order<-lo_order[-which(lo_order$rep2=='Missing'),]\n",
    "lo_order[order(-lo_order$n),]$rep2"
   ]
  },
  {
   "cell_type": "markdown",
   "id": "cd329a95-2732-4247-be58-d03eb04e291a",
   "metadata": {
    "tags": []
   },
   "source": [
    "### IncX3"
   ]
  },
  {
   "cell_type": "code",
   "execution_count": null,
   "id": "d21992a4-371d-4526-94f9-bb6dafed2f65",
   "metadata": {},
   "outputs": [],
   "source": [
    "colnames(ndm_all)"
   ]
  },
  {
   "cell_type": "code",
   "execution_count": null,
   "id": "6c91b682-ea28-4cee-908f-f1175e27ec29",
   "metadata": {
    "tags": []
   },
   "outputs": [],
   "source": [
    "incx3<-ndm_all[which(ndm_all$rep2 == 'IncX3'),]\n",
    "incx3.1<-as.data.frame(cbind(incx3$ACC_NUCCORE,incx3$rep2,incx3$Length_NUCCORE,incx3$taxon_name,incx3$host_all,incx3$Location2,incx3$subtype))\n",
    "incx3.1<-unique(incx3.1)\n",
    "colnames(incx3.1)=c('ACC_NUCCORE','rep2','Length_NUCCORE','taxon_name','host_all','continent','subtype')\n",
    "incx3.1$Length_NUCCORE<-as.numeric(as.character(incx3.1$Length_NUCCORE))\n",
    "incx3.1 %>%\n",
    "dplyr::count(taxon_name)\n",
    "#arrange(incx3.1,Length_NUCCORE)\n",
    "#incx3.1<-incx3.1[which((incx3.1$Length_NUCCORE > 46000) & (incx3.1$Length_NUCCORE < 47000)),]\n",
    "incx3.1_E<-incx3.1[which(incx3.1$taxon_name=='Escherichia coli'),]\n",
    "incx3.1_E %>%\n",
    "dplyr::count(subtype)\n",
    "incx3.1_K<-incx3.1[which(incx3.1$taxon_name=='Klebsiella pneumoniae'),]\n",
    "incx3.1_K %>%\n",
    "dplyr::count(subtype)\n",
    "#write.csv(x =incx3.1_E, file = './input/incx3.1_E.csv', row.names = FALSE)\n",
    "#write.csv(x =incx3.1_K, file = './input/incx3.1_K.csv', row.names = FALSE)"
   ]
  },
  {
   "cell_type": "markdown",
   "id": "f2c7e844-a45e-466a-8d77-168aec919b51",
   "metadata": {},
   "source": [
    "### IncA/C"
   ]
  },
  {
   "cell_type": "code",
   "execution_count": null,
   "id": "ab3038ca-d398-4318-92c9-5987fa2426cd",
   "metadata": {},
   "outputs": [],
   "source": [
    "incac<-ndm_all[which(ndm_all$rep2 == 'IncA/C'),]\n",
    "incac.1<-as.data.frame(cbind(incac$ACC_NUCCORE,incac$rep2,incac$Length_NUCCORE,incac$taxon_name,incac$host_all,incac$Location2,incac$subtype))\n",
    "incac.1<-unique(incac.1)\n",
    "colnames(incac.1)=c('ACC_NUCCORE','rep2','Length_NUCCORE','taxon_name','host_all','continent','subtype')\n",
    "incac.1$Length_NUCCORE<-as.numeric(as.character(incac.1$Length_NUCCORE))\n",
    "incac.1  %>%\n",
    "dplyr::count(taxon_name)\n",
    "#arrange(incac.1,Length_NUCCORE)\n",
    "#incac.1<-incac.1[which((incac.1$Length_NUCCORE > 46000) & (incac.1$Length_NUCCORE < 47000)),]\n",
    "incac.1_E<-incac.1[which(incac.1$taxon_name=='Escherichia coli'),]\n",
    "incac.1_E %>%\n",
    "dplyr::count(subtype)\n",
    "incac.1_K<-incac.1[which(incac.1$taxon_name=='Klebsiella pneumoniae'),]\n",
    "incac.1_K %>%\n",
    "dplyr::count(subtype)\n",
    "#write.csv(x =incac.1_E, file = './input/incac.1_E.csv', row.names = FALSE)\n",
    "#write.csv(x =incac.1_K, file = './input/incac.1_K.csv', row.names = FALSE)"
   ]
  },
  {
   "cell_type": "markdown",
   "id": "db8a9d4f-8c5f-4f1a-8431-2c58d6f1f0f8",
   "metadata": {},
   "source": [
    "### IncFII"
   ]
  },
  {
   "cell_type": "code",
   "execution_count": null,
   "id": "54ef7468-6a8c-44d8-8979-3903cf978a9a",
   "metadata": {},
   "outputs": [],
   "source": [
    "incf2<-ndm_all[which(ndm_all$rep2 == 'IncFII'),]\n",
    "incf2.1<-as.data.frame(cbind(incf2$ACC_NUCCORE,incf2$rep2,incf2$Length_NUCCORE,incf2$taxon_name,incf2$host_all,incf2$Location2,incf2$subtype))\n",
    "incf2.1<-unique(incf2.1)\n",
    "colnames(incf2.1)=c('ACC_NUCCORE','rep2','Length_NUCCORE','taxon_name','host_all','continent','subtype')\n",
    "incf2.1$Length_NUCCORE<-as.numeric(as.character(incf2.1$Length_NUCCORE))\n",
    "incf2.1  %>%\n",
    "dplyr::count(taxon_name)\n",
    "#arrange(incf2.1,Length_NUCCORE)\n",
    "#incf2.1<-incf2.1[which((incf2.1$Length_NUCCORE > 46000) & (incf2.1$Length_NUCCORE < 47000)),]\n",
    "incf2.1_E<-incf2.1[which(incf2.1$taxon_name=='Escherichia coli'),]\n",
    "incf2.1_E %>%\n",
    "dplyr::count(subtype)\n",
    "incf2.1_K<-incf2.1[which(incf2.1$taxon_name=='Klebsiella pneumoniae'),]\n",
    "incf2.1_K %>%\n",
    "dplyr::count(subtype)\n",
    "#write.csv(x =incf2.1_E, file = './input/incf2.1_E.csv', row.names = FALSE)\n",
    "#write.csv(x =incf2.1_K, file = './input/incf2.1_K.csv', row.names = FALSE)"
   ]
  },
  {
   "cell_type": "markdown",
   "id": "635b96a5-b2f7-4d38-84e7-e6153cc156bb",
   "metadata": {},
   "source": [
    "### IncFIB"
   ]
  },
  {
   "cell_type": "code",
   "execution_count": null,
   "id": "fb0c3499-20d8-4fc4-9ecc-93ac65489dde",
   "metadata": {},
   "outputs": [],
   "source": [
    "incfib<-ndm_all[which(ndm_all$rep2 == 'IncFIB'),]\n",
    "incfib.1<-as.data.frame(cbind(incfib$ACC_NUCCORE,incfib$rep2,incfib$Length_NUCCORE,incfib$taxon_name,incfib$host_all,incfib$Location2,incfib$subtype))\n",
    "incfib.1<-unique(incfib.1)\n",
    "colnames(incfib.1)=c('ACC_NUCCORE','rep2','Length_NUCCORE','taxon_name','host_all','continent','subtype')\n",
    "incfib.1$Length_NUCCORE<-as.numeric(as.character(incfib.1$Length_NUCCORE))\n",
    "incfib.1  %>%\n",
    "dplyr::count(taxon_name)\n",
    "#arrange(incfib.1,Length_NUCCORE)\n",
    "#incfib.1<-incfib.1[which((incfib.1$Length_NUCCORE > 46000) & (incfib.1$Length_NUCCORE < 47000)),]\n",
    "incfib.1_E<-incfib.1[which(incfib.1$taxon_name=='Escherichia coli'),]\n",
    "incfib.1_E %>%\n",
    "dplyr::count(subtype)\n",
    "incfib.1_K<-incfib.1[which(incfib.1$taxon_name=='Klebsiella pneumoniae'),]\n",
    "incfib.1_K %>%\n",
    "dplyr::count(subtype)"
   ]
  },
  {
   "cell_type": "markdown",
   "id": "27fb6dba-a200-4c60-b2d5-f400ce8ed193",
   "metadata": {},
   "source": [
    "### IncFIA"
   ]
  },
  {
   "cell_type": "code",
   "execution_count": null,
   "id": "5b2e5255-2db4-49b1-bb77-d0dc91ca8166",
   "metadata": {},
   "outputs": [],
   "source": [
    "incfia<-ndm_all[which(ndm_all$rep2 == 'IncFIA'),]\n",
    "incfia.1<-as.data.frame(cbind(incfia$ACC_NUCCORE,incfia$rep2,incfia$Length_NUCCORE,incfia$taxon_name,incfia$host_all,incfia$Location2,incfia$subtype))\n",
    "incfia.1<-unique(incfia.1)\n",
    "colnames(incfia.1)=c('ACC_NUCCORE','rep2','Length_NUCCORE','taxon_name','host_all','continent','subtype')\n",
    "incfia.1$Length_NUCCORE<-as.numeric(as.character(incfia.1$Length_NUCCORE))\n",
    "incfia.1 %>%\n",
    "dplyr::count(host_all)\n",
    "#arrange(incfia.1,Length_NUCCORE)\n",
    "#incfia.1<-incfia.1[which((incfia.1$Length_NUCCORE > 46000) & (incfia.1$Length_NUCCORE < 47000)),]\n",
    "incfia.1_E<-incfia.1[which(incfia.1$taxon_name=='Escherichia coli'),]\n",
    "incfia.1_E %>%\n",
    "dplyr::count(subtype)"
   ]
  },
  {
   "cell_type": "markdown",
   "id": "93adc6f6-65f0-4f21-ad51-440cc0851330",
   "metadata": {},
   "source": [
    "## add NGS data"
   ]
  },
  {
   "cell_type": "markdown",
   "id": "1c2f6866-1a35-4e0f-92d8-653e8bd354b9",
   "metadata": {},
   "source": [
    "### E.coli"
   ]
  },
  {
   "cell_type": "code",
   "execution_count": null,
   "id": "c97176d0-8d30-40a5-9f9e-65af6c259baf",
   "metadata": {
    "tags": []
   },
   "outputs": [],
   "source": [
    "prediction_contigs_raw <- read.csv('./input/prediction_contigs_raw_merge.csv', header = T,stringsAsFactors=F)#predicted by mlplasmid\n",
    "Assembly_metadata<-read.table('./input/microbigge.tsv',sep=\"\\t\",header=T,row.names=NULL,quote=\"\",stringsAsFactors=F)\n",
    "Assembly_metadata$Contig<-gsub(pattern='NZ_',replacement='',Assembly_metadata$Contig)"
   ]
  },
  {
   "cell_type": "code",
   "execution_count": null,
   "id": "a98917e5-5566-4ce5-857d-edeb895a9840",
   "metadata": {},
   "outputs": [],
   "source": [
    "colnames(prediction_contigs_raw)\n",
    "colnames(Assembly_metadata)"
   ]
  },
  {
   "cell_type": "code",
   "execution_count": null,
   "id": "62adff69-9f9c-457c-81e9-d575442bba69",
   "metadata": {},
   "outputs": [],
   "source": [
    "colnames(Assembly_metadata)[5]<-'contig'"
   ]
  },
  {
   "cell_type": "code",
   "execution_count": null,
   "id": "025c977f-309e-482e-b6e3-eecf1842c8b8",
   "metadata": {
    "tags": []
   },
   "outputs": [],
   "source": [
    "prediction_contigs <- left_join(Assembly_metadata,unique(prediction_contigs_raw),by='contig',copy=TRUE)\n",
    "dim(prediction_contigs)\n",
    "colnames(prediction_contigs)"
   ]
  },
  {
   "cell_type": "code",
   "execution_count": null,
   "id": "5fb3659a-fa4e-4f33-b4f9-1d746eab3609",
   "metadata": {},
   "outputs": [],
   "source": [
    "cols95 <- c('Isolation.type' , 'Isolation.source','Host')\n",
    "prediction_contigs$isolation_all <- apply( prediction_contigs[ , cols95 ] , 1 , paste , collapse = \",\" )\n",
    "\n",
    "prediction_contigs$Host[is.na(prediction_contigs$Host)]<-prediction_contigs$Isolation.source[is.na(prediction_contigs$Host)]\n",
    "prediction_contigs$Host[which(prediction_contigs$Host=='')]<-prediction_contigs$Isolation.source[which(prediction_contigs$Host=='')]\n",
    "prediction_contigs$Host[which(prediction_contigs$Host=='Not Available')]<-prediction_contigs$Isolation.source[which(prediction_contigs$Host=='Not Available')]\n",
    "prediction_contigs$Host[which(prediction_contigs$Host=='not collected')]<-prediction_contigs$Isolation.source[which(prediction_contigs$Host=='not collected')]\n",
    "\n",
    "prediction_contigs$Host[is.na(prediction_contigs$Host)]<-prediction_contigs$Isolation.type[is.na(prediction_contigs$Host)]\n",
    "prediction_contigs$Host[which(prediction_contigs$Host=='')]<-prediction_contigs$Isolation.type[which(prediction_contigs$Host=='')]\n",
    "\n",
    "prediction_contigs$Host[is.na(prediction_contigs$Host)]<-'Missing'\n",
    "\n",
    "prediction_contigs$Host1<-prediction_contigs$Host"
   ]
  },
  {
   "cell_type": "code",
   "execution_count": null,
   "id": "a801b84d-3051-412a-8857-d2c309150b45",
   "metadata": {},
   "outputs": [],
   "source": [
    "prediction_contigs$Host[which(grepl('clinical|patient|human|lung|Homo|blood|urine', prediction_contigs$Host,ignore.case = TRUE))] <- 'Homo sapiens'\n",
    "#prediction_contigs$Host[which(grepl('fly|cat|chicken|dog|duck|cattle|pig|swine|poultry|swab|feces', prediction_contigs$Host,ignore.case = TRUE))] <- 'Animal'\n",
    "prediction_contigs$Host[which(grepl('leaf|spinach', prediction_contigs$Host,ignore.case = TRUE))] <- 'Vegetable'\n",
    "prediction_contigs$Host[which(grepl('Chicken manure compost|feed|Siphon', prediction_contigs$Host,ignore.case = TRUE))] <- 'Breeding environment'\n",
    "prediction_contigs$Host[which(grepl('sewage from slaughterhouse', prediction_contigs$Host,ignore.case = TRUE))] <- 'Slaughtering environment'\n",
    "prediction_contigs$Host[which(grepl('Dog Environment', prediction_contigs$Host,ignore.case = TRUE))] <- 'Pet environment'\n",
    "prediction_contigs$Host[which(grepl('washroom sink in hospital intensive care|medical sewage', prediction_contigs$Host,ignore.case = TRUE))] <- 'Hospital environment'\n",
    "prediction_contigs$Host[which(grepl('supermarket|meat|milk|market', prediction_contigs$Host,ignore.case = TRUE))] <- 'Animal food'\n",
    "prediction_contigs$Host[which(grepl('chicken|duck|poultry|Broiler', prediction_contigs$Host,ignore.case = TRUE))] <- 'Poultry'\n",
    "prediction_contigs$Host[which(grepl('pig|swine', prediction_contigs$Host,ignore.case = TRUE))] <- 'Swine'\n",
    "prediction_contigs$Host[which(grepl('Equus caballus', prediction_contigs$Host,ignore.case = TRUE))] <- 'Horse'\n",
    "prediction_contigs$Host[which(grepl('fly', prediction_contigs$Host,ignore.case = TRUE))] <- 'Fly'\n",
    "prediction_contigs$Host[which(grepl('cattle', prediction_contigs$Host,ignore.case = TRUE))] <- 'Cattle'\n",
    "#prediction_contigs$Host[which(grepl('swallow', prediction_contigs$Host,ignore.case = TRUE))] <- 'Swallow'\n",
    "prediction_contigs$Host[which(grepl('Spheniscus magellanicus|swallow', prediction_contigs$Host,ignore.case = TRUE))] <- 'Wild animal'\n",
    "prediction_contigs$Host[which(grepl('Canis lupus familiaris|Companion animal|dog', prediction_contigs$Host,ignore.case = TRUE))] <- 'Pet'\n",
    "prediction_contigs$Host[which(grepl('Sewage|water|environment|^environmental$|soil|Door|counter|environmental sample|floor|rug|shoes|computer|wood siding|Thermometer|yard|pump|frame', prediction_contigs$Host,ignore.case = TRUE))] <- 'Environment'\n",
    "prediction_contigs$Host[which(grepl('swab|feces|not|other|Chlorohexidine|ceftazidime', prediction_contigs$Host,ignore.case = TRUE))] <- 'Missing'\n",
    "\n",
    "#prediction_contigs=prediction_contigs %>% drop_na(Element.symbol)\n",
    "\n",
    "prediction_contigs %>%\n",
    "    dplyr::count(Host)"
   ]
  },
  {
   "cell_type": "code",
   "execution_count": null,
   "id": "3def0023-d577-4e0c-8e14-74849fcb85f2",
   "metadata": {},
   "outputs": [],
   "source": [
    "prediction_contigs$Location<-str_split_fixed(prediction_contigs$Location,\":\",2)[,1]\n",
    "\n",
    "prediction_contigs$Location[which(grepl('China|Hong|Taiwan', prediction_contigs$Location,ignore.case = TRUE))] <- 'China'\n",
    "prediction_contigs$Location<-gsub('\"','',prediction_contigs$Location)\n",
    "prediction_contigs$Location[is.na(prediction_contigs$Location)]<-'Missing'\n",
    "prediction_contigs$Location[which(prediction_contigs$Location=='')]<-'Missing'\n",
    "prediction_contigs$Location[which(prediction_contigs$Location=='not collected')]<-'Missing'\n",
    "\n",
    "prediction_contigs$Location2<-prediction_contigs$Location"
   ]
  },
  {
   "cell_type": "code",
   "execution_count": null,
   "id": "d7175e11-8c34-4f58-8dc4-2d9f3dca8973",
   "metadata": {},
   "outputs": [],
   "source": [
    "prediction_contigs$Location2[which(grepl('Afghanistan|Armenia|Azerbaijan|Bahrain|Viet Nam|Bangladesh|Bhutan|Brunei|Cambodia|China|Cyprus|East Timor|Georgia|India|Indonesia|Iran|Iraq|Israel|Japan|Jordan|Kazakhstan|Kuwait|Kyrgyzstan|Laos|Lebanon|Malaysia|Maldives|Mongolia|Myanmar|Nepal|North Korea|Oman|Pakistan|State of Palestine|Jerusalem|Philippines|Qatar|Russia|Saudi Arabia|Singapore|South Korea|Sri Lanka|Syria|Taiwan|Tajikistan|Thailand|Turkey|Turkmenistan|United Arab|Uzbekistan|Vietnam|Yemen', prediction_contigs$Location,ignore.case = TRUE))] <- 'Asia'\n",
    "prediction_contigs$Location2[which(grepl('Albania|Andorra|Armenia|Austria|Azerbaijan|Belarus|Belgium|Bosnia and Herzegovina|Bulgaria|Croatia|Cyprus|Czech Republic|Denmark|Estonia|Finland|France|Georgia|Germany|Greece|Hungary|Iceland|Republic of Ireland|Italy|Kazakhstan|Latvia|Liechtenstein|Lithuania|Luxembourg|Malta|Moldova|Monaco|Montenegro|Netherlands|North Macedonia|Norway|Poland|Portugal|Romania|Russia|San Marino|Serbia|Slovakia|Slovenia|Spain|Sweden|Switzerland|Turkey|Ukraine|United Kingdom|Vatican City', prediction_contigs$Location,ignore.case = TRUE))] <- 'Europe'\n",
    "prediction_contigs$Location2[which(grepl('Nigeria|South Africa|Egypt|Algeria|Angola|Morocco|Kenya|Ethiopia|Libya|Ghana|Malawi|Niger', prediction_contigs$Location,ignore.case = TRUE))] <- 'Africa'\n",
    "prediction_contigs$Location2[which(grepl('Anguilla|Antigua and Barbuda|Aruba|Bahamas|Barbados|Belize|Bermuda|Bonaire|British Virgin Islands|Canada|Cayman Islands|France|Costa Rica|Cuba|Curaçao|Dominica|Dominican Republic|El Salvador|Venezuela|Greenland|Grenada|France|Guantanamo Bay Naval Base|Guatemala|Haiti|Honduras|Jamaica|France|Mexico|Montserrat|Brades|Nicaragua|Nueva Esparta|Panama|Puerto Rico|Saba|San Andrés and Providencia|Saint Barthélemy|Saint Kitts and Nevis|Saint Lucia|Saint Martin|Saint Pierre and Miquelon|Saint Vincent and the Grenadines|Sint Eustatius|Sint Maarten|Trinidad and Tobago|Turks and Caicos Islands|United States|United States Virgin Islands|USA', prediction_contigs$Location,ignore.case = TRUE))] <- 'North America'\n",
    "prediction_contigs$Location2[which(grepl('Argentina|Bolivia|Sucre|Norway|Brazil|Chile|Colombia|Ecuador|Falkland Islands|French Guiana|Guyana|Paraguay|Peru|South Georgia and the South Sandwich Islands|Suriname|Uruguay|Venezuela', prediction_contigs$Location,ignore.case = TRUE))] <- 'South America'\n",
    "prediction_contigs$Location2[which(grepl('Australia|Fiji|Kiribati|Marshall Islands|Majuro|Micronesia|Nauru|New Zealand|Palau|Papua New Guinea|Samoa|Solomon Islands|Tonga|Tuvalu|Vanuatu', prediction_contigs$Location,ignore.case = TRUE))] <- 'Australia'\n",
    "\n",
    "prediction_contigs %>%\n",
    "    dplyr::count(Location2)"
   ]
  },
  {
   "cell_type": "code",
   "execution_count": null,
   "id": "3e5cba78-81cd-4e85-b606-a50ef9dbec37",
   "metadata": {},
   "outputs": [],
   "source": [
    "cols96 <- c('rep_type.s.','product')\n",
    "prediction_contigs$rep <- apply( prediction_contigs[ , cols96 ] , 1 , paste , collapse = \",\" )"
   ]
  },
  {
   "cell_type": "code",
   "execution_count": null,
   "id": "43005799-e5e9-47cc-961e-6c21356386fa",
   "metadata": {},
   "outputs": [],
   "source": [
    "prediction_contigs$rep <- str_split_fixed(prediction_contigs$rep, \"\\\\,\", 2)[,1]"
   ]
  },
  {
   "cell_type": "code",
   "execution_count": null,
   "id": "dafd42bf-01bd-4a61-8038-567af580e984",
   "metadata": {},
   "outputs": [],
   "source": [
    "prediction_contigs %>%\n",
    "    dplyr::count(rep)"
   ]
  },
  {
   "cell_type": "code",
   "execution_count": null,
   "id": "5893dc73-fb85-46ef-a7c0-941296e00e9c",
   "metadata": {},
   "outputs": [],
   "source": [
    "predicted_plasmid_contigs<-prediction_contigs[-which(prediction_contigs$rep %in% c('NA','-')),] \n",
    "dim(predicted_plasmid_contigs)\n",
    "predicted_chr_contigs <- subset(prediction_contigs,prediction_contigs$Prediction=='Chromosome')\n",
    "dim(predicted_chr_contigs)"
   ]
  },
  {
   "cell_type": "code",
   "execution_count": null,
   "id": "c7b4b759-90b6-46c6-b5f1-dfb2140e7a2e",
   "metadata": {
    "tags": []
   },
   "outputs": [],
   "source": [
    "predicted_plasmid_contigs_del<-predicted_plasmid_contigs[-which(duplicated(predicted_plasmid_contigs$Assembly.x)),]\n",
    "predicted_chr_contigs_del<-predicted_chr_contigs[-which(duplicated(predicted_chr_contigs$Assembly.x)),]\n",
    "dim(predicted_plasmid_contigs_del)\n",
    "dim(predicted_chr_contigs_del)"
   ]
  },
  {
   "cell_type": "code",
   "execution_count": null,
   "id": "d1b6922c-60ac-4777-9bff-5dfe6d2f0251",
   "metadata": {
    "tags": []
   },
   "outputs": [],
   "source": [
    "del2p<-predicted_plasmid_contigs[duplicated(predicted_plasmid_contigs$Assembly.x),]$Assembly.x\n",
    "del2c<-predicted_chr_contigs[duplicated(predicted_chr_contigs$Assembly.x),]$Assembly.x\n",
    "predicted_plasmid_contigs_del2<-predicted_plasmid_contigs[-which(predicted_plasmid_contigs$Assembly.x %in% del2p),]\n",
    "predicted_chr_contigs_del2<-predicted_chr_contigs[-which(predicted_chr_contigs$Assembly.x %in% del2c),]\n",
    "dim(predicted_plasmid_contigs_del2)\n",
    "dim(predicted_chr_contigs_del2)"
   ]
  },
  {
   "cell_type": "code",
   "execution_count": null,
   "id": "8a4db2bb-bffa-40bf-b88c-9b0205e26de5",
   "metadata": {},
   "outputs": [],
   "source": [
    "predicted_plasmid_contigs_del %>%\n",
    "    dplyr::count(rep)"
   ]
  },
  {
   "cell_type": "code",
   "execution_count": null,
   "id": "f6496611-da65-4855-bf6d-7f51f4ae1224",
   "metadata": {
    "tags": []
   },
   "outputs": [],
   "source": [
    "predicted_plasmid_contigs_del %>% \n",
    "  dplyr::group_by(Element.symbol.x) %>% \n",
    "  dplyr::summarise(Count=n())"
   ]
  },
  {
   "cell_type": "code",
   "execution_count": null,
   "id": "de94dfe0-fc33-4a11-9518-e9a57411f175",
   "metadata": {},
   "outputs": [],
   "source": [
    "predicted_chr_contigs_del %>% \n",
    "  dplyr::group_by(Element.symbol.x) %>% \n",
    "  dplyr::summarise(Count=n())"
   ]
  },
  {
   "cell_type": "markdown",
   "id": "cc32077a-40cf-4749-8469-ca3803bff2bf",
   "metadata": {},
   "source": [
    "#### IncX3"
   ]
  },
  {
   "cell_type": "code",
   "execution_count": null,
   "id": "9cc3c513-d863-4650-9588-71007be0ca66",
   "metadata": {
    "tags": []
   },
   "outputs": [],
   "source": [
    "a_incx3<-predicted_plasmid_contigs_del[which(predicted_plasmid_contigs_del$rep == 'IncX3'),]\n",
    "a_incx3.1<-as.data.frame(cbind(a_incx3$Assembly.x,a_incx3$rep,a_incx3$Contig_length,a_incx3$Host,a_incx3$contig,a_incx3$Location2,a_incx3$Element.symbol.x))\n",
    "a_incx3.1<-unique(a_incx3.1)\n",
    "colnames(a_incx3.1)=c('Assembly_number','Inc_type','Length','Host','Contig','Continent','Subtype')\n",
    "a_incx3.1$Length<-as.numeric(as.character(a_incx3.1$Length))\n",
    "#arrange(a_incx3.1,Length)\n",
    "a_incx3.2<-a_incx3.1[which((a_incx3.1$Subtype == 'blaNDM-5')),]\n",
    "#arrange(a_incx3.2,Length)\n",
    "dim(a_incx3.1)\n",
    "#write.csv(x =a_incx3.1, file = './input/a_incx3.1_E.csv', row.names = FALSE)\n",
    "#write.csv(x =a_incx3.2, file = './input/a_incx3.2_E.csv', row.names = FALSE)\n",
    "\n",
    "a_incx3.1 %>%\n",
    "dplyr::count(Continent)\n",
    "\n",
    "a_incx3.1 %>%\n",
    "dplyr::count(Subtype)\n",
    "\n",
    "a_incx3.1 %>%\n",
    "dplyr::count(Host)"
   ]
  },
  {
   "cell_type": "markdown",
   "id": "1893ebee-9331-4b2d-b817-157ac59e1097",
   "metadata": {},
   "source": [
    "#### IncFIA"
   ]
  },
  {
   "cell_type": "code",
   "execution_count": null,
   "id": "084d2f9a-78ce-4181-87fa-7803751a62f2",
   "metadata": {},
   "outputs": [],
   "source": [
    "a_incfia<-predicted_plasmid_contigs_del[which(predicted_plasmid_contigs_del$rep == 'IncFIA'),]\n",
    "a_incfia.1<-as.data.frame(cbind(a_incfia$Assembly.x,a_incfia$rep,a_incfia$Contig_length,a_incfia$Host,a_incfia$contig,a_incfia$Location2,a_incfia$Element.symbol.x))\n",
    "a_incfia.1<-unique(a_incfia.1)\n",
    "colnames(a_incfia.1)=c('Assembly_number','Inc_type','Length','Host','Contig','Continent','Subtype')\n",
    "a_incfia.1$Length<-as.numeric(as.character(a_incfia.1$Length))\n",
    "\n",
    "a_incfia.1 %>%\n",
    "dplyr::count(Continent)\n",
    "\n",
    "a_incfia.1 %>%\n",
    "dplyr::count(Host)\n",
    "\n",
    "a_incfia.1 %>%\n",
    "dplyr::count(Subtype)\n",
    "#arrange(a_incfia.1,Length)\n",
    "a_incfia.2<-a_incfia.1[which((a_incfia.1$Subtype == 'blaNDM-5')),]\n",
    "\n",
    "#write.csv(x =a_incfia.1, file = './input/a_incfia.1_E.csv', row.names = FALSE)"
   ]
  },
  {
   "cell_type": "markdown",
   "id": "ea24b160-68d2-4985-b02b-ff26aefdf164",
   "metadata": {},
   "source": [
    "#### IncA/C"
   ]
  },
  {
   "cell_type": "code",
   "execution_count": null,
   "id": "d83103dc-85d9-44a4-a979-d959916cf040",
   "metadata": {},
   "outputs": [],
   "source": [
    "a_incc<-predicted_plasmid_contigs_del[which(predicted_plasmid_contigs_del$rep == 'IncC'),]\n",
    "a_incc.1<-as.data.frame(cbind(a_incc$Assembly.x,a_incc$rep,a_incc$Contig_length,a_incc$Host,a_incc$contig,a_incc$Location2,a_incc$Element.symbol.x))\n",
    "a_incc.1<-unique(a_incc.1)\n",
    "colnames(a_incc.1)=c('Assembly_number','Inc_type','Length','Host','Contig','Continent','Subtype')\n",
    "a_incc.1$Length<-as.numeric(as.character(a_incc.1$Length))\n",
    "a_incc.1 %>%\n",
    "dplyr::count(Subtype)\n",
    "\n",
    "a_incc.1 %>%\n",
    "dplyr::count(Continent)\n",
    "\n",
    "a_incc.1 %>%\n",
    "dplyr::count(Host)\n",
    "#arrange(a_incc.1,Length)\n",
    "#write.csv(x =a_incc.1, file = './input/a_incc.1_E.csv', row.names = FALSE)"
   ]
  },
  {
   "cell_type": "markdown",
   "id": "9375f031-52f0-4e15-8120-7b1a3862030f",
   "metadata": {},
   "source": [
    "### Klebsiella pneumoniae"
   ]
  },
  {
   "cell_type": "code",
   "execution_count": null,
   "id": "4c350962-2a01-4ce9-af9b-d10967bbfde1",
   "metadata": {
    "tags": []
   },
   "outputs": [],
   "source": [
    "ndm_contig_k_type <- read.csv('./input/ndm_contig_k_type.csv', header = T,stringsAsFactors=F)#predicted by mlplasmid\n",
    "assemble_all_contigs_k <- read.csv('./input/assemble_all_contigs_k.csv', header = T,stringsAsFactors=F)\n",
    "k_Assembly_metadata<-read.table('./input/microbigge_k.tsv',sep=\"\\t\",header=T,row.names=NULL,quote=\"\",stringsAsFactors=F)"
   ]
  },
  {
   "cell_type": "code",
   "execution_count": null,
   "id": "b6523bef-a749-4dd6-ab57-4530d82f3b6b",
   "metadata": {
    "tags": []
   },
   "outputs": [],
   "source": [
    "k_Assembly_metadata$Contig<-gsub(pattern='NZ_',replacement='',k_Assembly_metadata$Contig)"
   ]
  },
  {
   "cell_type": "code",
   "execution_count": null,
   "id": "e2bf8f4e-3ad9-486a-94dd-569213994462",
   "metadata": {
    "tags": []
   },
   "outputs": [],
   "source": [
    "assemble_all_contigs_k$Contig_name<-str_split_fixed(assemble_all_contigs_k$Contig_name,\" \",2)[,1]"
   ]
  },
  {
   "cell_type": "code",
   "execution_count": null,
   "id": "4dca9a16-6ac3-491e-b028-9be546581525",
   "metadata": {},
   "outputs": [],
   "source": [
    "colnames(ndm_contig_k_type)\n",
    "colnames(assemble_all_contigs_k)\n",
    "colnames(k_Assembly_metadata)"
   ]
  },
  {
   "cell_type": "code",
   "execution_count": null,
   "id": "ef708081-2efc-46f8-b547-fbf8eae6b00a",
   "metadata": {},
   "outputs": [],
   "source": [
    "head(ndm_contig_k_type)\n",
    "head(assemble_all_contigs_k)\n",
    "head(k_Assembly_metadata)"
   ]
  },
  {
   "cell_type": "code",
   "execution_count": null,
   "id": "410ea84b-efeb-466e-8b3e-d0498ac51bb1",
   "metadata": {},
   "outputs": [],
   "source": [
    "colnames(ndm_contig_k_type)[1]<-'Contig_name'\n",
    "colnames(k_Assembly_metadata)[9]<-'Contig_name'"
   ]
  },
  {
   "cell_type": "code",
   "execution_count": null,
   "id": "16f0e630-b517-4cd7-9759-c29515a059fc",
   "metadata": {},
   "outputs": [],
   "source": [
    "k_prediction_contigs_raw<-left_join(assemble_all_contigs_k,unique(ndm_contig_k_type),by='Contig_name')"
   ]
  },
  {
   "cell_type": "code",
   "execution_count": null,
   "id": "c3ec8ccf-28e5-4fc9-86cc-a54320d7f17a",
   "metadata": {
    "tags": []
   },
   "outputs": [],
   "source": [
    "k_prediction_contigs1 <- left_join(k_Assembly_metadata,unique(k_prediction_contigs_raw),by='Contig_name')"
   ]
  },
  {
   "cell_type": "code",
   "execution_count": null,
   "id": "5aa49e16-b691-4088-a08f-e02f6c1485ff",
   "metadata": {
    "tags": []
   },
   "outputs": [],
   "source": [
    "mapping_type <- read.csv('./input/k_mapping_type.csv', header = T,stringsAsFactors=F)\n",
    "\n",
    "c_type<-subset(ndm_all,select=c('ACC_NUCCORE','rep2','mob','mpf'))\n",
    "k_mapping_type<-left_join(mapping_type,unique(c_type),by='ACC_NUCCORE')\n",
    "\n",
    "k_prediction_contigs<-left_join(k_prediction_contigs1,unique(k_mapping_type),by='Contig_name')\n",
    "dim(k_prediction_contigs)\n",
    "colnames(k_prediction_contigs)"
   ]
  },
  {
   "cell_type": "code",
   "execution_count": null,
   "id": "1e653365-bb1f-4321-ba4b-c45fe8f3b7b4",
   "metadata": {},
   "outputs": [],
   "source": [
    "cols95 <- c('Isolation.type' , 'Isolation.source','Host')\n",
    "k_prediction_contigs$isolation_all <- apply( k_prediction_contigs[ , cols95 ] , 1 , paste , collapse = \",\" )\n",
    "\n",
    "k_prediction_contigs$Host[is.na(k_prediction_contigs$Host)]<-k_prediction_contigs$Isolation.source[is.na(k_prediction_contigs$Host)]\n",
    "k_prediction_contigs$Host[which(k_prediction_contigs$Host=='')]<-k_prediction_contigs$Isolation.source[which(k_prediction_contigs$Host=='')]\n",
    "k_prediction_contigs$Host[which(k_prediction_contigs$Host=='Not Available')]<-k_prediction_contigs$Isolation.source[which(k_prediction_contigs$Host=='Not Available')]\n",
    "k_prediction_contigs$Host[which(k_prediction_contigs$Host=='not collected')]<-k_prediction_contigs$Isolation.source[which(k_prediction_contigs$Host=='not collected')]\n",
    "\n",
    "k_prediction_contigs$Host[is.na(k_prediction_contigs$Host)]<-k_prediction_contigs$Isolation.type[is.na(k_prediction_contigs$Host)]\n",
    "k_prediction_contigs$Host[which(k_prediction_contigs$Host=='')]<-k_prediction_contigs$Isolation.type[which(k_prediction_contigs$Host=='')]\n",
    "\n",
    "k_prediction_contigs$Host[is.na(k_prediction_contigs$Host)]<-'Missing'\n",
    "\n",
    "k_prediction_contigs$Host1<-k_prediction_contigs$Host"
   ]
  },
  {
   "cell_type": "code",
   "execution_count": null,
   "id": "02427939-5d71-4bcf-88f9-952e0b5857ca",
   "metadata": {},
   "outputs": [],
   "source": [
    "k_prediction_contigs$Host[which(grepl('clinical|patient|human|lung|Homo|blood|urine|hospital', k_prediction_contigs$Host,ignore.case = TRUE))] <- 'Homo sapiens'\n",
    "#k_prediction_contigs$Host[which(grepl('fly|cat|chicken|dog|duck|cattle|pig|swine|poultry|swab|feces', k_prediction_contigs$Host,ignore.case = TRUE))] <- 'Animal'\n",
    "k_prediction_contigs$Host[which(grepl('leaf|spinach', k_prediction_contigs$Host,ignore.case = TRUE))] <- 'Vegetable'\n",
    "k_prediction_contigs$Host[which(grepl('Chicken manure compost|feed|Siphon', k_prediction_contigs$Host,ignore.case = TRUE))] <- 'Breeding environment'\n",
    "k_prediction_contigs$Host[which(grepl('sewage from slaughterhouse', k_prediction_contigs$Host,ignore.case = TRUE))] <- 'Slaughtering environment'\n",
    "k_prediction_contigs$Host[which(grepl('Dog Environment', k_prediction_contigs$Host,ignore.case = TRUE))] <- 'Pet environment'\n",
    "k_prediction_contigs$Host[which(grepl('washroom sink in hospital intensive care|medical sewage', k_prediction_contigs$Host,ignore.case = TRUE))] <- 'Hospital environment'\n",
    "k_prediction_contigs$Host[which(grepl('supermarket|meat|milk|market', k_prediction_contigs$Host,ignore.case = TRUE))] <- 'Animal food'\n",
    "k_prediction_contigs$Host[which(grepl('chicken|duck|poultry|Broiler', k_prediction_contigs$Host,ignore.case = TRUE))] <- 'Poultry'\n",
    "k_prediction_contigs$Host[which(grepl('pig|swine', k_prediction_contigs$Host,ignore.case = TRUE))] <- 'Swine'\n",
    "k_prediction_contigs$Host[which(grepl('Equus caballus', k_prediction_contigs$Host,ignore.case = TRUE))] <- 'Horse'\n",
    "k_prediction_contigs$Host[which(grepl('fly', k_prediction_contigs$Host,ignore.case = TRUE))] <- 'Fly'\n",
    "k_prediction_contigs$Host[which(grepl('cattle', k_prediction_contigs$Host,ignore.case = TRUE))] <- 'Cattle'\n",
    "#k_prediction_contigs$Host[which(grepl('swallow', k_prediction_contigs$Host,ignore.case = TRUE))] <- 'Swallow'\n",
    "k_prediction_contigs$Host[which(grepl('Spheniscus magellanicus|swallow|bird', k_prediction_contigs$Host,ignore.case = TRUE))] <- 'Wild animal'\n",
    "k_prediction_contigs$Host[which(grepl('Canis lupus familiaris|Companion animal|dog', k_prediction_contigs$Host,ignore.case = TRUE))] <- 'Pet'\n",
    "k_prediction_contigs$Host[which(grepl('Sewage|water|environment|^environmental$|soil|Door|counter|enviromental|natural|river|sink|fodder|floor|rug|shoes|computer|wood siding|Thermometer|yard|pump|frame', k_prediction_contigs$Host,ignore.case = TRUE))] <- 'Environment'\n",
    "k_prediction_contigs$Host[which(grepl('swab|feces|not|other|Chlorohexidine|ceftazidime', k_prediction_contigs$Host,ignore.case = TRUE))] <- 'Missing'\n",
    "\n",
    "#k_prediction_contigs=k_prediction_contigs %>% drop_na(Element.symbol)\n",
    "\n",
    "k_prediction_contigs %>%\n",
    "    dplyr::count(Host)"
   ]
  },
  {
   "cell_type": "code",
   "execution_count": null,
   "id": "46486bb3-5fa3-4738-a643-1e2c522808aa",
   "metadata": {},
   "outputs": [],
   "source": [
    "k_prediction_contigs$Location<-str_split_fixed(k_prediction_contigs$Location,\":\",2)[,1]\n",
    "\n",
    "k_prediction_contigs$Location[which(grepl('China|Hong|Taiwan', k_prediction_contigs$Location,ignore.case = TRUE))] <- 'China'\n",
    "k_prediction_contigs$Location<-gsub('\"','',k_prediction_contigs$Location)\n",
    "k_prediction_contigs$Location[is.na(k_prediction_contigs$Location)]<-'Missing'\n",
    "k_prediction_contigs$Location[which(k_prediction_contigs$Location=='')]<-'Missing'\n",
    "k_prediction_contigs$Location[which(k_prediction_contigs$Location=='not collected')]<-'Missing'"
   ]
  },
  {
   "cell_type": "code",
   "execution_count": null,
   "id": "660cbb01-83d0-4685-b3cc-712320382684",
   "metadata": {},
   "outputs": [],
   "source": [
    "k_prediction_contigs$Location2<-k_prediction_contigs$Location"
   ]
  },
  {
   "cell_type": "code",
   "execution_count": null,
   "id": "1b1b0e51-f487-441c-a26b-eab982b3d3cc",
   "metadata": {},
   "outputs": [],
   "source": [
    "k_prediction_contigs$Location2[which(grepl('Korea|Afghanistan|Armenia|Azerbaijan|Bahrain|Viet Nam|Bangladesh|Bhutan|Brunei|Cambodia|China|Cyprus|East Timor|Georgia|India|Indonesia|Iran|Iraq|Israel|Japan|Jordan|Kazakhstan|Kuwait|Kyrgyzstan|Laos|Lebanon|Malaysia|Maldives|Mongolia|Myanmar|Nepal|North Korea|Oman|Pakistan|State of Palestine|Jerusalem|Philippines|Qatar|Russia|Saudi Arabia|Singapore|South Korea|Sri Lanka|Syria|Taiwan|Tajikistan|Thailand|Turkey|Turkmenistan|United Arab|Uzbekistan|Vietnam|Yemen', k_prediction_contigs$Location,ignore.case = TRUE))] <- 'Asia'\n",
    "k_prediction_contigs$Location2[which(grepl('Ireland|Albania|Andorra|Armenia|Austria|Azerbaijan|Belarus|Belgium|Bosnia and Herzegovina|Bulgaria|Croatia|Cyprus|Czech Republic|Denmark|Estonia|Finland|France|Georgia|Germany|Greece|Hungary|Iceland|Republic of Ireland|Italy|Kazakhstan|Latvia|Liechtenstein|Lithuania|Luxembourg|Malta|Moldova|Monaco|Montenegro|Netherlands|North Macedonia|Norway|Poland|Portugal|Romania|Russia|San Marino|Serbia|Slovakia|Slovenia|Spain|Sweden|Switzerland|Turkey|Ukraine|United Kingdom|Vatican City', k_prediction_contigs$Location,ignore.case = TRUE))] <- 'Europe'\n",
    "k_prediction_contigs$Location2[which(grepl('Nigeria|South Africa|Egypt|Algeria|Angola|Morocco|Kenya|Ethiopia|Libya|Ghana|Malawi|Niger|Tunisia', k_prediction_contigs$Location,ignore.case = TRUE))] <- 'Africa'\n",
    "k_prediction_contigs$Location2[which(grepl('Anguilla|Antigua and Barbuda|Aruba|Bahamas|Barbados|Belize|Bermuda|Bonaire|British Virgin Islands|Canada|Cayman Islands|France|Costa Rica|Cuba|Curaçao|Dominica|Dominican Republic|El Salvador|Venezuela|Greenland|Grenada|France|Guantanamo Bay Naval Base|Guatemala|Haiti|Honduras|Jamaica|France|Mexico|Montserrat|Brades|Nicaragua|Nueva Esparta|Panama|Puerto Rico|Saba|San Andrés and Providencia|Saint Barthélemy|Saint Kitts and Nevis|Saint Lucia|Saint Martin|Saint Pierre and Miquelon|Saint Vincent and the Grenadines|Sint Eustatius|Sint Maarten|Trinidad and Tobago|Turks and Caicos Islands|United States|United States Virgin Islands|USA', k_prediction_contigs$Location,ignore.case = TRUE))] <- 'North America'\n",
    "k_prediction_contigs$Location2[which(grepl('Argentina|Bolivia|Sucre|Norway|Brazil|Chile|Colombia|Ecuador|Falkland Islands|French Guiana|Guyana|Paraguay|Peru|South Georgia and the South Sandwich Islands|Suriname|Uruguay|Venezuela', k_prediction_contigs$Location,ignore.case = TRUE))] <- 'South America'\n",
    "k_prediction_contigs$Location2[which(grepl('Australia|Fiji|Kiribati|Marshall Islands|Majuro|Micronesia|Nauru|New Zealand|Palau|Papua New Guinea|Samoa|Solomon Islands|Tonga|Tuvalu|Vanuatu', k_prediction_contigs$Location,ignore.case = TRUE))] <- 'Australia'\n",
    "\n",
    "k_prediction_contigs %>%\n",
    "    dplyr::count(Location2)"
   ]
  },
  {
   "cell_type": "code",
   "execution_count": null,
   "id": "0bfde88a-c2f2-40bf-b25e-4fd82a22a7da",
   "metadata": {},
   "outputs": [],
   "source": [
    "k_prediction_contigs %>%\n",
    "    dplyr::count(rep2)"
   ]
  },
  {
   "cell_type": "code",
   "execution_count": null,
   "id": "c1322fe8-d70b-4bf7-9be4-35dfbbda61cf",
   "metadata": {},
   "outputs": [],
   "source": [
    "k_predicted_plasmid_contigs<-k_prediction_contigs[which( !(k_prediction_contigs$rep2 %in% c('NA','Missing')) & (k_prediction_contigs$Prediction == 'Plasmid') &\n",
    "                                                       !(is.na(k_prediction_contigs$rep2)) ),] "
   ]
  },
  {
   "cell_type": "code",
   "execution_count": null,
   "id": "42e4a036-d4e9-4011-ba05-8e4a79a93760",
   "metadata": {},
   "outputs": [],
   "source": [
    "dim(k_predicted_plasmid_contigs)"
   ]
  },
  {
   "cell_type": "code",
   "execution_count": null,
   "id": "961d7a79-18eb-4a3c-9faf-3a48681e7ca9",
   "metadata": {},
   "outputs": [],
   "source": [
    "k_predicted_chr_contigs <- subset(k_prediction_contigs,k_prediction_contigs$Prediction=='Chromosome')"
   ]
  },
  {
   "cell_type": "code",
   "execution_count": null,
   "id": "90cb332f-3cd0-4cd9-b213-57939956aba3",
   "metadata": {},
   "outputs": [],
   "source": [
    "dim(k_predicted_chr_contigs)"
   ]
  },
  {
   "cell_type": "code",
   "execution_count": null,
   "id": "fade0a9d-7f9a-4c9e-abc3-d6ded2eb66d0",
   "metadata": {},
   "outputs": [],
   "source": [
    "k_predicted_plasmid_contigs %>%\n",
    "    dplyr::count(rep2)"
   ]
  },
  {
   "cell_type": "code",
   "execution_count": null,
   "id": "b2cce358-d435-4eb6-9702-148900c92834",
   "metadata": {
    "tags": []
   },
   "outputs": [],
   "source": [
    "k_predicted_plasmid_contigs%>% \n",
    "  dplyr::group_by(Element.symbol) %>% \n",
    "  dplyr::summarise(Count=n())\n",
    "\n",
    "k_predicted_plasmid_contigs %>% \n",
    "  dplyr::group_by(Host) %>% \n",
    "  dplyr::summarise(Count=n())\n",
    "\n",
    "k_predicted_plasmid_contigs %>% \n",
    "  dplyr::group_by(Location2) %>% \n",
    "  dplyr::summarise(Count=n())"
   ]
  },
  {
   "cell_type": "markdown",
   "id": "eaa5d777-0a34-43f2-ac37-0bf914f93faa",
   "metadata": {},
   "source": [
    "#### IncX3"
   ]
  },
  {
   "cell_type": "code",
   "execution_count": null,
   "id": "97cb00b6-84e8-4f19-8e82-f7f819762a0f",
   "metadata": {},
   "outputs": [],
   "source": [
    "k_a_incx3<-k_predicted_plasmid_contigs[which(k_predicted_plasmid_contigs$rep2 == 'IncX3'),]\n",
    "\n",
    "k_a_incx3.1<-as.data.frame(cbind(k_a_incx3$Assembly,k_a_incx3$rep2,k_a_incx3$Contig_length,k_a_incx3$Host,k_a_incx3$Contig_name,k_a_incx3$Location2,k_a_incx3$Element.symbol))\n",
    "k_a_incx3.1<-unique(k_a_incx3.1)\n",
    "colnames(k_a_incx3.1)=c('Assembly_number','Inc_type','Length','Host','Contig','Continent','Subtype')\n",
    "k_a_incx3.1$Length<-as.numeric(as.character(k_a_incx3.1$Length))\n",
    "#arrange(k_a_incx3.1,Length)\n",
    "k_a_incx3.2<-k_a_incx3.1[which((k_a_incx3.1$Subtype == 'blaNDM-5')),]\n",
    "#arrange(k_a_incx3.2,Length)\n",
    "dim(k_a_incx3.1)\n",
    "#write.csv(x =k_a_incx3.1, file = './input/a_incx3.1_K.csv', row.names = FALSE)\n",
    "#write.csv(x =k_a_incx3.2, file = './input/a_incx3.2_K.csv', row.names = FALSE)\n",
    "\n",
    "k_a_incx3.1 %>%\n",
    "dplyr::count(Continent)\n",
    "\n",
    "k_a_incx3.1 %>%\n",
    "dplyr::count(Subtype)\n",
    "\n",
    "k_a_incx3.1 %>%\n",
    "dplyr::count(Host)"
   ]
  },
  {
   "cell_type": "markdown",
   "id": "cd326140-ead2-4ab2-9f6d-cba5b4cbd387",
   "metadata": {},
   "source": [
    "#### IncFII"
   ]
  },
  {
   "cell_type": "code",
   "execution_count": null,
   "id": "a157ad51-2b3b-45ec-8721-d08f4535c172",
   "metadata": {},
   "outputs": [],
   "source": [
    "k_a_incfii<-k_predicted_plasmid_contigs[which(k_predicted_plasmid_contigs$rep2 == 'IncFII'),]\n",
    "\n",
    "k_a_incfii.1<-as.data.frame(cbind(k_a_incfii$Assembly,k_a_incfii$rep2,k_a_incfii$Contig_length,k_a_incfii$Host,k_a_incfii$Contig_name,k_a_incfii$Location2,k_a_incfii$Element.symbol))\n",
    "k_a_incfii.1<-unique(k_a_incfii.1)\n",
    "colnames(k_a_incfii.1)=c('Assembly_number','Inc_type','Length','Host','Contig','Continent','Subtype')\n",
    "k_a_incfii.1$Length<-as.numeric(as.character(k_a_incfii.1$Length))\n",
    "#arrange(k_a_incfii.1,Length)\n",
    "#k_a_incfii.2<-k_a_incfii.1[which((k_a_incfii.1$Subtype == 'blaNDM-5')),]\n",
    "#arrange(k_a_incfii.2,Length)\n",
    "dim(k_a_incfii.1)\n",
    "#write.csv(x =k_a_incfii.1, file = './input/a_incfii.1_K.csv', row.names = FALSE)\n",
    "#write.csv(x =k_a_incfii.2, file = './input/a_incfii.2_K.csv', row.names = FALSE)\n",
    "\n",
    "k_a_incfii.1 %>%\n",
    "dplyr::count(Continent)\n",
    "\n",
    "k_a_incfii.1 %>%\n",
    "dplyr::count(Subtype)\n",
    "\n",
    "k_a_incfii.1 %>%\n",
    "dplyr::count(Host)"
   ]
  },
  {
   "cell_type": "markdown",
   "id": "76a4c189-e4ce-41e3-be23-017e4514870b",
   "metadata": {},
   "source": [
    "#### IncA/C"
   ]
  },
  {
   "cell_type": "code",
   "execution_count": null,
   "id": "d4103a9e-94b5-4a23-850d-df32f0b538e7",
   "metadata": {},
   "outputs": [],
   "source": [
    "k_a_incac<-k_predicted_plasmid_contigs[which(k_predicted_plasmid_contigs$rep2 == 'IncA/C'),]\n",
    "\n",
    "k_a_incac.1<-as.data.frame(cbind(k_a_incac$Assembly,k_a_incac$rep2,k_a_incac$Contig_length,k_a_incac$Host,k_a_incac$Contig_name,k_a_incac$Location2,k_a_incac$Element.symbol))\n",
    "k_a_incac.1<-unique(k_a_incac.1)\n",
    "colnames(k_a_incac.1)=c('Assembly_number','Inc_type','Length','Host','Contig','Continent','Subtype')\n",
    "k_a_incac.1$Length<-as.numeric(as.character(k_a_incac.1$Length))\n",
    "#arrange(k_a_incac.1,Length)\n",
    "#k_a_incac.2<-k_a_incac.1[which((k_a_incac.1$Subtype == 'blaNDM-5')),]\n",
    "#arrange(k_a_incac.2,Length)\n",
    "dim(k_a_incac.1)\n",
    "#write.csv(x =k_a_incac.1, file = './input/a_incac.1_K.csv', row.names = FALSE)\n",
    "#write.csv(x =k_a_incac.2, file = './input/a_incac.2_K.csv', row.names = FALSE)\n",
    "\n",
    "k_a_incac.1 %>%\n",
    "dplyr::count(Continent)\n",
    "\n",
    "k_a_incac.1 %>%\n",
    "dplyr::count(Subtype)\n",
    "\n",
    "k_a_incac.1 %>%\n",
    "dplyr::count(Host)"
   ]
  },
  {
   "cell_type": "markdown",
   "id": "a4a15d4b-7794-499e-b5d7-0f07895365c0",
   "metadata": {},
   "source": [
    "## DAPC"
   ]
  },
  {
   "cell_type": "markdown",
   "id": "f548b03d-44d5-4fef-bf35-2d52fbd9e596",
   "metadata": {},
   "source": [
    "### IncX3-Ecoli(TGS+NGS——Conserved region)"
   ]
  },
  {
   "cell_type": "code",
   "execution_count": null,
   "id": "d14fd0fc-81a0-46b9-ab49-364f5c7f86dc",
   "metadata": {
    "tags": []
   },
   "outputs": [],
   "source": [
    "vcf_file='./input/e_incx3.1/parsnp.vcf'\n",
    "pop_file='./input/a_incx3.1_E.csv'\n",
    "\n",
    "ndm_vcf <- read.vcfR(vcf_file)\n",
    "ndm_pl_gd <- vcfR2genind(ndm_vcf)\n",
    "ndm_pl_gd"
   ]
  },
  {
   "cell_type": "code",
   "execution_count": null,
   "id": "b8f29ff0-fed1-44e5-9fab-96b5f3af49ed",
   "metadata": {},
   "outputs": [],
   "source": [
    "ndm_pl_gd_ind<-as.data.frame(indNames(ndm_pl_gd))"
   ]
  },
  {
   "cell_type": "code",
   "execution_count": null,
   "id": "07df8bb4-5daa-417d-8cb4-8badece0a378",
   "metadata": {},
   "outputs": [],
   "source": [
    "ndm_pl_gd_ind[,1]<-as.character(ndm_pl_gd_ind[,1])\n",
    "\n",
    "#ndm_pl_gd_new1_ind.names[,1]<-gsub('.*plasmid_','',ndm_pl_gd_new1_ind.names[,1])\n",
    "ndm_pl_gd_ind[,1]<-gsub('.fast.*','',ndm_pl_gd_ind[,1])\n",
    "ndm_pl_gd_ind[,1]<-gsub('genomic_plasmid_','',ndm_pl_gd_ind[,1])\n",
    "ndm_pl_gd_ind[,1]<-gsub('GCA_.*_.*_','',ndm_pl_gd_ind[,1])\n",
    "#ndm_pl_gd_ind[,1]<-gsub('IncX3_','',ndm_pl_gd_ind[,1])"
   ]
  },
  {
   "cell_type": "code",
   "execution_count": null,
   "id": "de005a0c-6401-43a5-8815-01da799013ec",
   "metadata": {},
   "outputs": [],
   "source": [
    "colnames(ndm_pl_gd_ind)<-'Contig'"
   ]
  },
  {
   "cell_type": "code",
   "execution_count": null,
   "id": "e78618e2-50f9-4832-96e6-85084122144d",
   "metadata": {
    "tags": []
   },
   "outputs": [],
   "source": [
    "ndm_pl_popRaw <- read.csv(pop_file, header = TRUE,stringsAsFactors = FALSE)\n",
    "\n",
    "ndm_pl_pop<-left_join(ndm_pl_gd_ind,unique(ndm_pl_popRaw),by='Contig')\n",
    "\n",
    "#ndm_pl_pop[which((ndm_pl_pop$Host=='Pet') | (ndm_pl_pop$Host=='Poultry') | (ndm_pl_pop$Host=='Swine')),]$Host<-'Animals'\n",
    "#ndm_pl_pop[which(!(ndm_pl_pop$Host=='Homo sapiens')),]$Host<-'Others'\n",
    "\n",
    "indNames(ndm_pl_gd)<-as.vector(ndm_pl_gd_ind[,1])\n",
    "\n",
    "pop(ndm_pl_gd)"
   ]
  },
  {
   "cell_type": "code",
   "execution_count": null,
   "id": "7a381063-1e80-4352-94c7-0f3c886cc74a",
   "metadata": {},
   "outputs": [],
   "source": [
    "pop(ndm_pl_gd)<-ndm_pl_pop$Host\n",
    "\n",
    "pop(ndm_pl_gd)"
   ]
  },
  {
   "cell_type": "code",
   "execution_count": null,
   "id": "3c6e83b3-d1d7-4904-9574-587cd90f54b7",
   "metadata": {},
   "outputs": [],
   "source": [
    "as.data.frame(pop(ndm_pl_gd)) %>%    \n",
    "  dplyr::group_by(pop(ndm_pl_gd))%>%\n",
    "  dplyr::summarize(Count = n())"
   ]
  },
  {
   "cell_type": "code",
   "execution_count": null,
   "id": "54b0c410-539b-4f3a-abbc-e386412a7cba",
   "metadata": {},
   "outputs": [],
   "source": [
    "select<-as.character(ndm_pl_pop[which(ndm_pl_pop$Host %in% c('Homo sapiens','Swine','Poultry','Environment','Fly','Pet'\n",
    "                                                            )),][['Contig']])"
   ]
  },
  {
   "cell_type": "code",
   "execution_count": null,
   "id": "e2b9cefe-3e98-45db-b23c-9e8045d0849f",
   "metadata": {},
   "outputs": [],
   "source": [
    "select"
   ]
  },
  {
   "cell_type": "code",
   "execution_count": null,
   "id": "5b41d2c2-cf26-45a6-b434-a6baa4b0fc53",
   "metadata": {},
   "outputs": [],
   "source": [
    "ndm_pl_gd_new1 <- ndm_pl_gd[row.names(ndm_pl_gd@tab) %in% select]"
   ]
  },
  {
   "cell_type": "code",
   "execution_count": null,
   "id": "45f63f5f-c51e-41ba-9c4f-a9b4bd159fc2",
   "metadata": {},
   "outputs": [],
   "source": [
    "ndm_pl_gd_new1"
   ]
  },
  {
   "cell_type": "code",
   "execution_count": null,
   "id": "c0139549-fe95-4682-9e3e-70d2c7ebfd01",
   "metadata": {},
   "outputs": [],
   "source": [
    "#pdf(\"./output/fig/dapc.ndm367gl_new2.pdf\")\n",
    "dapc.ndm_pl_gd_new1<- dapc(ndm_pl_gd_new1, var.contrib = TRUE, scale = FALSE, n.pca = 20, n.da = nPop(ndm_pl_gd_new1) - 1)\n",
    "#The scatter() function is part of the ade4 package and plots results of a DAPC analysis.\n",
    "scatter(dapc.ndm_pl_gd_new1, cell = 0, pch = 18:23, cstar = 0, mstree = TRUE, lwd = 2, lty = 2,posi.da=\"bottomright\")\n",
    "#dev.off()"
   ]
  },
  {
   "cell_type": "code",
   "execution_count": null,
   "id": "b6212002-caa9-4318-9146-a3362aecc367",
   "metadata": {},
   "outputs": [],
   "source": [
    "dapc.ndm_pl_gd_new1.1 <- dapc(ndm_pl_gd_new1, n.pca = 20, n.da = 4)\n",
    "\n",
    "cols <- brewer.pal(n =7, name = \"Dark2\")\n",
    "cols\n",
    "\n",
    "#pdf('./output/fig/ndm_pl_gd_new1.1.pdf')\n",
    "scatter(dapc.ndm_pl_gd_new1.1, col = c('#7570B3','#D95F02','#E7298A','#66A61E','#E6AB02'), posi.da = \"topright\",cex = 2, legend = TRUE, clabel = F, posi.leg = \"bottomleft\", cleg = 1.2)\n",
    "#scree.pca = TRUE, posi.pca = \"topleft\"\n",
    "#dev.off()"
   ]
  },
  {
   "cell_type": "code",
   "execution_count": null,
   "id": "4d502988-1b3d-4e53-b2ba-74b24e4b46ce",
   "metadata": {},
   "outputs": [],
   "source": [
    "myCol <- c(\"darkblue\",\"purple\",\"green\",\"orange\",\"red\",\"blue\")\n",
    "scatter(dapc.ndm_pl_gd_new1.1, posi.da=\"bottomright\", bg=\"white\",\n",
    "pch=17:22, cstar=0, col=myCol, scree.pca=TRUE,\n",
    "posi.pca=\"bottomleft\")"
   ]
  },
  {
   "cell_type": "code",
   "execution_count": null,
   "id": "7e82bb3c-e107-4214-be14-649e1f965cd3",
   "metadata": {},
   "outputs": [],
   "source": [
    "scatter(dapc.ndm_pl_gd_new1.1, scree.da=FALSE, bg=\"white\", pch=20, cell=0, cstar=0, col=myCol, solid=.4,\n",
    "cex=3,clab=0, leg=TRUE, txt.leg=paste(\"Cluster\",1:4))"
   ]
  },
  {
   "cell_type": "code",
   "execution_count": null,
   "id": "7fad721f-166e-424b-9e10-c7d545497bf6",
   "metadata": {},
   "outputs": [],
   "source": [
    "dapc.ndm_pl_gd_new1.1$var.contr"
   ]
  },
  {
   "cell_type": "code",
   "execution_count": null,
   "id": "1eefe129-a0e5-46d4-85b1-9ef894d597a7",
   "metadata": {},
   "outputs": [],
   "source": [
    "set.seed(4)\n",
    "contrib <- loadingplot(dapc.ndm_pl_gd_new1.1$var.contr, axis = 2, thres = 0.07, lab.jitter = 1)"
   ]
  },
  {
   "cell_type": "code",
   "execution_count": null,
   "id": "605e8393-7559-4aea-afc9-d6d44d773849",
   "metadata": {},
   "outputs": [],
   "source": [
    "freqE <- tab(genind2genpop(ndm_pl_gd_new1[loc=c(\"GCTTGGCCTG_TCCGAAGATG\")]),freq=TRUE)"
   ]
  },
  {
   "cell_type": "code",
   "execution_count": null,
   "id": "be14c27a-7918-4af2-a542-7ffe3a5ae0d2",
   "metadata": {},
   "outputs": [],
   "source": [
    "matplot(freqE, pch=c(\"c\",\"t\"), type=\"b\", xlab=\"host\",\n",
    "ylab=\"allele frequency\", xaxt=\"n\", cex=1.5,\n",
    "main=\"SNP # E\")\n",
    "axis(side=1, at=1:4, lab=c(\"Homo Sapien\",\"Pet\",\"Poultry\",\"Swine\"))"
   ]
  },
  {
   "cell_type": "code",
   "execution_count": null,
   "id": "b152ca75-7f75-496e-8662-ee997031f68e",
   "metadata": {},
   "outputs": [],
   "source": [
    "#dapc.ndm55_del<- dapc(ndm55gd_del, var.contrib = TRUE, scale = FALSE, n.pca = 30, n.da = nPop(ndm55gd_del) - 1)\n",
    "\n",
    "#scatter(dapc.ndm55_del,1,1,bg=\"white\",scree.da=FALdata:image/png;base64,iVBORw0KGgoAAAANSUhEUgAAA0gAAANICAIAAAByhViMAAAACXBIWXMAABJ0AAASdAHeZh94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%0ArkJggg==SE, legend=TRUE,solid=.4)\n",
    "\n",
    "#set.seed(4)\n",
    "#contrib_del <- loadingplot(dapc.ndm55_del$var.contr, axis = 1, thres = 0.07, lab.jitter = 1)\n",
    "\n",
    "#write.csv(x=dapc.ndm55$var.contr,file='./output/ndm55class2snp.csv',row.names=T)\n",
    "\n",
    "freq1 <- tab(genind2genpop(ndm_pl_gd_new1[loc=c(\"ATACGATCAC_CCGCTATGGA\")]),freq=TRUE)\n",
    "\n",
    "freq2 <- tab(genind2genpop(ndm_pl_gd_new1[loc=c(\"TATAAATGCG_GTTCATTTTC\")]),freq=TRUE)\n",
    "\n",
    "freq3 <- tab(genind2genpop(ndm_pl_gd_new1[loc=c(\"CCGGCGTTCC_GAACTGCTGG\")]),freq=TRUE)\n",
    "\n",
    "#freq4 <- tab(genind2genpop(ndm_pl_gd_new1[loc=c(\"TCCGCATTTC_CGTTTGAGAC\")]),freq=TRUE)\n",
    "\n",
    "#freq5 <- tab(genind2genpopndm_pl_gd_new1[loc=c(\"GTCTATCTGA_TCGTCGTCTG\")]),freq=TRUE)\n",
    "\n",
    "par(mfrow=c(2,3), mar=c(5.1,4.1,4.1,.1),las=3)\n",
    "matplot(freq1, pch=c(\"a\",\"c\"), type=\"b\",\n",
    "xlab=\"host\",ylab=\"allele frequency\", xaxt=\"n\",\n",
    "cex=1.5, main=\"SNP # 1\")\n",
    "axis(side=1, at=1:4, lab=c(\"Homo Sapien\",\"Pet\",\"Poultry\",\"Swine\"))\n",
    "matplot(freq2, pch=c(\"c\",\"t\"), type=\"b\", xlab=\"host\",\n",
    "ylab=\"allele frequency\", xaxt=\"n\", cex=1.5,\n",
    "main=\"SNP # 2\")\n",
    "axis(side=1, at=1:4, lab=c(\"Homo Sapien\",\"Pet\",\"Poultry\",\"Swine\"))\n",
    "matplot(freq3, pch=c(\"c\",\"t\"), type=\"b\", xlab=\"host\",\n",
    "ylab=\"allele frequency\", xaxt=\"n\", cex=1.5,\n",
    "main=\"SNP # 3\")\n",
    "axis(side=1, at=1:4, lab=c(\"Homo Sapien\",\"Pet\",\"Poultry\",\"Swine\"))\n",
    "\n",
    "#summary(ndm_pl_gd_new1$posterior)\n",
    "\n",
    "#assignplot(dapc.ndm_pl_gd_new1.1)"
   ]
  },
  {
   "cell_type": "markdown",
   "id": "90f0adcd-e4ff-4793-877f-1cc13ca1967e",
   "metadata": {},
   "source": [
    "#compoplot(pnw.dapc,col = function(x) cols, posi = 'top')\n",
    "compoplot(dapc.ndm_pl_gd_new1.1,col = cols, posi = 'top')\n",
    "\n",
    "dapc.results <- as.data.frame(dapc.ndm_pl_gd_new1.1$posterior)\n",
    "dapc.results$pop <- pop(ndm_pl_gd_new1)\n",
    "dapc.results$indNames <- rownames(dapc.results)\n",
    "\n",
    "dapc.results <- melt(dapc.results)\n",
    "\n",
    "colnames(dapc.results) <- c(\"Original_Pop\",\"Sample\",\"Assigned_Pop\",\"Posterior_membership_probability\")\n",
    "\n",
    "p <- ggplot(dapc.results, aes(x=Sample, y=Posterior_membership_probability, fill=Assigned_Pop))\n",
    "p <- p + geom_bar(stat='identity') \n",
    "p <- p + scale_fill_manual(values = cols) \n",
    "p <- p + facet_grid(~Original_Pop, scales = \"free\")\n",
    "p <- p + theme(axis.text.x = element_text(angle = 90, hjust = 1, size = 8))\n",
    "p\n",
    "\n",
    "ndm_pl_gd_new1.pca <- glPca(ndm_pl_gd_new1, nf = 3)\n",
    "barplot(100*ndm_pl_gd_new1.pca$eig/sum(ndm_pl_gd_new1.pca$eig), col = heat.colors(50), main=\"PCA Eigenvalues\")\n",
    "title(ylab=\"Percent of variance\\nexplained\", line = 2)\n",
    "title(xlab=\"Eigenvalues\", line = 1)\n",
    "\n",
    "ndm_pl_gd_new1.pca\n",
    "\n",
    "ndm_pl_gd_new1.pca.scores <- as.data.frame(ndm_pl_gd_new1.pca$scores)\n",
    "ndm_pl_gd_new1.pca.scores$pop <- pop(ndm_pl_gd_new1)\n",
    "\n",
    "set.seed(9)\n",
    "p <- ggplot(ndm_pl_gd_new1.pca.scores, aes(x=PC1, y=PC2, colour=pop)) \n",
    "p <- p + geom_point(size=2)\n",
    "p <- p + stat_ellipse(level = 0.95, size = 1)\n",
    "p <- p + scale_color_manual(values = cols) \n",
    "p <- p + geom_hline(yintercept = 0) \n",
    "p <- p + geom_vline(xintercept = 0) \n",
    "p <- p + theme_bw()\n",
    "\n",
    "p"
   ]
  },
  {
   "cell_type": "markdown",
   "id": "88fc9a95-2add-4d8e-b7fe-26eb9b561e25",
   "metadata": {},
   "source": [
    "### IncX3-Ecoli(TGS——complete genome)(Raw N=98)"
   ]
  },
  {
   "cell_type": "code",
   "execution_count": null,
   "id": "616b1116-099a-4076-80b7-4e4cdc17fea5",
   "metadata": {},
   "outputs": [],
   "source": [
    "#parsnp/ndmIncX3plasmid_split_files\n",
    "gene_pa<-read.table('./input/gene_presence_absence.Rtab',header=TRUE)"
   ]
  },
  {
   "cell_type": "code",
   "execution_count": null,
   "id": "684e5115-d81d-44fa-b7a7-8430315a15b4",
   "metadata": {},
   "outputs": [],
   "source": [
    "row.names(gene_pa) <- gene_pa$Gene\n",
    "gene_pa <- gene_pa[,-1]\n",
    "gene_pa <- t(gene_pa)"
   ]
  },
  {
   "cell_type": "code",
   "execution_count": null,
   "id": "0ffa2cc7-fce4-4468-b781-459d25a995b2",
   "metadata": {},
   "outputs": [],
   "source": [
    "gd.ndm98Ecoli <- df2genind(gene_pa,ploidy=2,ncode=1,sep='\\t')"
   ]
  },
  {
   "cell_type": "code",
   "execution_count": null,
   "id": "2203255b-b8f5-4b80-a006-458cf0ed0450",
   "metadata": {},
   "outputs": [],
   "source": [
    "gd.ndm98Ecoli"
   ]
  },
  {
   "cell_type": "code",
   "execution_count": null,
   "id": "46868fd3-af87-4fcb-a79f-c6b13f416a0c",
   "metadata": {},
   "outputs": [],
   "source": [
    "indnames<-as.data.frame(indNames(gd.ndm98Ecoli))\n",
    "colnames(indnames)[1]<-'ACC_NUCCORE'\n",
    "#indnames['ACC_NUCCORE']<-str_"
   ]
  },
  {
   "cell_type": "code",
   "execution_count": null,
   "id": "b280dc9d-992d-4857-91fc-0c4cc27c15d0",
   "metadata": {},
   "outputs": [],
   "source": [
    "incx3.1_host<-subset(incx3.1,select=c('ACC_NUCCORE','host_all'))"
   ]
  },
  {
   "cell_type": "code",
   "execution_count": null,
   "id": "c10f6c0d-12f7-48d9-91c6-148a36351823",
   "metadata": {},
   "outputs": [],
   "source": [
    "incx3.1_host %>%\n",
    "dplyr::count(host_all)"
   ]
  },
  {
   "cell_type": "code",
   "execution_count": null,
   "id": "0e485c6b-5629-4254-ac78-88e1981bc066",
   "metadata": {},
   "outputs": [],
   "source": [
    "gd.host<-left_join(indnames,incx3.1_host,by='ACC_NUCCORE')"
   ]
  },
  {
   "cell_type": "code",
   "execution_count": null,
   "id": "0f4e3d04-653a-4a35-8361-cb3b6e000a0a",
   "metadata": {},
   "outputs": [],
   "source": [
    "gd.host[is.na(gd.host$host_all),]$host_all<-'Missing'"
   ]
  },
  {
   "cell_type": "code",
   "execution_count": null,
   "id": "306e5497-2389-4793-8ac0-070fff77ae3a",
   "metadata": {},
   "outputs": [],
   "source": [
    "missings<-as.character(gd.host[which(gd.host['host_all']=='Missing'),][['ACC_NUCCORE']])"
   ]
  },
  {
   "cell_type": "code",
   "execution_count": null,
   "id": "d064abd4-4204-4d75-bbb8-291208362a26",
   "metadata": {},
   "outputs": [],
   "source": [
    "pop(gd.ndm98Ecoli)<-gd.host[['host_all']]"
   ]
  },
  {
   "cell_type": "code",
   "execution_count": null,
   "id": "51d8b0cf-a715-457f-a117-dd41defbf495",
   "metadata": {},
   "outputs": [],
   "source": [
    "gd.ndm98Ecoli_del <- gd.ndm98Ecoli[!row.names(gd.ndm98Ecoli@tab) %in% missings]"
   ]
  },
  {
   "cell_type": "code",
   "execution_count": null,
   "id": "f68e5997-d0b6-47dd-a4cc-041215e3d3d8",
   "metadata": {},
   "outputs": [],
   "source": [
    "as.data.frame(pop(gd.ndm98Ecoli_del))%>%\n",
    "dplyr::count(pop(gd.ndm98Ecoli_del))"
   ]
  },
  {
   "cell_type": "code",
   "execution_count": null,
   "id": "8cd47603-f2c3-47da-9cac-36c8e8b5109b",
   "metadata": {},
   "outputs": [],
   "source": [
    "dapc.ndm98Ecoli<- dapc(gd.ndm98Ecoli_del, var.contrib = TRUE, scale = FALSE, n.pca = 30, n.da = nPop(gd.ndm98Ecoli_del) - 1)\n",
    "#The scatter() function is part of the ade4 package and plots results of a DAPC analysis.\n",
    "scatter(dapc.ndm98Ecoli, cell = 0, pch = 18:23, cstar = 0, mstree = TRUE, lwd = 2, lty = 2)"
   ]
  },
  {
   "cell_type": "code",
   "execution_count": null,
   "id": "b28a4bed-cfec-4f63-be79-b7aff0f8ea5a",
   "metadata": {},
   "outputs": [],
   "source": [
    "missings2<-as.character(gd.host[which(gd.host['host_all']=='Vegetable'),][['ACC_NUCCORE']])"
   ]
  },
  {
   "cell_type": "code",
   "execution_count": null,
   "id": "81628ec1-9660-4069-ac3f-a4bad58b3df8",
   "metadata": {},
   "outputs": [],
   "source": [
    "missings2"
   ]
  },
  {
   "cell_type": "code",
   "execution_count": null,
   "id": "1ca102c3-8796-40ca-bd39-42820ec1a698",
   "metadata": {},
   "outputs": [],
   "source": [
    "gd.ndm98Ecoli_del2 <- gd.ndm98Ecoli_del[!row.names(gd.ndm98Ecoli_del@tab) %in% missings2]"
   ]
  },
  {
   "cell_type": "code",
   "execution_count": null,
   "id": "0215b285-380b-4c43-83ab-26b59aacc9f5",
   "metadata": {},
   "outputs": [],
   "source": [
    "dapc.ndm98Ecoli2<- dapc(gd.ndm98Ecoli_del2, var.contrib = TRUE, scale = FALSE, n.pca = 30, n.da = nPop(gd.ndm98Ecoli_del2) - 1)\n",
    "#The scatter() function is part of the ade4 package and plots results of a DAPC analysis.\n",
    "scatter(dapc.ndm98Ecoli2, cell = 0, pch = 18:23, cstar = 0, mstree = TRUE, lwd = 2, lty = 2)"
   ]
  },
  {
   "cell_type": "code",
   "execution_count": null,
   "id": "083d05ea-3390-46d0-8c29-5a485c6900ff",
   "metadata": {},
   "outputs": [],
   "source": [
    "cols <- brewer.pal(n = 8,name = \"Dark2\")\n",
    "cols"
   ]
  },
  {
   "cell_type": "code",
   "execution_count": null,
   "id": "311b425d-7464-45ed-b1d3-7a9f74c84b97",
   "metadata": {},
   "outputs": [],
   "source": [
    "#pdf('./output/fig/ndm98Ecoli2.pdf')\n",
    "scatter(dapc.ndm98Ecoli2, col = c('#D95F02','#1B9E77','#7570B3'), cex = 2, legend = TRUE, clabel = F, posi.leg = \"bottomleft\", \n",
    "        #scree.pca = TRUE,posi.pca = \"topright\", \n",
    "        posi.da = \"topright\",\n",
    "        cleg = 1.2)\n",
    "#dev.off()"
   ]
  },
  {
   "cell_type": "code",
   "execution_count": null,
   "id": "0031281f-c41c-453c-b6f5-eab7fa2574e9",
   "metadata": {
    "tags": []
   },
   "outputs": [],
   "source": [
    "#tree.ndm98Ecoli2 <- aboot(gd.ndm98Ecoli_del2, tree = \"upgma\", distance = bitwise.dist, sample = 100, showtree = F, cutoff = 50, quiet = T)"
   ]
  },
  {
   "cell_type": "code",
   "execution_count": null,
   "id": "2b294193-6a4f-41a9-9394-7820c94cc7ac",
   "metadata": {},
   "outputs": [],
   "source": [
    "set.seed(4)\n",
    "contrib1 <- loadingplot(dapc.ndm98Ecoli2$var.contr, axis = 1, thres = 0.07, lab.jitter = 1)"
   ]
  },
  {
   "cell_type": "code",
   "execution_count": null,
   "id": "c8a34248-69e0-4d3c-830d-a67775f4d634",
   "metadata": {},
   "outputs": [],
   "source": [
    "freq1 <- tab(genind2genpop(gd.ndm98Ecoli_del2[loc=c(\"group_85\")]),freq=TRUE)\n",
    "\n",
    "freq2 <- tab(genind2genpop(gd.ndm98Ecoli_del2[loc=c(\"group_9\")]),freq=TRUE)\n",
    "\n",
    "freq3 <- tab(genind2genpop(gd.ndm98Ecoli_del2[loc=c(\"group_151\")]),freq=TRUE)\n",
    "\n",
    "par(mfrow=c(1,3), mar=c(5.1,4.1,4.1,.1),las=3)\n",
    "matplot(freq1, pch=c(\"a\",\"c\"), type=\"b\",\n",
    "xlab=\"host\",ylab=\"allele frequency\", xaxt=\"n\",\n",
    "cex=1.5, main=\"SNP # 1\")\n",
    "axis(side=1, at=1:3, lab=c(\"Homo Sapien\",\"Animal\",\"Environment\"))\n",
    "matplot(freq2, pch=c(\"c\",\"t\"), type=\"b\", xlab=\"host\",\n",
    "ylab=\"allele frequency\", xaxt=\"n\", cex=1.5,\n",
    "main=\"SNP # 2\")\n",
    "axis(side=1, at=1:3, lab=c(\"Homo Sapien\",\"Animal\",\"Environment\"))\n",
    "matplot(freq3, pch=c(\"c\",\"t\"), type=\"b\", xlab=\"host\",\n",
    "ylab=\"allele frequency\", xaxt=\"n\", cex=1.5,\n",
    "main=\"SNP # 3\")\n",
    "axis(side=1, at=1:3, lab=c(\"Homo Sapien\",\"Animal\",\"Environment\"))\n",
    "\n",
    "summary(dapc.ndm98Ecoli2$posterior)\n",
    "\n",
    "assignplot(dapc.ndm98Ecoli2)"
   ]
  },
  {
   "cell_type": "code",
   "execution_count": null,
   "id": "b9fe605b-9902-4dee-a64d-ff778434f7d8",
   "metadata": {},
   "outputs": [],
   "source": [
    "missings3<-as.character(gd.host[which(gd.host['host_all']=='Environment'),][['ACC_NUCCORE']])"
   ]
  },
  {
   "cell_type": "code",
   "execution_count": null,
   "id": "90faa9e8-6310-4316-9f1d-22213d639660",
   "metadata": {},
   "outputs": [],
   "source": [
    "gd.ndm98Ecoli_del3 <- gd.ndm98Ecoli_del2[!row.names(gd.ndm98Ecoli_del2@tab) %in% missings3]"
   ]
  },
  {
   "cell_type": "code",
   "execution_count": null,
   "id": "0b0d2300-4656-4b8f-82e6-6c9633a8b824",
   "metadata": {},
   "outputs": [],
   "source": [
    "dapc.ndm98Ecoli3<- dapc(gd.ndm98Ecoli_del3, var.contrib = TRUE, scale = FALSE, n.pca = 30, n.da = nPop(gd.ndm98Ecoli_del3) - 1)\n",
    "#The scatter() function is part of the ade4 package and plots results of a DAPC analysis.\n",
    "scatter(dapc.ndm98Ecoli3, cell = 0, pch = 18:23, cstar = 0, mstree = TRUE, lwd = 2, lty = 2)"
   ]
  },
  {
   "cell_type": "code",
   "execution_count": null,
   "id": "ab590274-295e-4048-a581-f1438db23b13",
   "metadata": {},
   "outputs": [],
   "source": [
    "set.seed(4)\n",
    "contrib2 <- loadingplot(dapc.ndm98Ecoli3$var.contr, axis = 1, thres = 0.07, lab.jitter = 1)"
   ]
  },
  {
   "cell_type": "code",
   "execution_count": null,
   "id": "6504630e-e24b-4004-9bec-846bdc4211ff",
   "metadata": {},
   "outputs": [],
   "source": [
    "freqE <- tab(genind2genpop(gd.ndm98Ecoli_del3[loc=c(\"group_85\")]),freq=TRUE)"
   ]
  },
  {
   "cell_type": "code",
   "execution_count": null,
   "id": "36d47973-54a1-48b2-bb31-36b23039105a",
   "metadata": {},
   "outputs": [],
   "source": [
    "matplot(freqE, pch=c(\"c\",\"t\"), type=\"b\", xlab=\"host\",\n",
    "ylab=\"allele frequency\", xaxt=\"n\", cex=1.5,\n",
    "main=\"SNP # E\")\n",
    "axis(side=1, at=1:3, lab=c(\"Homo Sapien\",\"Animal\",\"Environment\"))"
   ]
  },
  {
   "cell_type": "markdown",
   "id": "6f621641-8ced-41e6-880b-b13cdd1307ae",
   "metadata": {},
   "source": [
    "### IncX3-K(TGS+NGS——Conserved region)(Raw N=)"
   ]
  },
  {
   "cell_type": "markdown",
   "id": "633b7290-94a6-4d98-be0c-2da801a77d69",
   "metadata": {},
   "source": [
    "## ST tanglegram"
   ]
  },
  {
   "cell_type": "markdown",
   "id": "2850418f-fcaa-4f35-8f2f-eecb63d4bb76",
   "metadata": {},
   "source": [
    "### IncX3-Ecoli"
   ]
  },
  {
   "cell_type": "code",
   "execution_count": null,
   "id": "fc1ab1ec-801f-4d57-a856-7f6c92937095",
   "metadata": {},
   "outputs": [],
   "source": [
    "set.seed(1131)\n",
    "col_tan<-sample(color,207)"
   ]
  },
  {
   "cell_type": "code",
   "execution_count": null,
   "id": "dc2862eb-bb7f-4ddf-8c51-3a86a9baa1f2",
   "metadata": {},
   "outputs": [],
   "source": []
  },
  {
   "cell_type": "code",
   "execution_count": null,
   "id": "238197dc-3c2a-43f9-bdc5-1b0718694ac2",
   "metadata": {},
   "outputs": [],
   "source": [
    "#e\n",
    "tangle_dir='/root/jupyter_projects/ndm_plasmid_2021/input/tangle/'\n",
    "strain_tree='/root/jupyter_projects/ndm_plasmid_2021/input/tangle/e_strain.tree'"
   ]
  },
  {
   "cell_type": "code",
   "execution_count": null,
   "id": "9afc893b-588b-4a13-9599-971cb416f4dc",
   "metadata": {},
   "outputs": [],
   "source": [
    "#plasmid_tree='/root/jupyter_projects/ndm_plasmid_2021/input/tangle/e_plasmid_incfia.tree'\n",
    "tree2<-tree_hc_mash"
   ]
  },
  {
   "cell_type": "code",
   "execution_count": null,
   "id": "10f1bfb9-52c2-4df1-82cd-9747592c0b49",
   "metadata": {},
   "outputs": [],
   "source": [
    "tree1 <- ape::read.tree(file = strain_tree)\n",
    "tree1 <- phytools::midpoint.root(tree1)\n",
    "\n",
    "tree1 <- compute.brlen(tree1)"
   ]
  },
  {
   "cell_type": "code",
   "execution_count": null,
   "id": "cbe90dce-433c-42a6-ac4e-97898d186f9a",
   "metadata": {},
   "outputs": [],
   "source": [
    "#tree2<- ape::read.tree(file = plasmid_tree)                                                                                                                                                                  tree2 <- ape::read.tree(file = plasmid_tree)tree2 <- phytools::midpoint.root(tree2)\n",
    "tree2 <- compute.brlen(tree2)"
   ]
  },
  {
   "cell_type": "code",
   "execution_count": null,
   "id": "ce05acb3-97b5-4d87-bfc4-65b8d2df3263",
   "metadata": {},
   "outputs": [],
   "source": [
    "dend1<- as.dendrogram(tree1)\n",
    "dend2<- as.dendrogram(tree2)\n",
    "\n",
    "dend1 <- set(   dend1,   what = c( \"labels_to_character\"), ) \n",
    "dend2 <- set(   dend2,   what = c( \"labels_to_character\"), ) "
   ]
  },
  {
   "cell_type": "code",
   "execution_count": null,
   "id": "c0210cfa-68b6-4035-9c7f-f0e25ee1ebeb",
   "metadata": {},
   "outputs": [],
   "source": [
    "#e\n",
    "e_mlst<-read.csv(paste0(tangle_dir,'e_all.MLST.tab'),header=FALSE,sep='\\t')\n",
    "\n",
    "\n",
    "labels_dend1 <- as.data.frame(labels(dend1))\n",
    "colnames(labels_dend1)[1]<-'labels'\n",
    "colnames(e_mlst)[1]<-'labels'\n",
    "colnames(e_mlst)[2]<-'ST'\n",
    "\n",
    "labels_dend1<-left_join(labels_dend1,e_mlst,by='labels')\n",
    "\n",
    "unique_ST <- data.frame(ST = unique(labels_dend1$ST))\n",
    "\n",
    "labels_dend1$labels<-as.character(labels_dend1$labels)\n",
    "#labels_dend1$ST<-as.character(labels_dend1$ST)\n",
    "head(labels_dend1)\n",
    "length(unique(labels_dend1$ST))"
   ]
  },
  {
   "cell_type": "code",
   "execution_count": null,
   "id": "d682b495-631c-49c2-959e-f67a7d38b0c1",
   "metadata": {},
   "outputs": [],
   "source": [
    "#e\n",
    "set.seed(1128)\n",
    "#unique_ST$color <- distinctColorPalette(nrow(unique_ST))\n",
    "unique_ST$color <- sample(col_tan[1:188])"
   ]
  },
  {
   "cell_type": "code",
   "execution_count": null,
   "id": "2cc661ce-93bd-48ae-b70b-4c44d445c37b",
   "metadata": {},
   "outputs": [],
   "source": [
    "GCA_ST_color<-left_join(labels_dend1, unique_ST,by='ST')\n",
    "\n",
    "labels_dend2 <- as.data.frame(labels(dend2))\n",
    "\n",
    "colnames(labels_dend2)[1]<-'labels'\n",
    "\n",
    "ST_lab <- GCA_ST_color$ST\n",
    "ST_lab <- as.factor(ST_lab)\n",
    "levels(ST_lab) <- 1:length(levels(ST_lab))\n",
    "\n",
    "GCA_ST_color['factor']<-ST_lab\n",
    "\n",
    "GCA_ST_color2<-left_join(labels_dend2,GCA_ST_color,by=\"labels\")\n",
    "\n",
    "plasmid_ST <- GCA_ST_color2 %>%\n",
    "dplyr::group_by(ST)%>%\n",
    "dplyr::summarize(Count=n())\n",
    "\n",
    "plasmid_ST[order(-plasmid_ST$Count),]\n",
    "\n",
    "legend<-GCA_ST_color2 %>%\n",
    "dplyr::group_by(ST,color)%>%\n",
    "dplyr::summarize(Count = n())\n",
    "\n",
    "head(legend)"
   ]
  },
  {
   "cell_type": "code",
   "execution_count": null,
   "id": "3cb53cbc-91b8-4a55-a338-d0f3b1f0ea03",
   "metadata": {},
   "outputs": [],
   "source": [
    "#e\n",
    "source_info<-unique(subset(predicted_plasmid_contigs,select=c('Assembly.x','Host','Location2')))\n",
    "\n",
    "head(source_info)\n",
    "\n",
    "unique_host <- data.frame(Host = unique(source_info$Host))\n",
    "unique_location <- data.frame(Location2 = unique(source_info$Location2))\n",
    "\n",
    "nrow(unique_host)\n",
    "\n",
    "nrow(unique_location)"
   ]
  },
  {
   "cell_type": "code",
   "execution_count": null,
   "id": "bc47efcd-56ff-4fd3-ae2e-5d406942b0ff",
   "metadata": {},
   "outputs": [],
   "source": [
    "#e\n",
    "unique_host$colors_ho<-col_tan[189:200]\n",
    "\n",
    "\n",
    "\n",
    "unique_host\n",
    "\n",
    "\n",
    "\n",
    "#e\n",
    "unique_location$colors_lo<-col_tan[201:207]\n",
    "\n",
    "\n",
    "\n",
    "unique_location\n",
    "\n",
    "source_info<-left_join(source_info,unique_host,by='Host')\n",
    "\n",
    "source_info<-left_join(source_info,unique_location,by='Location2')\n",
    "\n",
    "head(source_info)"
   ]
  },
  {
   "cell_type": "code",
   "execution_count": null,
   "id": "43129126-0053-4dd6-85c4-7aa7ea3df64c",
   "metadata": {},
   "outputs": [],
   "source": [
    "dend1 <- dend1 %>% set(\"labels_colors\", \"white\") %>% set(\"leaves_cex\", 0.15) %>% set(\"leaves_pch\", 19) %>% set(\"leaves_col\", GCA_ST_color[['color']])\n",
    "dend2 <- dend2 %>% set(\"labels_colors\", \"white\") %>% set(\"leaves_cex\", 0.15) %>% set(\"leaves_pch\", 19) %>% set(\"leaves_col\", GCA_ST_color2[['color']]) "
   ]
  },
  {
   "cell_type": "code",
   "execution_count": null,
   "id": "e951d9de-a8f7-48cb-b056-5078c72b51d1",
   "metadata": {},
   "outputs": [],
   "source": [
    "color_line<-left_join(GCA_ST_color,GCA_ST_color2,by='labels')$color.y\n",
    "color_lines<-color_line[!is.na(color_line)]\n",
    "\n",
    "lab_info<-source_info\n",
    "colnames(lab_info)[1]<-'labels'\n",
    "\n",
    "lab_info[,1]<-gsub('\\\\.[0-9]','',lab_info[,1])\n",
    "\n",
    "lab_info<-unique(lab_info)\n",
    "\n",
    "head(lab_info)\n",
    "\n",
    "bar1<-left_join(labels_dend1,unique(lab_info),by='labels')\n",
    "\n",
    "the_bar1<-subset(bar1,select=c('labels','colors_ho','colors_lo'))\n",
    "#the_bar1$Host<-as.factor(the_bar1$Host)\n",
    "#the_bar1$Location2<-as.factor(the_bar1$Location2)\n",
    "\n",
    "labels_dend2 <- as.data.frame(labels(dend2))\n",
    "colnames(labels_dend2)[1]<-'labels'\n",
    "labels_dend2$labels<-as.character(labels_dend2$labels)\n",
    "\n",
    "bar2<-left_join(labels_dend2,unique(bar1),by='labels')\n",
    "\n",
    "the_bar2<-subset(bar2,select=c('labels','colors_ho','colors_lo'))\n",
    "\n",
    "#the_bar2$Host<-as.factor(the_bar2$Host)\n",
    "#the_bar2$Location2<-as.factor(the_bar2$Location2)\n",
    "\n",
    "rownames(the_bar1)<-the_bar1[,1]\n",
    "rownames(the_bar2)<-the_bar2[,1]\n",
    "\n",
    "#bar1_matrix<-data.matrix(the_bar1[,2:3],rownames.force = NA)\n",
    "#bar2_matrix<-data.matrix(the_bar2[,2:3],rownames.force = NA)\n",
    "\n",
    "#dim(bar1_matrix)"
   ]
  },
  {
   "cell_type": "code",
   "execution_count": null,
   "id": "e584c3bb-af88-453a-800d-f803e4218c8d",
   "metadata": {},
   "outputs": [],
   "source": [
    "par(mar = c(4,4,4,6))\n",
    "plot(dend2, horiz = TRUE,axes=FALSE)\n",
    "colored_bars(colors = the_bar2[,3:2], dend = dend2,horiz = TRUE,y_shift = 0.1,sort_by_labels_order = FALSE)\n",
    "dev.copy(pdf, 'output/e_incx3.1_dend2_complete.pdf', width = 10, height = 11)\n",
    "dev.off()\n",
    "\n",
    "#the_bar1_corrected[which(the_bar1_corrected=='GCA_009394145'),]\n",
    "#the_bar2[which(the_bar2$labels=='GCA_001893245'),]\n",
    "\n",
    "bar2 %>%\n",
    "dplyr::group_by(Host) %>%\n",
    "dplyr::summarize(Count=n())"
   ]
  },
  {
   "cell_type": "code",
   "execution_count": null,
   "id": "ddb6d1c4-df85-4aff-a335-e323ae7fa4d9",
   "metadata": {},
   "outputs": [],
   "source": [
    "inter_list<-intersect_trees(dend1, dend2)"
   ]
  },
  {
   "cell_type": "code",
   "execution_count": null,
   "id": "5c12aaf0-b82a-405b-bf64-f280a12a8803",
   "metadata": {},
   "outputs": [],
   "source": [
    "dend1_corrected<-inter_list[[1]]\n",
    "\n",
    "labels_dend1_corrected<-as.data.frame(labels(dend1_corrected))\n",
    "colnames(labels_dend1_corrected)[1]<-'labels'\n",
    "\n",
    "bar1_corrected<-left_join(labels_dend1_corrected,unique(bar1),by='labels')\n",
    "\n",
    "the_bar1_corrected<-subset(bar1_corrected,select=c('labels','colors_ho','colors_lo'))\n",
    "\n",
    "rownames(the_bar1_corrected)<-the_bar1_corrected[,1]\n",
    "\n",
    "#bar1_corrected_matrix<-data.matrix(the_bar1_corrected[,2:3],rownames.force = NA)"
   ]
  },
  {
   "cell_type": "code",
   "execution_count": null,
   "id": "924990cc-338f-4fcc-a8c5-8fcc8141b894",
   "metadata": {},
   "outputs": [],
   "source": [
    "bar1_corrected %>%\n",
    "dplyr::group_by(Host) %>%\n",
    "dplyr::summarize(Count=n())"
   ]
  },
  {
   "cell_type": "code",
   "execution_count": null,
   "id": "1cf9a071-0d8b-4fef-b008-2af0e3a8a57a",
   "metadata": {},
   "outputs": [],
   "source": [
    "par(mar = c(4,4,4,6))\n",
    "plot(dend1_corrected, horiz = TRUE,axes=FALSE)\n",
    "colored_bars(colors = the_bar1_corrected[,2:3], dend = dend1_corrected,horiz = TRUE,y_shift = 0.1,sort_by_labels_order = FALSE)\n",
    "dev.copy(pdf, 'output/e_incx3.1_dend1_corrected_complete.pdf', width = 10, height = 11)\n",
    "dev.off()"
   ]
  },
  {
   "cell_type": "code",
   "execution_count": null,
   "id": "fc38510c-1193-453a-b525-c96db0e719fe",
   "metadata": {},
   "outputs": [],
   "source": [
    "dendextend::tanglegram(dend1_corrected,dend2, \n",
    "                       margin_inner = 5,\n",
    "                       #lab.cex = 0.3, \n",
    "                       lwd = 0.5, edge.lwd = 0.5, type = \"r\",\n",
    "                       axes=FALSE,\n",
    "                       highlight_distinct_edges = FALSE,\n",
    "                       highlight_branches_lwd = FALSE,\n",
    "                       color_lines=color_lines,\n",
    "                       common_subtrees_color_lines = FALSE)\n",
    "legend(\"left\", legend = legend[['ST']], fill = legend[['color']],cex=0.2)\n",
    "#colored_bars(colors = bar2_matrix, dend = dend2,horiz = TRUE,y_shift = 0.1)\n",
    "#colored_bars(colors = bar1_corrected_matrix, dend = dend1_corrected,horiz = TRUE,y_shift = 0.1)\n",
    "dev.copy(pdf, 'output/e_incx3.1_tangle_complete.pdf', width = 10, height = 11)\n",
    "dev.off()"
   ]
  },
  {
   "cell_type": "code",
   "execution_count": null,
   "id": "0dcdca20-2afa-4181-a175-3a4046618ebb",
   "metadata": {},
   "outputs": [],
   "source": [
    "dend12_corrected_1 <- untangle_random_search(dend1_corrected, dend2)\n",
    "dend12_corrected_2 <- untangle_step_rotate_2side(dend12_corrected_1[[1]], dend12_corrected_1[[2]])\n",
    "\n",
    "dendextend::tanglegram(dend12_corrected_2[[1]],dend12_corrected_2[[2]],\n",
    "                       margin_inner = 5,\n",
    "                       #lab.cex = 0.3, \n",
    "                       lwd = 0.5, edge.lwd = 0.5, type = \"r\",\n",
    "                       axes=FALSE,\n",
    "                       highlight_distinct_edges = FALSE,\n",
    "                       highlight_branches_lwd = FALSE,\n",
    "                       color_lines=color_lines,\n",
    "                       common_subtrees_color_lines = FALSE)\n",
    "legend(\"left\", legend = legend[['ST']], fill = legend[['color']],cex=0.2)\n",
    "#colored_bars(colors = bar2_matrix, dend = dend2,horiz = TRUE,y_shift = 0.1)\n",
    "#colored_bars(colors = bar1_corrected_matrix, dend = dend1_corrected,horiz = TRUE,y_shift = 0.1)\n",
    "dev.copy(pdf, 'output/e_incx3.1_tangle_complete2.pdf', width = 10, height = 11)\n",
    "dev.off()"
   ]
  },
  {
   "cell_type": "markdown",
   "id": "d7dd83f6-132e-4a23-917c-7fdeeb2b7a50",
   "metadata": {},
   "source": [
    "#calculate core diff\n",
    "vcf_file_core='./input/tangle/k_strain.vcf'\n",
    "\n",
    "ndm_vcf_core <- read.vcfR(vcf_file_core)\n",
    "\n",
    "ndm_pl_gd_core <- vcfR2genind(ndm_vcf_core)\n",
    "ndm_pl_gd_core\n",
    "\n",
    "select<-labels(dend2)\n",
    "\n",
    "ndm_pl_gd_core1<-ndm_pl_gd_core@ind.names[select]\n",
    "ndm_pl_gd_core1\n",
    "\n",
    "ndm_pl_gd_new1 <- ndm_pl_gd[row.names(ndm_pl_gd@tab) %in% select]\n",
    "\n",
    "ndm_pl_gd_new1"
   ]
  },
  {
   "cell_type": "code",
   "execution_count": null,
   "id": "a48ea168-fb6f-4ea0-88ae-c2033d01b476",
   "metadata": {},
   "outputs": [],
   "source": []
  },
  {
   "cell_type": "code",
   "execution_count": null,
   "id": "327bf8f7-4202-4895-a83b-3318de93ccc6",
   "metadata": {},
   "outputs": [],
   "source": [
    "#calculate SNP diff"
   ]
  },
  {
   "cell_type": "code",
   "execution_count": null,
   "id": "7b7c6b81-feba-4aec-b991-cfa50e20c983",
   "metadata": {},
   "outputs": [],
   "source": [
    "vcf_file_7='./input/tangle/e_plasmid_incfia.vcf'"
   ]
  },
  {
   "cell_type": "code",
   "execution_count": null,
   "id": "c60ebd55-0bf6-4e73-926a-1e5d974c77da",
   "metadata": {},
   "outputs": [],
   "source": [
    "ndm_vcf_7 <- read.vcfR(vcf_file_7)\n",
    "ndm_pl_gd_7 <- vcfR2genind(ndm_vcf_7)\n",
    "ndm_pl_gd_7"
   ]
  },
  {
   "cell_type": "code",
   "execution_count": null,
   "id": "5954612f-0198-4677-bbd3-b0893607b955",
   "metadata": {
    "tags": []
   },
   "outputs": [],
   "source": [
    "ndm_pl_gd_ind_7<-as.data.frame(indNames(ndm_pl_gd_7))\n",
    "\n",
    "colnames(ndm_pl_gd_ind_7)<-'labels'\n",
    "ndm_pl_pop_7<-left_join(ndm_pl_gd_ind_7,unique(e_mlst),by='labels')\n",
    "\n",
    "#ndm_pl_pop[which((ndm_pl_pop$Host=='Pet') | (ndm_pl_pop$Host=='Poultry') | (ndm_pl_pop$Host=='Swine')),]$Host<-'Animals'\n",
    "#ndm_pl_pop[which(!(ndm_pl_pop$Host=='Homo sapiens')),]$Host<-'Others'"
   ]
  },
  {
   "cell_type": "code",
   "execution_count": null,
   "id": "be46481c-d9c2-4871-8b74-078fd4511635",
   "metadata": {
    "tags": []
   },
   "outputs": [],
   "source": [
    "pop(ndm_pl_gd_7)<-ndm_pl_pop_7$ST\n",
    "\n",
    "pops<-pop(ndm_pl_gd_7)\n",
    "\n",
    "pops"
   ]
  },
  {
   "cell_type": "code",
   "execution_count": null,
   "id": "c9bb2d2e-f495-4379-be74-64c0b88374c1",
   "metadata": {},
   "outputs": [],
   "source": [
    "myDiff_e <- pairwise_genetic_diff(ndm_vcf_7, pops=pops, method = \"nei\")"
   ]
  },
  {
   "cell_type": "code",
   "execution_count": null,
   "id": "23cd7427-8cb3-4c8f-9c91-37626b8bc67a",
   "metadata": {},
   "outputs": [],
   "source": [
    "head(myDiff_e[,1:15])"
   ]
  },
  {
   "cell_type": "code",
   "execution_count": null,
   "id": "30700d78-d486-4c74-9c10-86e7f1e304d4",
   "metadata": {},
   "outputs": [],
   "source": [
    "colmeans<-colMeans(myDiff_e[,c(4:ncol(myDiff_e))], na.rm = TRUE)"
   ]
  },
  {
   "cell_type": "code",
   "execution_count": null,
   "id": "c003d7f8-d06b-43ec-bd35-6ad3cb0268d1",
   "metadata": {},
   "outputs": [],
   "source": [
    "colmeans<-as.data.frame(colmeans)"
   ]
  },
  {
   "cell_type": "code",
   "execution_count": null,
   "id": "d9a67f3a-f974-42da-9915-e0631042f523",
   "metadata": {
    "tags": []
   },
   "outputs": [],
   "source": [
    "V1<-colnames(colmeans)"
   ]
  },
  {
   "cell_type": "code",
   "execution_count": null,
   "id": "68db9fdf-b415-4556-b847-b45c3bb9b20f",
   "metadata": {},
   "outputs": [],
   "source": [
    "colmeans2<-cbind(V1,colmeans)"
   ]
  },
  {
   "cell_type": "code",
   "execution_count": null,
   "id": "d5f76a73-cc6a-4fae-bbe9-a90017f28d7b",
   "metadata": {},
   "outputs": [],
   "source": [
    "colmeans3<-na.omit(colmeans2[seq(1,nrow(colmeans2),2),])"
   ]
  },
  {
   "cell_type": "code",
   "execution_count": null,
   "id": "11d7a567-2313-49b2-a060-dad8a3ebb0b8",
   "metadata": {},
   "outputs": [],
   "source": [
    "head(colmeans3)"
   ]
  },
  {
   "cell_type": "code",
   "execution_count": null,
   "id": "601644e2-5138-44d1-aae4-87ec823d8ca3",
   "metadata": {},
   "outputs": [],
   "source": [
    "colmeans3[which(colmeans3$colmeans == min(colmeans3$colmeans)),]"
   ]
  },
  {
   "cell_type": "code",
   "execution_count": null,
   "id": "21647bdb-5589-4cf2-972b-8950208fb947",
   "metadata": {},
   "outputs": [],
   "source": [
    "nrow(colmeans3[which(colmeans3$colmeans==1),])"
   ]
  },
  {
   "cell_type": "code",
   "execution_count": null,
   "id": "0b00fdc6-7158-4e12-8d66-3f3b018befaf",
   "metadata": {},
   "outputs": [],
   "source": [
    "select2<-as.character(ndm_pl_pop_7[which(ndm_pl_pop_7$ST %in% c('ST101')),][['labels']])"
   ]
  },
  {
   "cell_type": "code",
   "execution_count": null,
   "id": "47f91a59-8c1c-4d1c-9e4e-b8daabeb1d59",
   "metadata": {},
   "outputs": [],
   "source": [
    "select2"
   ]
  },
  {
   "cell_type": "code",
   "execution_count": null,
   "id": "c86af8ac-2a08-4c52-b327-15563f7c58e1",
   "metadata": {},
   "outputs": [],
   "source": [
    "adat<-read.table('./input/tangle/e_plasmid_incx3.vcf')"
   ]
  },
  {
   "cell_type": "code",
   "execution_count": null,
   "id": "0dab1695-3daf-416c-ac1c-1ee3b2c941d0",
   "metadata": {},
   "outputs": [],
   "source": [
    "adat<-adat[,c(10:ncol(adat))]\n",
    "colnames(adat)<-indNames(ndm_pl_gd_7)"
   ]
  },
  {
   "cell_type": "code",
   "execution_count": null,
   "id": "12705581-8cf4-46f8-802b-4cf95cf21fa9",
   "metadata": {},
   "outputs": [],
   "source": [
    "adat<-adat[,select2]"
   ]
  },
  {
   "cell_type": "code",
   "execution_count": null,
   "id": "3ef7c134-538e-4a0a-b1ca-4de2d8b83a47",
   "metadata": {},
   "outputs": [],
   "source": [
    "nm1 <- outer(colnames(adat), colnames(adat), paste, sep=\"_\")\n",
    "indx1 <-  which(lower.tri(nm1, diag=TRUE))\n",
    "res <- outer(1:ncol(adat), 1:ncol(adat), \n",
    "              function(x,y) adat[,x]-adat[,y])\n",
    "colnames(res) <- nm1\n",
    "res1 <- res[-indx1]\n",
    "dim(res1)"
   ]
  },
  {
   "cell_type": "code",
   "execution_count": null,
   "id": "d48a295a-46f5-4163-9005-d4bf3ec77012",
   "metadata": {},
   "outputs": [],
   "source": [
    "colsums<-colSums(abs(res1))"
   ]
  },
  {
   "cell_type": "code",
   "execution_count": null,
   "id": "203cb849-61f3-46dd-be29-e2a65b0749e4",
   "metadata": {},
   "outputs": [],
   "source": [
    "max(colsums)"
   ]
  },
  {
   "cell_type": "markdown",
   "id": "cbdbc3c9-207b-40f4-8ae8-0edde3d8974f",
   "metadata": {},
   "source": [
    "### IncX3-K"
   ]
  },
  {
   "cell_type": "code",
   "execution_count": null,
   "id": "3a6da754-ea41-4c3c-a33c-9b38c78bda8c",
   "metadata": {},
   "outputs": [],
   "source": [
    "#k\n",
    "tangle_dir='/root/jupyter_projects/ndm_plasmid_2021/input/tangle/'\n",
    "strain_tree='/root/jupyter_projects/ndm_plasmid_2021/input/tangle/k_strain2.tree'\n",
    "plasmid_tree='/root/jupyter_projects/ndm_plasmid_2021/input/tangle/k_plasmid_incx3.tree'"
   ]
  },
  {
   "cell_type": "code",
   "execution_count": null,
   "id": "46b8cb4d-a4a6-495a-a667-b0daff92ceab",
   "metadata": {},
   "outputs": [],
   "source": [
    "tree1 <- ape::read.tree(file = strain_tree)\n",
    "tree1 <- phytools::midpoint.root(tree1)\n",
    "\n",
    "tree1 <- compute.brlen(tree1)\n",
    "\n",
    "tree2 <- ape::read.tree(file = plasmid_tree)\n",
    "tree2 <- phytools::midpoint.root(tree2)\n",
    "\n",
    "tree2 <- compute.brlen(tree2)\n",
    "\n",
    "dend1<- as.dendrogram(tree1)\n",
    "dend2<- as.dendrogram(tree2)\n",
    "\n",
    "dend1 <- set(   dend1,   what = c( \"labels_to_character\"), ) \n",
    "dend2 <- set(   dend2,   what = c( \"labels_to_character\"), ) "
   ]
  },
  {
   "cell_type": "code",
   "execution_count": null,
   "id": "6aefd8ce-7547-4192-8c65-a4dc7b1fa0da",
   "metadata": {},
   "outputs": [],
   "source": [
    "#k\n",
    "k_mlst<-read.csv(paste0(tangle_dir,'k_all.MLST.tab'),header=FALSE,sep='\\t')\n",
    "\n",
    "\n",
    "\n",
    "labels_dend1 <- as.data.frame(labels(dend1))\n",
    "colnames(labels_dend1)[1]<-'labels'\n",
    "colnames(k_mlst)[1]<-'labels'\n",
    "colnames(k_mlst)[2]<-'ST'\n",
    "\n",
    "labels_dend1<-left_join(labels_dend1,k_mlst,by='labels')\n",
    "\n",
    "unique_ST <- data.frame(ST = unique(labels_dend1$ST))\n",
    "\n",
    "labels_dend1$labels<-as.character(labels_dend1$labels)\n",
    "#labels_dend1$ST<-as.character(labels_dend1$ST)\n",
    "head(labels_dend1)\n",
    "length(unique(labels_dend1$ST))"
   ]
  },
  {
   "cell_type": "code",
   "execution_count": null,
   "id": "7fe57a73-a761-4dd6-be7a-124faeb1da2b",
   "metadata": {},
   "outputs": [],
   "source": [
    "#k\n",
    "set.seed(1128)\n",
    "#unique_ST$color <- distinctColorPalette(nrow(unique_ST))\n",
    "unique_ST$color <- sample(col_tan[1:108])"
   ]
  },
  {
   "cell_type": "code",
   "execution_count": null,
   "id": "adf92295-0c84-41e8-a827-d4c2a9af489e",
   "metadata": {},
   "outputs": [],
   "source": [
    "GCA_ST_color<-left_join(labels_dend1, unique_ST,by='ST')\n",
    "\n",
    "labels_dend2 <- as.data.frame(labels(dend2))\n",
    "\n",
    "colnames(labels_dend2)[1]<-'labels'\n",
    "\n",
    "ST_lab <- GCA_ST_color$ST\n",
    "ST_lab <- as.factor(ST_lab)\n",
    "levels(ST_lab) <- 1:length(levels(ST_lab))\n",
    "\n",
    "GCA_ST_color['factor']<-ST_lab\n",
    "\n",
    "GCA_ST_color2<-left_join(labels_dend2,GCA_ST_color,by=\"labels\")\n",
    "\n",
    "plasmid_ST <- GCA_ST_color2 %>%\n",
    "dplyr::group_by(ST)%>%\n",
    "dplyr::summarize(Count=n())\n",
    "\n",
    "plasmid_ST[order(-plasmid_ST$Count),]\n",
    "\n",
    "legend<-GCA_ST_color2 %>%\n",
    "dplyr::group_by(ST,color)%>%\n",
    "dplyr::summarize(Count = n())\n",
    "\n",
    "head(legend)"
   ]
  },
  {
   "cell_type": "code",
   "execution_count": null,
   "id": "dce03d7a-9064-407c-9256-99962aa63acb",
   "metadata": {},
   "outputs": [],
   "source": [
    "#k\n",
    "source_info<-unique(subset(k_predicted_plasmid_contigs,select=c('Assembly','Host','Location2')))\n",
    "\n",
    "\n",
    "\n",
    "head(source_info)\n",
    "\n",
    "unique_host <- data.frame(Host = unique(source_info$Host))\n",
    "unique_location <- data.frame(Location2 = unique(source_info$Location2))\n",
    "\n",
    "nrow(unique_host)\n",
    "\n",
    "nrow(unique_location)"
   ]
  },
  {
   "cell_type": "code",
   "execution_count": null,
   "id": "796435a6-d3e6-4bc5-8def-b2639d89f5dd",
   "metadata": {},
   "outputs": [],
   "source": [
    "#k\n",
    "#unique_host$colors_ho<-cols_ho_lo[1:12]\n",
    "unique_host$colors_ho<-col_tan[193:200]\n",
    "\n",
    "\n",
    "\n",
    "unique_host\n",
    "\n",
    "\n",
    "#k\n",
    "unique_location$colors_lo<-col_tan[201:206]\n",
    "\n",
    "\n",
    "\n",
    "unique_location\n",
    "\n",
    "source_info<-left_join(source_info,unique_host,by='Host')\n",
    "\n",
    "source_info<-left_join(source_info,unique_location,by='Location2')\n",
    "\n",
    "head(source_info)"
   ]
  },
  {
   "cell_type": "code",
   "execution_count": null,
   "id": "eef98f5d-1d35-4876-880e-82daf88e4479",
   "metadata": {},
   "outputs": [],
   "source": [
    "dend1 <- dend1 %>% set(\"labels_colors\", \"white\") %>% set(\"leaves_cex\", 0.5) %>% set(\"leaves_pch\", 19) %>% set(\"leaves_col\", GCA_ST_color[['color']])\n",
    "dend2 <- dend2 %>% set(\"labels_colors\", \"white\") %>% set(\"leaves_cex\", 0.5) %>% set(\"leaves_pch\", 19) %>% set(\"leaves_col\", GCA_ST_color2[['color']]) "
   ]
  },
  {
   "cell_type": "code",
   "execution_count": null,
   "id": "cb59db43-3dca-42b4-910c-a6f8c3cf7f43",
   "metadata": {},
   "outputs": [],
   "source": [
    "color_line<-left_join(GCA_ST_color,GCA_ST_color2,by='labels')$color.y\n",
    "color_lines<-color_line[!is.na(color_line)]\n",
    "\n",
    "lab_info<-source_info\n",
    "colnames(lab_info)[1]<-'labels'\n",
    "\n",
    "lab_info[,1]<-gsub('\\\\.[0-9]','',lab_info[,1])\n",
    "\n",
    "lab_info<-unique(lab_info)\n",
    "\n",
    "head(lab_info)"
   ]
  },
  {
   "cell_type": "code",
   "execution_count": null,
   "id": "574cfd31-f060-4b8f-a54a-fce481ade863",
   "metadata": {},
   "outputs": [],
   "source": [
    "bar1<-left_join(labels_dend1,unique(lab_info),by='labels')\n",
    "\n",
    "the_bar1<-subset(bar1,select=c('labels','colors_ho','colors_lo'))\n",
    "#the_bar1$Host<-as.factor(the_bar1$Host)\n",
    "#the_bar1$Location2<-as.factor(the_bar1$Location2)"
   ]
  },
  {
   "cell_type": "code",
   "execution_count": null,
   "id": "7d8da4d3-530b-4e96-8300-914571ad8a77",
   "metadata": {},
   "outputs": [],
   "source": [
    "labels_dend2 <- as.data.frame(labels(dend2))\n",
    "colnames(labels_dend2)[1]<-'labels'\n",
    "labels_dend2$labels<-as.character(labels_dend2$labels)\n",
    "\n",
    "bar2<-left_join(labels_dend2,unique(bar1),by='labels')\n",
    "\n",
    "the_bar2<-subset(bar2,select=c('labels','colors_ho','colors_lo'))\n",
    "\n",
    "#the_bar2$Host<-as.factor(the_bar2$Host)\n",
    "#the_bar2$Location2<-as.factor(the_bar2$Location2)\n",
    "\n",
    "#rownames(the_bar1)<-the_bar1[,1]\n",
    "#rownames(the_bar2)<-the_bar2[,1]\n",
    "\n",
    "#bar1_matrix<-data.matrix(the_bar1[,2:3],rownames.force = NA)\n",
    "#bar2_matrix<-data.matrix(the_bar2[,2:3],rownames.force = NA)\n",
    "\n",
    "#dim(bar1_matrix)"
   ]
  },
  {
   "cell_type": "code",
   "execution_count": null,
   "id": "a16e05e3-6cd0-492f-a923-f1c09e858f05",
   "metadata": {},
   "outputs": [],
   "source": [
    "par(mar = c(4,4,4,6))\n",
    "plot(dend2, horiz = TRUE,axes=FALSE)\n",
    "colored_bars(colors = the_bar2[,3:2], dend = dend2,horiz = TRUE,y_shift = 0.1,sort_by_labels_order = FALSE)\n",
    "#dev.copy(pdf, 'output/k_incfii_dend2_1.pdf', width = 10, height = 11)\n",
    "#dev.off()\n",
    "\n",
    "#the_bar1_corrected[which(the_bar1_corrected=='GCA_009394145'),]\n",
    "#the_bar2[which(the_bar2$labels=='GCA_001893245'),]\n",
    "\n",
    "bar2 %>%\n",
    "dplyr::group_by(Location2) %>%\n",
    "dplyr::summarize(Count=n())"
   ]
  },
  {
   "cell_type": "code",
   "execution_count": null,
   "id": "d288a856-79b2-4106-8568-1deaa850ba0d",
   "metadata": {},
   "outputs": [],
   "source": [
    "inter_list<-intersect_trees(dend1, dend2)"
   ]
  },
  {
   "cell_type": "code",
   "execution_count": null,
   "id": "7c8cd491-bc8f-4cef-a33d-62b3c0a2a685",
   "metadata": {},
   "outputs": [],
   "source": [
    "dend1_corrected<-inter_list[[1]]\n",
    "\n",
    "labels_dend1_corrected<-as.data.frame(labels(dend1_corrected))\n",
    "colnames(labels_dend1_corrected)[1]<-'labels'\n",
    "\n",
    "bar1_corrected<-left_join(labels_dend1_corrected,unique(bar1),by='labels')\n",
    "\n",
    "the_bar1_corrected<-subset(bar1_corrected,select=c('labels','colors_ho','colors_lo'))\n",
    "\n",
    "rownames(the_bar1_corrected)<-the_bar1_corrected[,1]\n",
    "\n",
    "#bar1_corrected_matrix<-data.matrix(the_bar1_corrected[,2:3],rownames.force = NA)"
   ]
  },
  {
   "cell_type": "code",
   "execution_count": null,
   "id": "ff1efa5d-f0a4-4b07-93da-ab764142fb8c",
   "metadata": {},
   "outputs": [],
   "source": [
    "par(mar = c(4,4,4,6))\n",
    "plot(dend1_corrected, horiz = TRUE,axes=FALSE)\n",
    "colored_bars(colors = the_bar1_corrected[,2:3], dend = dend1_corrected,horiz = TRUE,y_shift = 0.1,sort_by_labels_order = FALSE)\n",
    "#dev.copy(pdf, 'output/k_incfii.1_dend1_corrected.pdf', width = 10, height = 11)\n",
    "#dev.off()"
   ]
  },
  {
   "cell_type": "code",
   "execution_count": null,
   "id": "716c40da-a5ef-4734-9c9b-eb461b512a56",
   "metadata": {},
   "outputs": [],
   "source": [
    "dendextend::tanglegram(dend1_corrected,dend2, \n",
    "                       margin_inner = 5,\n",
    "                       #lab.cex = 0.3, \n",
    "                       lwd = 0.5, edge.lwd = 0.5, type = \"r\",\n",
    "                       axes=FALSE,\n",
    "                       highlight_distinct_edges = FALSE,\n",
    "                       highlight_branches_lwd = FALSE,\n",
    "                       color_lines=color_lines,\n",
    "                       common_subtrees_color_lines = FALSE)\n",
    "legend(\"left\", legend = legend[['ST']], fill = legend[['color']],cex=0.4)\n",
    "#colored_bars(colors = bar2_matrix, dend = dend2,horiz = TRUE,y_shift = 0.1)\n",
    "#colored_bars(colors = bar1_corrected_matrix, dend = dend1_corrected,horiz = TRUE,y_shift = 0.1)\n",
    "#dev.copy(pdf, 'output/k_incfii.1_tangle.pdf', width = 10, height = 11)\n",
    "#dev.off()"
   ]
  },
  {
   "cell_type": "code",
   "execution_count": null,
   "id": "4a9fc363-7fc4-48c6-9f6f-f591807f2c48",
   "metadata": {},
   "outputs": [],
   "source": [
    "vcf_file_7='./input/tangle/k_plasmid_incx3.vcf'"
   ]
  },
  {
   "cell_type": "code",
   "execution_count": null,
   "id": "b3336a6d-c0b0-4933-a101-ab55afab3484",
   "metadata": {},
   "outputs": [],
   "source": [
    "ndm_vcf_7 <- read.vcfR(vcf_file_7)\n",
    "ndm_pl_gd_7 <- vcfR2genind(ndm_vcf_7)\n",
    "ndm_pl_gd_7"
   ]
  },
  {
   "cell_type": "code",
   "execution_count": null,
   "id": "e7683133-29d0-40db-ac48-99949420f668",
   "metadata": {
    "tags": []
   },
   "outputs": [],
   "source": [
    "ndm_pl_gd_ind_7<-as.data.frame(indNames(ndm_pl_gd_7))\n",
    "\n",
    "colnames(ndm_pl_gd_ind_7)<-'labels'\n",
    "ndm_pl_pop_7<-left_join(ndm_pl_gd_ind_7,unique(k_mlst),by='labels')\n",
    "\n",
    "#ndm_pl_pop[which((ndm_pl_pop$Host=='Pet') | (ndm_pl_pop$Host=='Poultry') | (ndm_pl_pop$Host=='Swine')),]$Host<-'Animals'\n",
    "#ndm_pl_pop[which(!(ndm_pl_pop$Host=='Homo sapiens')),]$Host<-'Others'"
   ]
  },
  {
   "cell_type": "code",
   "execution_count": null,
   "id": "35ec3075-b03c-4582-9a75-6318c2bfe592",
   "metadata": {
    "tags": []
   },
   "outputs": [],
   "source": [
    "pop(ndm_pl_gd_7)<-ndm_pl_pop_7$ST\n",
    "\n",
    "pops<-pop(ndm_pl_gd_7)\n",
    "\n",
    "pops"
   ]
  },
  {
   "cell_type": "code",
   "execution_count": null,
   "id": "cae414b2-9f6e-411b-b1eb-66881f866166",
   "metadata": {},
   "outputs": [],
   "source": [
    "myDiff_e <- pairwise_genetic_diff(ndm_vcf_7, pops=pops, method = \"nei\")"
   ]
  },
  {
   "cell_type": "code",
   "execution_count": null,
   "id": "b8e084f2-5f8e-4c3b-9855-d0cc9ce046e0",
   "metadata": {},
   "outputs": [],
   "source": [
    "head(myDiff_e[,1:15])"
   ]
  },
  {
   "cell_type": "code",
   "execution_count": null,
   "id": "db44a9f3-5afc-4b93-b0ad-86984b6fc7ac",
   "metadata": {},
   "outputs": [],
   "source": [
    "colmeans<-colMeans(myDiff_e[,c(4:ncol(myDiff_e))], na.rm = TRUE)"
   ]
  },
  {
   "cell_type": "code",
   "execution_count": null,
   "id": "bdfd3328-5eb2-4323-b057-58ca093e45bf",
   "metadata": {},
   "outputs": [],
   "source": [
    "colmeans<-as.data.frame(colmeans)"
   ]
  },
  {
   "cell_type": "code",
   "execution_count": null,
   "id": "94a1cbd8-7234-4f29-9f5d-83a6f153e925",
   "metadata": {
    "tags": []
   },
   "outputs": [],
   "source": [
    "V1<-colnames(colmeans)"
   ]
  },
  {
   "cell_type": "code",
   "execution_count": null,
   "id": "31e5fb70-001d-4cc9-a37a-558bec53e4a7",
   "metadata": {},
   "outputs": [],
   "source": [
    "colmeans2<-cbind(V1,colmeans)"
   ]
  },
  {
   "cell_type": "code",
   "execution_count": null,
   "id": "5c0128c8-9437-40d8-ada4-b4412d42de8e",
   "metadata": {},
   "outputs": [],
   "source": [
    "colmeans3<-na.omit(colmeans2[seq(1,nrow(colmeans2),2),])"
   ]
  },
  {
   "cell_type": "code",
   "execution_count": null,
   "id": "4a0eab6d-2450-4c3a-b06d-0d207d86d272",
   "metadata": {},
   "outputs": [],
   "source": [
    "head(colmeans3)"
   ]
  },
  {
   "cell_type": "code",
   "execution_count": null,
   "id": "c7d5b9d2-99a5-4447-9f8c-6a733b242254",
   "metadata": {},
   "outputs": [],
   "source": [
    "colmeans3[which(colmeans3$colmeans == min(colmeans3$colmeans)),]"
   ]
  },
  {
   "cell_type": "code",
   "execution_count": null,
   "id": "0abde645-5919-47c7-a7a5-29f500b48658",
   "metadata": {},
   "outputs": [],
   "source": [
    "nrow(colmeans3[which(colmeans3$colmeans==1),])"
   ]
  },
  {
   "cell_type": "code",
   "execution_count": null,
   "id": "c93bc5f9-f9ce-4358-87ea-724ec3180125",
   "metadata": {},
   "outputs": [],
   "source": [
    "select2<-as.character(ndm_pl_pop_7[which(ndm_pl_pop_7$ST %in% c('ST11')),][['labels']])"
   ]
  },
  {
   "cell_type": "code",
   "execution_count": null,
   "id": "a06d28e0-7610-4346-a8f8-cc4d0cdd0312",
   "metadata": {},
   "outputs": [],
   "source": [
    "select2"
   ]
  },
  {
   "cell_type": "code",
   "execution_count": null,
   "id": "64eba85e-8b1e-4db3-8015-056b3f8fa66a",
   "metadata": {},
   "outputs": [],
   "source": [
    "adat<-read.table('./input/tangle/k_plasmid_incx3.vcf')"
   ]
  },
  {
   "cell_type": "code",
   "execution_count": null,
   "id": "55552709-8827-4c6b-83e9-ef1dc46950ea",
   "metadata": {},
   "outputs": [],
   "source": [
    "adat<-adat[,c(10:ncol(adat))]\n",
    "colnames(adat)<-indNames(ndm_pl_gd_7)"
   ]
  },
  {
   "cell_type": "code",
   "execution_count": null,
   "id": "45b99d8c-f2de-4922-93a0-19633aa62028",
   "metadata": {},
   "outputs": [],
   "source": [
    "adat<-adat[,select2]"
   ]
  },
  {
   "cell_type": "code",
   "execution_count": null,
   "id": "5d7aba40-7293-40c5-9341-03a71e365f61",
   "metadata": {},
   "outputs": [],
   "source": [
    "nm1 <- outer(colnames(adat), colnames(adat), paste, sep=\"_\")\n",
    "indx1 <-  which(lower.tri(nm1, diag=TRUE))\n",
    "res <- outer(1:ncol(adat), 1:ncol(adat), \n",
    "              function(x,y) adat[,x]-adat[,y])\n",
    "colnames(res) <- nm1\n",
    "res1 <- res[-indx1]\n",
    "dim(res1)"
   ]
  },
  {
   "cell_type": "code",
   "execution_count": null,
   "id": "354a199d-5a9c-4b7d-9db5-994133e9210f",
   "metadata": {},
   "outputs": [],
   "source": [
    "colsums<-colSums(abs(res1))"
   ]
  },
  {
   "cell_type": "code",
   "execution_count": null,
   "id": "7b964260-b270-46c2-901c-8cea95fe4956",
   "metadata": {},
   "outputs": [],
   "source": [
    "max(colsums)"
   ]
  },
  {
   "cell_type": "markdown",
   "id": "c93e8c1a-ff1f-4f15-bf15-8404603a47c6",
   "metadata": {},
   "source": [
    "# gene context"
   ]
  },
  {
   "cell_type": "code",
   "execution_count": null,
   "id": "30038a95-9101-4151-9ef8-538cc38f814a",
   "metadata": {},
   "outputs": [],
   "source": [
    "library(ggplot2)\n",
    "library(gggenes)"
   ]
  },
  {
   "cell_type": "code",
   "execution_count": null,
   "id": "1d94d563-9dfb-48b2-ae71-63377e8fd337",
   "metadata": {},
   "outputs": [],
   "source": [
    "CTX <- read.csv(\"./input/aroundNDM85selected.csv\", row.names=NULL)"
   ]
  },
  {
   "cell_type": "code",
   "execution_count": null,
   "id": "aad86591-5af2-457e-a2e3-fc1c97f97421",
   "metadata": {},
   "outputs": [],
   "source": [
    "CTX$strand <- CTX$strand == \"+\""
   ]
  },
  {
   "cell_type": "code",
   "execution_count": null,
   "id": "bf9cc985-5775-4fe7-b56c-1de5a935d4c8",
   "metadata": {},
   "outputs": [],
   "source": [
    "head(CTX)"
   ]
  },
  {
   "cell_type": "code",
   "execution_count": null,
   "id": "ba0dc9d8-7083-43dd-a7d2-8aa7b31b6ce0",
   "metadata": {},
   "outputs": [],
   "source": [
    "CTX1 <- make_alignment_dummies(\n",
    "  CTX, aes(xmin = start, xmax = stop, y = molecule, id = gene2),\n",
    "  on = c(\"blaNDM\"),side = \"left\")"
   ]
  },
  {
   "cell_type": "markdown",
   "id": "d5273921-e966-4a78-819b-309127edba33",
   "metadata": {
    "jupyter": {
     "outputs_hidden": true
    },
    "tags": []
   },
   "source": [
    "ggplot(CTX, aes(xmin = start, xmax = end, y = molecule, fill = gene)) +\n",
    "  geom_gene_arrow() +\n",
    "  geom_blank(data = CTX1) +\n",
    "  facet_wrap(~ molecule, scales = \"free\", ncol = 1) +\n",
    "  scale_fill_brewer(palette = \"Set3\") +\n",
    "  theme_genes()"
   ]
  },
  {
   "cell_type": "code",
   "execution_count": null,
   "id": "e0e946a9-290c-4873-98ad-bc5ddbc1c670",
   "metadata": {},
   "outputs": [],
   "source": [
    "colourCount = length(unique(CTX$gene2))"
   ]
  },
  {
   "cell_type": "code",
   "execution_count": null,
   "id": "c5e0205d-1f45-4b70-b0cf-cf2b33a8f267",
   "metadata": {},
   "outputs": [],
   "source": [
    "colourCount"
   ]
  },
  {
   "cell_type": "code",
   "execution_count": null,
   "id": "bd22c4fa-604e-4ffe-ac24-0f9be044b04d",
   "metadata": {},
   "outputs": [],
   "source": [
    "set.seed(09028)\n",
    "mycolors<-sample(color,44)"
   ]
  },
  {
   "cell_type": "code",
   "execution_count": null,
   "id": "23eec362-2e7a-4292-851a-d3c039b21ce7",
   "metadata": {},
   "outputs": [],
   "source": [
    "mycolors"
   ]
  },
  {
   "cell_type": "code",
   "execution_count": null,
   "id": "bfb4a73e-7d09-465e-9f35-79deb1a024b4",
   "metadata": {},
   "outputs": [],
   "source": [
    "p <- ggplot(CTX, aes(xmin = start, xmax = stop, y =molecule, fill = gene2,label=gene2,forward=strand)) +\n",
    "  geom_gene_arrow(arrowhead_height = unit(3, \"mm\"), arrowhead_width = unit(1, \"mm\")) +\n",
    "  geom_gene_label(align = \"left\") +\n",
    "  geom_blank(data = CTX1,aes(forward = 1)) +\n",
    "  facet_wrap(~ molecule, scales = \"free\", ncol = 1) +\n",
    "  scale_fill_manual(values=mycolors) +\n",
    "  theme_genes()\n",
    "\n",
    "\n",
    "ggsave(\"./output/09-05-se.pdf\",p, limitsize = FALSE,width = 10, height =10 )"
   ]
  },
  {
   "cell_type": "code",
   "execution_count": null,
   "id": "325bb650-3fb5-47d9-8273-57965b3f2efa",
   "metadata": {},
   "outputs": [],
   "source": []
  },
  {
   "cell_type": "markdown",
   "id": "b38ef7cc-cf06-46c8-8d6e-3fb025909131",
   "metadata": {},
   "source": [
    "# AMR co-network"
   ]
  },
  {
   "cell_type": "markdown",
   "id": "27ba2803-0e04-4302-a4d8-2121b4cd3806",
   "metadata": {},
   "source": [
    "#########python#########"
   ]
  },
  {
   "cell_type": "code",
   "execution_count": null,
   "id": "35426bcd-4f17-406b-95f6-1e9d4da83394",
   "metadata": {},
   "outputs": [],
   "source": []
  }
 ],
 "metadata": {
  "kernelspec": {
   "display_name": "R",
   "language": "R",
   "name": "ir"
  },
  "language_info": {
   "codemirror_mode": "r",
   "file_extension": ".r",
   "mimetype": "text/x-r-source",
   "name": "R",
   "pygments_lexer": "r",
   "version": "3.6.0"
  },
  "toc-autonumbering": true
 },
 "nbformat": 4,
 "nbformat_minor": 5
}
